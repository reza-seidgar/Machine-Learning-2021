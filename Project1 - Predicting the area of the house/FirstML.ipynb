{
  "nbformat": 4,
  "nbformat_minor": 0,
  "metadata": {
    "colab": {
      "name": "FirstML.ipynb",
      "provenance": [],
      "collapsed_sections": []
    },
    "kernelspec": {
      "name": "python3",
      "display_name": "Python 3"
    }
  },
  "cells": [
    {
      "cell_type": "code",
      "metadata": {
        "id": "G3WyMihPoZ57"
      },
      "source": [
        "import pandas as pd\r\n",
        "import numpy as np\r\n",
        "import seaborn as sns\r\n",
        "import matplotlib.pyplot as plt"
      ],
      "execution_count": 1,
      "outputs": []
    },
    {
      "cell_type": "code",
      "metadata": {
        "id": "0ZOdOf64o7Aw"
      },
      "source": [
        "!pip install -q kaggle"
      ],
      "execution_count": 2,
      "outputs": []
    },
    {
      "cell_type": "code",
      "metadata": {
        "colab": {
          "resources": {
            "http://localhost:8080/nbextensions/google.colab/files.js": {
              "data": "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",
              "ok": true,
              "headers": [
                [
                  "content-type",
                  "application/javascript"
                ]
              ],
              "status": 200,
              "status_text": "OK"
            }
          },
          "base_uri": "https://localhost:8080/",
          "height": 94
        },
        "id": "P8meBG_mtzze",
        "outputId": "5b8f7923-f6f2-4585-8859-cd856418a25a"
      },
      "source": [
        "from google.colab import files\r\n",
        "files.upload()"
      ],
      "execution_count": 3,
      "outputs": [
        {
          "output_type": "display_data",
          "data": {
            "text/html": [
              "\n",
              "     <input type=\"file\" id=\"files-b0830393-46d8-4921-8ea7-73c8ffb3e5b8\" name=\"files[]\" multiple disabled\n",
              "        style=\"border:none\" />\n",
              "     <output id=\"result-b0830393-46d8-4921-8ea7-73c8ffb3e5b8\">\n",
              "      Upload widget is only available when the cell has been executed in the\n",
              "      current browser session. Please rerun this cell to enable.\n",
              "      </output>\n",
              "      <script src=\"/nbextensions/google.colab/files.js\"></script> "
            ],
            "text/plain": [
              "<IPython.core.display.HTML object>"
            ]
          },
          "metadata": {
            "tags": []
          }
        },
        {
          "output_type": "stream",
          "text": [
            "Saving kaggle.json to kaggle.json\n"
          ],
          "name": "stdout"
        },
        {
          "output_type": "execute_result",
          "data": {
            "text/plain": [
              "{'kaggle.json': b'{\"username\":\"rezaseidgar\",\"key\":\"87df51df3f17e77c3e0b2e4a2b031614\"}'}"
            ]
          },
          "metadata": {
            "tags": []
          },
          "execution_count": 3
        }
      ]
    },
    {
      "cell_type": "code",
      "metadata": {
        "id": "q5x7QWc0uRb7"
      },
      "source": [
        "!mkdir ~/.kaggle\r\n",
        "!cp kaggle.json ~/.kaggle/"
      ],
      "execution_count": 4,
      "outputs": []
    },
    {
      "cell_type": "code",
      "metadata": {
        "id": "ZIktSN57uYvw"
      },
      "source": [
        "!chmod 600 ~/.kaggle/kaggle.json"
      ],
      "execution_count": 5,
      "outputs": []
    },
    {
      "cell_type": "code",
      "metadata": {
        "colab": {
          "base_uri": "https://localhost:8080/"
        },
        "id": "2PmY6f1luasd",
        "outputId": "aa46a9b9-07a2-4517-843a-6025ba3bcef6"
      },
      "source": [
        "!kaggle datasets download -d corrieaar/apartment-rental-offers-in-germany"
      ],
      "execution_count": 6,
      "outputs": [
        {
          "output_type": "stream",
          "text": [
            "Downloading apartment-rental-offers-in-germany.zip to /content\n",
            " 95% 88.0M/93.0M [00:00<00:00, 106MB/s] \n",
            "100% 93.0M/93.0M [00:00<00:00, 106MB/s]\n"
          ],
          "name": "stdout"
        }
      ]
    },
    {
      "cell_type": "code",
      "metadata": {
        "colab": {
          "base_uri": "https://localhost:8080/"
        },
        "id": "V_bdDKcwuc30",
        "outputId": "d8f8e0d0-803b-4f82-f4e0-0e0a6337496b"
      },
      "source": [
        "!ls"
      ],
      "execution_count": 7,
      "outputs": [
        {
          "output_type": "stream",
          "text": [
            "apartment-rental-offers-in-germany.zip\tkaggle.json  sample_data\n"
          ],
          "name": "stdout"
        }
      ]
    },
    {
      "cell_type": "code",
      "metadata": {
        "colab": {
          "base_uri": "https://localhost:8080/"
        },
        "id": "pO7kxcB7ufN7",
        "outputId": "5d1180df-b908-4e09-8756-96070c00faa2"
      },
      "source": [
        "!unzip '/content/apartment-rental-offers-in-germany.zip' -d '/content/'"
      ],
      "execution_count": 8,
      "outputs": [
        {
          "output_type": "stream",
          "text": [
            "Archive:  /content/apartment-rental-offers-in-germany.zip\n",
            "  inflating: /content/immo_data.csv  \n"
          ],
          "name": "stdout"
        }
      ]
    },
    {
      "cell_type": "code",
      "metadata": {
        "colab": {
          "base_uri": "https://localhost:8080/",
          "height": 504
        },
        "id": "xe-NOgOAuhU2",
        "outputId": "c979b9c8-d06e-490f-f642-137dada0453a"
      },
      "source": [
        "data = pd.read_csv('/content/immo_data.csv')\r\n",
        "data.head()"
      ],
      "execution_count": 9,
      "outputs": [
        {
          "output_type": "execute_result",
          "data": {
            "text/html": [
              "<div>\n",
              "<style scoped>\n",
              "    .dataframe tbody tr th:only-of-type {\n",
              "        vertical-align: middle;\n",
              "    }\n",
              "\n",
              "    .dataframe tbody tr th {\n",
              "        vertical-align: top;\n",
              "    }\n",
              "\n",
              "    .dataframe thead th {\n",
              "        text-align: right;\n",
              "    }\n",
              "</style>\n",
              "<table border=\"1\" class=\"dataframe\">\n",
              "  <thead>\n",
              "    <tr style=\"text-align: right;\">\n",
              "      <th></th>\n",
              "      <th>regio1</th>\n",
              "      <th>serviceCharge</th>\n",
              "      <th>heatingType</th>\n",
              "      <th>telekomTvOffer</th>\n",
              "      <th>telekomHybridUploadSpeed</th>\n",
              "      <th>newlyConst</th>\n",
              "      <th>balcony</th>\n",
              "      <th>picturecount</th>\n",
              "      <th>pricetrend</th>\n",
              "      <th>telekomUploadSpeed</th>\n",
              "      <th>totalRent</th>\n",
              "      <th>yearConstructed</th>\n",
              "      <th>scoutId</th>\n",
              "      <th>noParkSpaces</th>\n",
              "      <th>firingTypes</th>\n",
              "      <th>hasKitchen</th>\n",
              "      <th>geo_bln</th>\n",
              "      <th>cellar</th>\n",
              "      <th>yearConstructedRange</th>\n",
              "      <th>baseRent</th>\n",
              "      <th>houseNumber</th>\n",
              "      <th>livingSpace</th>\n",
              "      <th>geo_krs</th>\n",
              "      <th>condition</th>\n",
              "      <th>interiorQual</th>\n",
              "      <th>petsAllowed</th>\n",
              "      <th>street</th>\n",
              "      <th>streetPlain</th>\n",
              "      <th>lift</th>\n",
              "      <th>baseRentRange</th>\n",
              "      <th>typeOfFlat</th>\n",
              "      <th>geo_plz</th>\n",
              "      <th>noRooms</th>\n",
              "      <th>thermalChar</th>\n",
              "      <th>floor</th>\n",
              "      <th>numberOfFloors</th>\n",
              "      <th>noRoomsRange</th>\n",
              "      <th>garden</th>\n",
              "      <th>livingSpaceRange</th>\n",
              "      <th>regio2</th>\n",
              "      <th>regio3</th>\n",
              "      <th>description</th>\n",
              "      <th>facilities</th>\n",
              "      <th>heatingCosts</th>\n",
              "      <th>energyEfficiencyClass</th>\n",
              "      <th>lastRefurbish</th>\n",
              "      <th>electricityBasePrice</th>\n",
              "      <th>electricityKwhPrice</th>\n",
              "      <th>date</th>\n",
              "    </tr>\n",
              "  </thead>\n",
              "  <tbody>\n",
              "    <tr>\n",
              "      <th>0</th>\n",
              "      <td>Nordrhein_Westfalen</td>\n",
              "      <td>245.00</td>\n",
              "      <td>central_heating</td>\n",
              "      <td>ONE_YEAR_FREE</td>\n",
              "      <td>NaN</td>\n",
              "      <td>False</td>\n",
              "      <td>False</td>\n",
              "      <td>6</td>\n",
              "      <td>4.62</td>\n",
              "      <td>10.0</td>\n",
              "      <td>840.0</td>\n",
              "      <td>1965.0</td>\n",
              "      <td>96107057</td>\n",
              "      <td>1.0</td>\n",
              "      <td>oil</td>\n",
              "      <td>False</td>\n",
              "      <td>Nordrhein_Westfalen</td>\n",
              "      <td>True</td>\n",
              "      <td>2.0</td>\n",
              "      <td>595.0</td>\n",
              "      <td>244</td>\n",
              "      <td>86.00</td>\n",
              "      <td>Dortmund</td>\n",
              "      <td>well_kept</td>\n",
              "      <td>normal</td>\n",
              "      <td>NaN</td>\n",
              "      <td>Sch&amp;uuml;ruferstra&amp;szlig;e</td>\n",
              "      <td>Schüruferstraße</td>\n",
              "      <td>False</td>\n",
              "      <td>4</td>\n",
              "      <td>ground_floor</td>\n",
              "      <td>44269</td>\n",
              "      <td>4.0</td>\n",
              "      <td>181.4</td>\n",
              "      <td>1.0</td>\n",
              "      <td>3.0</td>\n",
              "      <td>4</td>\n",
              "      <td>True</td>\n",
              "      <td>4</td>\n",
              "      <td>Dortmund</td>\n",
              "      <td>Schüren</td>\n",
              "      <td>Die ebenerdig zu erreichende Erdgeschosswohnun...</td>\n",
              "      <td>Die Wohnung ist mit Laminat ausgelegt. Das Bad...</td>\n",
              "      <td>NaN</td>\n",
              "      <td>NaN</td>\n",
              "      <td>NaN</td>\n",
              "      <td>NaN</td>\n",
              "      <td>NaN</td>\n",
              "      <td>May19</td>\n",
              "    </tr>\n",
              "    <tr>\n",
              "      <th>1</th>\n",
              "      <td>Rheinland_Pfalz</td>\n",
              "      <td>134.00</td>\n",
              "      <td>self_contained_central_heating</td>\n",
              "      <td>ONE_YEAR_FREE</td>\n",
              "      <td>NaN</td>\n",
              "      <td>False</td>\n",
              "      <td>True</td>\n",
              "      <td>8</td>\n",
              "      <td>3.47</td>\n",
              "      <td>10.0</td>\n",
              "      <td>NaN</td>\n",
              "      <td>1871.0</td>\n",
              "      <td>111378734</td>\n",
              "      <td>2.0</td>\n",
              "      <td>gas</td>\n",
              "      <td>False</td>\n",
              "      <td>Rheinland_Pfalz</td>\n",
              "      <td>False</td>\n",
              "      <td>1.0</td>\n",
              "      <td>800.0</td>\n",
              "      <td>NaN</td>\n",
              "      <td>89.00</td>\n",
              "      <td>Rhein_Pfalz_Kreis</td>\n",
              "      <td>refurbished</td>\n",
              "      <td>normal</td>\n",
              "      <td>no</td>\n",
              "      <td>no_information</td>\n",
              "      <td>NaN</td>\n",
              "      <td>False</td>\n",
              "      <td>5</td>\n",
              "      <td>ground_floor</td>\n",
              "      <td>67459</td>\n",
              "      <td>3.0</td>\n",
              "      <td>NaN</td>\n",
              "      <td>NaN</td>\n",
              "      <td>NaN</td>\n",
              "      <td>3</td>\n",
              "      <td>False</td>\n",
              "      <td>4</td>\n",
              "      <td>Rhein_Pfalz_Kreis</td>\n",
              "      <td>Böhl_Iggelheim</td>\n",
              "      <td>Alles neu macht der Mai – so kann es auch für ...</td>\n",
              "      <td>NaN</td>\n",
              "      <td>NaN</td>\n",
              "      <td>NaN</td>\n",
              "      <td>2019.0</td>\n",
              "      <td>NaN</td>\n",
              "      <td>NaN</td>\n",
              "      <td>May19</td>\n",
              "    </tr>\n",
              "    <tr>\n",
              "      <th>2</th>\n",
              "      <td>Sachsen</td>\n",
              "      <td>255.00</td>\n",
              "      <td>floor_heating</td>\n",
              "      <td>ONE_YEAR_FREE</td>\n",
              "      <td>10.0</td>\n",
              "      <td>True</td>\n",
              "      <td>True</td>\n",
              "      <td>8</td>\n",
              "      <td>2.72</td>\n",
              "      <td>2.4</td>\n",
              "      <td>1300.0</td>\n",
              "      <td>2019.0</td>\n",
              "      <td>113147523</td>\n",
              "      <td>1.0</td>\n",
              "      <td>NaN</td>\n",
              "      <td>False</td>\n",
              "      <td>Sachsen</td>\n",
              "      <td>True</td>\n",
              "      <td>9.0</td>\n",
              "      <td>965.0</td>\n",
              "      <td>4</td>\n",
              "      <td>83.80</td>\n",
              "      <td>Dresden</td>\n",
              "      <td>first_time_use</td>\n",
              "      <td>sophisticated</td>\n",
              "      <td>NaN</td>\n",
              "      <td>Turnerweg</td>\n",
              "      <td>Turnerweg</td>\n",
              "      <td>True</td>\n",
              "      <td>6</td>\n",
              "      <td>apartment</td>\n",
              "      <td>1097</td>\n",
              "      <td>3.0</td>\n",
              "      <td>NaN</td>\n",
              "      <td>3.0</td>\n",
              "      <td>4.0</td>\n",
              "      <td>3</td>\n",
              "      <td>False</td>\n",
              "      <td>4</td>\n",
              "      <td>Dresden</td>\n",
              "      <td>Äußere_Neustadt_Antonstadt</td>\n",
              "      <td>Der Neubau entsteht im Herzen der Dresdner Neu...</td>\n",
              "      <td>* 9 m² Balkon\\n* Bad mit bodengleicher Dusche,...</td>\n",
              "      <td>NaN</td>\n",
              "      <td>NaN</td>\n",
              "      <td>NaN</td>\n",
              "      <td>NaN</td>\n",
              "      <td>NaN</td>\n",
              "      <td>Oct19</td>\n",
              "    </tr>\n",
              "    <tr>\n",
              "      <th>3</th>\n",
              "      <td>Sachsen</td>\n",
              "      <td>58.15</td>\n",
              "      <td>district_heating</td>\n",
              "      <td>ONE_YEAR_FREE</td>\n",
              "      <td>NaN</td>\n",
              "      <td>False</td>\n",
              "      <td>True</td>\n",
              "      <td>9</td>\n",
              "      <td>1.53</td>\n",
              "      <td>40.0</td>\n",
              "      <td>NaN</td>\n",
              "      <td>1964.0</td>\n",
              "      <td>108890903</td>\n",
              "      <td>NaN</td>\n",
              "      <td>district_heating</td>\n",
              "      <td>False</td>\n",
              "      <td>Sachsen</td>\n",
              "      <td>False</td>\n",
              "      <td>2.0</td>\n",
              "      <td>343.0</td>\n",
              "      <td>35</td>\n",
              "      <td>58.15</td>\n",
              "      <td>Mittelsachsen_Kreis</td>\n",
              "      <td>NaN</td>\n",
              "      <td>NaN</td>\n",
              "      <td>NaN</td>\n",
              "      <td>Gl&amp;uuml;ck-Auf-Stra&amp;szlig;e</td>\n",
              "      <td>Glück-Auf-Straße</td>\n",
              "      <td>False</td>\n",
              "      <td>2</td>\n",
              "      <td>other</td>\n",
              "      <td>9599</td>\n",
              "      <td>3.0</td>\n",
              "      <td>86.0</td>\n",
              "      <td>3.0</td>\n",
              "      <td>NaN</td>\n",
              "      <td>3</td>\n",
              "      <td>False</td>\n",
              "      <td>2</td>\n",
              "      <td>Mittelsachsen_Kreis</td>\n",
              "      <td>Freiberg</td>\n",
              "      <td>Abseits von Lärm und Abgasen in Ihre neue Wohn...</td>\n",
              "      <td>NaN</td>\n",
              "      <td>87.23</td>\n",
              "      <td>NaN</td>\n",
              "      <td>NaN</td>\n",
              "      <td>NaN</td>\n",
              "      <td>NaN</td>\n",
              "      <td>May19</td>\n",
              "    </tr>\n",
              "    <tr>\n",
              "      <th>4</th>\n",
              "      <td>Bremen</td>\n",
              "      <td>138.00</td>\n",
              "      <td>self_contained_central_heating</td>\n",
              "      <td>NaN</td>\n",
              "      <td>NaN</td>\n",
              "      <td>False</td>\n",
              "      <td>True</td>\n",
              "      <td>19</td>\n",
              "      <td>2.46</td>\n",
              "      <td>NaN</td>\n",
              "      <td>903.0</td>\n",
              "      <td>1950.0</td>\n",
              "      <td>114751222</td>\n",
              "      <td>NaN</td>\n",
              "      <td>gas</td>\n",
              "      <td>False</td>\n",
              "      <td>Bremen</td>\n",
              "      <td>False</td>\n",
              "      <td>1.0</td>\n",
              "      <td>765.0</td>\n",
              "      <td>10</td>\n",
              "      <td>84.97</td>\n",
              "      <td>Bremen</td>\n",
              "      <td>refurbished</td>\n",
              "      <td>NaN</td>\n",
              "      <td>NaN</td>\n",
              "      <td>Hermann-Henrich-Meier-Allee</td>\n",
              "      <td>Hermann-Henrich-Meier-Allee</td>\n",
              "      <td>False</td>\n",
              "      <td>5</td>\n",
              "      <td>apartment</td>\n",
              "      <td>28213</td>\n",
              "      <td>3.0</td>\n",
              "      <td>188.9</td>\n",
              "      <td>1.0</td>\n",
              "      <td>NaN</td>\n",
              "      <td>3</td>\n",
              "      <td>False</td>\n",
              "      <td>4</td>\n",
              "      <td>Bremen</td>\n",
              "      <td>Neu_Schwachhausen</td>\n",
              "      <td>Es handelt sich hier um ein saniertes Mehrfami...</td>\n",
              "      <td>Diese Wohnung wurde neu saniert und ist wie fo...</td>\n",
              "      <td>NaN</td>\n",
              "      <td>NaN</td>\n",
              "      <td>NaN</td>\n",
              "      <td>NaN</td>\n",
              "      <td>NaN</td>\n",
              "      <td>Feb20</td>\n",
              "    </tr>\n",
              "  </tbody>\n",
              "</table>\n",
              "</div>"
            ],
            "text/plain": [
              "                regio1  serviceCharge  ... electricityKwhPrice   date\n",
              "0  Nordrhein_Westfalen         245.00  ...                 NaN  May19\n",
              "1      Rheinland_Pfalz         134.00  ...                 NaN  May19\n",
              "2              Sachsen         255.00  ...                 NaN  Oct19\n",
              "3              Sachsen          58.15  ...                 NaN  May19\n",
              "4               Bremen         138.00  ...                 NaN  Feb20\n",
              "\n",
              "[5 rows x 49 columns]"
            ]
          },
          "metadata": {
            "tags": []
          },
          "execution_count": 9
        }
      ]
    },
    {
      "cell_type": "code",
      "metadata": {
        "colab": {
          "base_uri": "https://localhost:8080/"
        },
        "id": "2r_g_iViulVC",
        "outputId": "6db6602f-e985-4437-ed9d-8e401e3d4179"
      },
      "source": [
        "data.info()"
      ],
      "execution_count": 10,
      "outputs": [
        {
          "output_type": "stream",
          "text": [
            "<class 'pandas.core.frame.DataFrame'>\n",
            "RangeIndex: 268850 entries, 0 to 268849\n",
            "Data columns (total 49 columns):\n",
            " #   Column                    Non-Null Count   Dtype  \n",
            "---  ------                    --------------   -----  \n",
            " 0   regio1                    268850 non-null  object \n",
            " 1   serviceCharge             261941 non-null  float64\n",
            " 2   heatingType               223994 non-null  object \n",
            " 3   telekomTvOffer            236231 non-null  object \n",
            " 4   telekomHybridUploadSpeed  45020 non-null   float64\n",
            " 5   newlyConst                268850 non-null  bool   \n",
            " 6   balcony                   268850 non-null  bool   \n",
            " 7   picturecount              268850 non-null  int64  \n",
            " 8   pricetrend                267018 non-null  float64\n",
            " 9   telekomUploadSpeed        235492 non-null  float64\n",
            " 10  totalRent                 228333 non-null  float64\n",
            " 11  yearConstructed           211805 non-null  float64\n",
            " 12  scoutId                   268850 non-null  int64  \n",
            " 13  noParkSpaces              93052 non-null   float64\n",
            " 14  firingTypes               211886 non-null  object \n",
            " 15  hasKitchen                268850 non-null  bool   \n",
            " 16  geo_bln                   268850 non-null  object \n",
            " 17  cellar                    268850 non-null  bool   \n",
            " 18  yearConstructedRange      211805 non-null  float64\n",
            " 19  baseRent                  268850 non-null  float64\n",
            " 20  houseNumber               197832 non-null  object \n",
            " 21  livingSpace               268850 non-null  float64\n",
            " 22  geo_krs                   268850 non-null  object \n",
            " 23  condition                 200361 non-null  object \n",
            " 24  interiorQual              156185 non-null  object \n",
            " 25  petsAllowed               154277 non-null  object \n",
            " 26  street                    268850 non-null  object \n",
            " 27  streetPlain               197837 non-null  object \n",
            " 28  lift                      268850 non-null  bool   \n",
            " 29  baseRentRange             268850 non-null  int64  \n",
            " 30  typeOfFlat                232236 non-null  object \n",
            " 31  geo_plz                   268850 non-null  int64  \n",
            " 32  noRooms                   268850 non-null  float64\n",
            " 33  thermalChar               162344 non-null  float64\n",
            " 34  floor                     217541 non-null  float64\n",
            " 35  numberOfFloors            171118 non-null  float64\n",
            " 36  noRoomsRange              268850 non-null  int64  \n",
            " 37  garden                    268850 non-null  bool   \n",
            " 38  livingSpaceRange          268850 non-null  int64  \n",
            " 39  regio2                    268850 non-null  object \n",
            " 40  regio3                    268850 non-null  object \n",
            " 41  description               249103 non-null  object \n",
            " 42  facilities                215926 non-null  object \n",
            " 43  heatingCosts              85518 non-null   float64\n",
            " 44  energyEfficiencyClass     77787 non-null   object \n",
            " 45  lastRefurbish             80711 non-null   float64\n",
            " 46  electricityBasePrice      46846 non-null   float64\n",
            " 47  electricityKwhPrice       46846 non-null   float64\n",
            " 48  date                      268850 non-null  object \n",
            "dtypes: bool(6), float64(18), int64(6), object(19)\n",
            "memory usage: 89.7+ MB\n"
          ],
          "name": "stdout"
        }
      ]
    },
    {
      "cell_type": "code",
      "metadata": {
        "colab": {
          "base_uri": "https://localhost:8080/"
        },
        "id": "gjzOTyhX0k-w",
        "outputId": "f768f857-dee3-4f09-ee9b-f88e532a8a78"
      },
      "source": [
        "data.isna().sum()"
      ],
      "execution_count": 11,
      "outputs": [
        {
          "output_type": "execute_result",
          "data": {
            "text/plain": [
              "regio1                           0\n",
              "serviceCharge                 6909\n",
              "heatingType                  44856\n",
              "telekomTvOffer               32619\n",
              "telekomHybridUploadSpeed    223830\n",
              "newlyConst                       0\n",
              "balcony                          0\n",
              "picturecount                     0\n",
              "pricetrend                    1832\n",
              "telekomUploadSpeed           33358\n",
              "totalRent                    40517\n",
              "yearConstructed              57045\n",
              "scoutId                          0\n",
              "noParkSpaces                175798\n",
              "firingTypes                  56964\n",
              "hasKitchen                       0\n",
              "geo_bln                          0\n",
              "cellar                           0\n",
              "yearConstructedRange         57045\n",
              "baseRent                         0\n",
              "houseNumber                  71018\n",
              "livingSpace                      0\n",
              "geo_krs                          0\n",
              "condition                    68489\n",
              "interiorQual                112665\n",
              "petsAllowed                 114573\n",
              "street                           0\n",
              "streetPlain                  71013\n",
              "lift                             0\n",
              "baseRentRange                    0\n",
              "typeOfFlat                   36614\n",
              "geo_plz                          0\n",
              "noRooms                          0\n",
              "thermalChar                 106506\n",
              "floor                        51309\n",
              "numberOfFloors               97732\n",
              "noRoomsRange                     0\n",
              "garden                           0\n",
              "livingSpaceRange                 0\n",
              "regio2                           0\n",
              "regio3                           0\n",
              "description                  19747\n",
              "facilities                   52924\n",
              "heatingCosts                183332\n",
              "energyEfficiencyClass       191063\n",
              "lastRefurbish               188139\n",
              "electricityBasePrice        222004\n",
              "electricityKwhPrice         222004\n",
              "date                             0\n",
              "dtype: int64"
            ]
          },
          "metadata": {
            "tags": []
          },
          "execution_count": 11
        }
      ]
    },
    {
      "cell_type": "code",
      "metadata": {
        "colab": {
          "base_uri": "https://localhost:8080/"
        },
        "id": "yyk9m1NL1T1p",
        "outputId": "b8b1aedb-9e82-4410-c4fa-499cc8c54a7b"
      },
      "source": [
        "mask = ((data.isna().sum()/len(data)) > 0.5)\r\n",
        "data.columns[mask]"
      ],
      "execution_count": 12,
      "outputs": [
        {
          "output_type": "execute_result",
          "data": {
            "text/plain": [
              "Index(['telekomHybridUploadSpeed', 'noParkSpaces', 'heatingCosts',\n",
              "       'energyEfficiencyClass', 'lastRefurbish', 'electricityBasePrice',\n",
              "       'electricityKwhPrice'],\n",
              "      dtype='object')"
            ]
          },
          "metadata": {
            "tags": []
          },
          "execution_count": 12
        }
      ]
    },
    {
      "cell_type": "code",
      "metadata": {
        "colab": {
          "base_uri": "https://localhost:8080/"
        },
        "id": "ki79i6-P2LTZ",
        "outputId": "9475a381-6e2d-4065-a4c3-12c4a09fd4f6"
      },
      "source": [
        "data = data.drop(columns=data.columns[mask])\r\n",
        "data.columns"
      ],
      "execution_count": 13,
      "outputs": [
        {
          "output_type": "execute_result",
          "data": {
            "text/plain": [
              "Index(['regio1', 'serviceCharge', 'heatingType', 'telekomTvOffer',\n",
              "       'newlyConst', 'balcony', 'picturecount', 'pricetrend',\n",
              "       'telekomUploadSpeed', 'totalRent', 'yearConstructed', 'scoutId',\n",
              "       'firingTypes', 'hasKitchen', 'geo_bln', 'cellar',\n",
              "       'yearConstructedRange', 'baseRent', 'houseNumber', 'livingSpace',\n",
              "       'geo_krs', 'condition', 'interiorQual', 'petsAllowed', 'street',\n",
              "       'streetPlain', 'lift', 'baseRentRange', 'typeOfFlat', 'geo_plz',\n",
              "       'noRooms', 'thermalChar', 'floor', 'numberOfFloors', 'noRoomsRange',\n",
              "       'garden', 'livingSpaceRange', 'regio2', 'regio3', 'description',\n",
              "       'facilities', 'date'],\n",
              "      dtype='object')"
            ]
          },
          "metadata": {
            "tags": []
          },
          "execution_count": 13
        }
      ]
    },
    {
      "cell_type": "code",
      "metadata": {
        "colab": {
          "base_uri": "https://localhost:8080/"
        },
        "id": "a2SIGpmT2naV",
        "outputId": "2d02014b-538e-49f8-8e4d-433f38ec071a"
      },
      "source": [
        "data.columns.size"
      ],
      "execution_count": 14,
      "outputs": [
        {
          "output_type": "execute_result",
          "data": {
            "text/plain": [
              "42"
            ]
          },
          "metadata": {
            "tags": []
          },
          "execution_count": 14
        }
      ]
    },
    {
      "cell_type": "code",
      "metadata": {
        "colab": {
          "base_uri": "https://localhost:8080/"
        },
        "id": "slmlopPD4xES",
        "outputId": "fb469e32-0e94-4d2f-a785-e8921f6968ed"
      },
      "source": [
        "data = data.drop(columns=['scoutId','heatingType','newlyConst','yearConstructed'\r\n",
        "                          ,'firingTypes','yearConstructedRange','houseNumber','street'\r\n",
        "                          ,'lift','description','facilities','date'])\r\n",
        "data.shape"
      ],
      "execution_count": 15,
      "outputs": [
        {
          "output_type": "execute_result",
          "data": {
            "text/plain": [
              "(268850, 30)"
            ]
          },
          "metadata": {
            "tags": []
          },
          "execution_count": 15
        }
      ]
    },
    {
      "cell_type": "code",
      "metadata": {
        "colab": {
          "base_uri": "https://localhost:8080/"
        },
        "id": "bYcXXNvnPp5X",
        "outputId": "69a2f759-afc4-4501-80d2-f08cf4a75283"
      },
      "source": [
        "data._get_numeric_data().mean()"
      ],
      "execution_count": 16,
      "outputs": [
        {
          "output_type": "execute_result",
          "data": {
            "text/plain": [
              "serviceCharge           151.206113\n",
              "balcony                   0.616455\n",
              "picturecount              9.791958\n",
              "pricetrend                3.389001\n",
              "telekomUploadSpeed       28.804928\n",
              "totalRent               901.331522\n",
              "hasKitchen                0.342407\n",
              "cellar                    0.640636\n",
              "baseRent                694.129432\n",
              "livingSpace              74.355548\n",
              "baseRentRange             3.765256\n",
              "geo_plz               37283.022235\n",
              "noRooms                   2.641261\n",
              "thermalChar             114.749533\n",
              "floor                     2.122405\n",
              "numberOfFloors            3.572319\n",
              "noRoomsRange              2.571542\n",
              "garden                    0.196232\n",
              "livingSpaceRange          3.070790\n",
              "dtype: float64"
            ]
          },
          "metadata": {
            "tags": []
          },
          "execution_count": 16
        }
      ]
    },
    {
      "cell_type": "code",
      "metadata": {
        "id": "hzYT0fLrQS4b"
      },
      "source": [
        "data.fillna(data._get_numeric_data().mean(),inplace=True)"
      ],
      "execution_count": 17,
      "outputs": []
    },
    {
      "cell_type": "code",
      "metadata": {
        "colab": {
          "base_uri": "https://localhost:8080/"
        },
        "id": "viHx37_mQfBU",
        "outputId": "1aedbe77-a32a-454d-e319-40518e3d5cdd"
      },
      "source": [
        "data.isna().sum()"
      ],
      "execution_count": 18,
      "outputs": [
        {
          "output_type": "execute_result",
          "data": {
            "text/plain": [
              "regio1                     0\n",
              "serviceCharge              0\n",
              "telekomTvOffer         32619\n",
              "balcony                    0\n",
              "picturecount               0\n",
              "pricetrend                 0\n",
              "telekomUploadSpeed         0\n",
              "totalRent                  0\n",
              "hasKitchen                 0\n",
              "geo_bln                    0\n",
              "cellar                     0\n",
              "baseRent                   0\n",
              "livingSpace                0\n",
              "geo_krs                    0\n",
              "condition              68489\n",
              "interiorQual          112665\n",
              "petsAllowed           114573\n",
              "streetPlain            71013\n",
              "baseRentRange              0\n",
              "typeOfFlat             36614\n",
              "geo_plz                    0\n",
              "noRooms                    0\n",
              "thermalChar                0\n",
              "floor                      0\n",
              "numberOfFloors             0\n",
              "noRoomsRange               0\n",
              "garden                     0\n",
              "livingSpaceRange           0\n",
              "regio2                     0\n",
              "regio3                     0\n",
              "dtype: int64"
            ]
          },
          "metadata": {
            "tags": []
          },
          "execution_count": 18
        }
      ]
    },
    {
      "cell_type": "code",
      "metadata": {
        "id": "NzYeSI2YSdSU"
      },
      "source": [
        "for col in data.columns :\r\n",
        "  if data[col].dtype == 'int64' or data[col].dtype == 'float64':\r\n",
        "    up = data[col].mean() + 3*data[col].std()\r\n",
        "    low = data[col].mean() - 3*data[col].std()\r\n",
        "    mask = (data[col] > up ) | (data[col] < low )\r\n",
        "    data = data.drop(data[mask].index)"
      ],
      "execution_count": 19,
      "outputs": []
    },
    {
      "cell_type": "code",
      "metadata": {
        "id": "e1ZQM6jNShuP"
      },
      "source": [
        "y = data['livingSpace']"
      ],
      "execution_count": 20,
      "outputs": []
    },
    {
      "cell_type": "code",
      "metadata": {
        "colab": {
          "base_uri": "https://localhost:8080/"
        },
        "id": "3yQyoIhSXk-G",
        "outputId": "5714641a-2e70-4688-c3be-d47900bcc45a"
      },
      "source": [
        "y.head()"
      ],
      "execution_count": 21,
      "outputs": [
        {
          "output_type": "execute_result",
          "data": {
            "text/plain": [
              "0    86.00\n",
              "1    89.00\n",
              "2    83.80\n",
              "3    58.15\n",
              "4    84.97\n",
              "Name: livingSpace, dtype: float64"
            ]
          },
          "metadata": {
            "tags": []
          },
          "execution_count": 21
        }
      ]
    },
    {
      "cell_type": "code",
      "metadata": {
        "id": "R3Ck71k0VnxW"
      },
      "source": [
        "for col in data.columns :\r\n",
        "  if (data[col].dtype == 'int64' or data[col].dtype == 'float64') and (col !='livingSpace'):\r\n",
        "    data[col] = (data[col] - min(data[col])) /(max(data[col]) - min(data[col]))"
      ],
      "execution_count": 22,
      "outputs": []
    },
    {
      "cell_type": "code",
      "metadata": {
        "colab": {
          "base_uri": "https://localhost:8080/",
          "height": 278
        },
        "id": "rvNCz1KsdTQW",
        "outputId": "27dd4756-528a-46a2-e641-3fdce6a44db6"
      },
      "source": [
        "data.head()"
      ],
      "execution_count": 23,
      "outputs": [
        {
          "output_type": "execute_result",
          "data": {
            "text/html": [
              "<div>\n",
              "<style scoped>\n",
              "    .dataframe tbody tr th:only-of-type {\n",
              "        vertical-align: middle;\n",
              "    }\n",
              "\n",
              "    .dataframe tbody tr th {\n",
              "        vertical-align: top;\n",
              "    }\n",
              "\n",
              "    .dataframe thead th {\n",
              "        text-align: right;\n",
              "    }\n",
              "</style>\n",
              "<table border=\"1\" class=\"dataframe\">\n",
              "  <thead>\n",
              "    <tr style=\"text-align: right;\">\n",
              "      <th></th>\n",
              "      <th>regio1</th>\n",
              "      <th>serviceCharge</th>\n",
              "      <th>telekomTvOffer</th>\n",
              "      <th>balcony</th>\n",
              "      <th>picturecount</th>\n",
              "      <th>pricetrend</th>\n",
              "      <th>telekomUploadSpeed</th>\n",
              "      <th>totalRent</th>\n",
              "      <th>hasKitchen</th>\n",
              "      <th>geo_bln</th>\n",
              "      <th>cellar</th>\n",
              "      <th>baseRent</th>\n",
              "      <th>livingSpace</th>\n",
              "      <th>geo_krs</th>\n",
              "      <th>condition</th>\n",
              "      <th>interiorQual</th>\n",
              "      <th>petsAllowed</th>\n",
              "      <th>streetPlain</th>\n",
              "      <th>baseRentRange</th>\n",
              "      <th>typeOfFlat</th>\n",
              "      <th>geo_plz</th>\n",
              "      <th>noRooms</th>\n",
              "      <th>thermalChar</th>\n",
              "      <th>floor</th>\n",
              "      <th>numberOfFloors</th>\n",
              "      <th>noRoomsRange</th>\n",
              "      <th>garden</th>\n",
              "      <th>livingSpaceRange</th>\n",
              "      <th>regio2</th>\n",
              "      <th>regio3</th>\n",
              "    </tr>\n",
              "  </thead>\n",
              "  <tbody>\n",
              "    <tr>\n",
              "      <th>0</th>\n",
              "      <td>Nordrhein_Westfalen</td>\n",
              "      <td>0.231678</td>\n",
              "      <td>ONE_YEAR_FREE</td>\n",
              "      <td>False</td>\n",
              "      <td>0.206897</td>\n",
              "      <td>0.605465</td>\n",
              "      <td>0.230769</td>\n",
              "      <td>0.012993</td>\n",
              "      <td>False</td>\n",
              "      <td>Nordrhein_Westfalen</td>\n",
              "      <td>True</td>\n",
              "      <td>0.015179</td>\n",
              "      <td>86.00</td>\n",
              "      <td>Dortmund</td>\n",
              "      <td>well_kept</td>\n",
              "      <td>normal</td>\n",
              "      <td>NaN</td>\n",
              "      <td>Schüruferstraße</td>\n",
              "      <td>0.375</td>\n",
              "      <td>ground_floor</td>\n",
              "      <td>0.437910</td>\n",
              "      <td>0.333333</td>\n",
              "      <td>0.700812</td>\n",
              "      <td>0.166667</td>\n",
              "      <td>0.166667</td>\n",
              "      <td>0.75</td>\n",
              "      <td>True</td>\n",
              "      <td>0.500000</td>\n",
              "      <td>Dortmund</td>\n",
              "      <td>Schüren</td>\n",
              "    </tr>\n",
              "    <tr>\n",
              "      <th>1</th>\n",
              "      <td>Rheinland_Pfalz</td>\n",
              "      <td>0.126714</td>\n",
              "      <td>ONE_YEAR_FREE</td>\n",
              "      <td>True</td>\n",
              "      <td>0.275862</td>\n",
              "      <td>0.507259</td>\n",
              "      <td>0.230769</td>\n",
              "      <td>0.013941</td>\n",
              "      <td>False</td>\n",
              "      <td>Rheinland_Pfalz</td>\n",
              "      <td>False</td>\n",
              "      <td>0.020408</td>\n",
              "      <td>89.00</td>\n",
              "      <td>Rhein_Pfalz_Kreis</td>\n",
              "      <td>refurbished</td>\n",
              "      <td>normal</td>\n",
              "      <td>no</td>\n",
              "      <td>NaN</td>\n",
              "      <td>0.500</td>\n",
              "      <td>ground_floor</td>\n",
              "      <td>0.671807</td>\n",
              "      <td>0.222222</td>\n",
              "      <td>0.443176</td>\n",
              "      <td>0.260200</td>\n",
              "      <td>0.198462</td>\n",
              "      <td>0.50</td>\n",
              "      <td>False</td>\n",
              "      <td>0.500000</td>\n",
              "      <td>Rhein_Pfalz_Kreis</td>\n",
              "      <td>Böhl_Iggelheim</td>\n",
              "    </tr>\n",
              "    <tr>\n",
              "      <th>2</th>\n",
              "      <td>Sachsen</td>\n",
              "      <td>0.241135</td>\n",
              "      <td>ONE_YEAR_FREE</td>\n",
              "      <td>True</td>\n",
              "      <td>0.275862</td>\n",
              "      <td>0.443211</td>\n",
              "      <td>0.035897</td>\n",
              "      <td>0.020108</td>\n",
              "      <td>False</td>\n",
              "      <td>Sachsen</td>\n",
              "      <td>True</td>\n",
              "      <td>0.024617</td>\n",
              "      <td>83.80</td>\n",
              "      <td>Dresden</td>\n",
              "      <td>first_time_use</td>\n",
              "      <td>sophisticated</td>\n",
              "      <td>NaN</td>\n",
              "      <td>Turnerweg</td>\n",
              "      <td>0.625</td>\n",
              "      <td>apartment</td>\n",
              "      <td>0.002471</td>\n",
              "      <td>0.222222</td>\n",
              "      <td>0.443176</td>\n",
              "      <td>0.333333</td>\n",
              "      <td>0.222222</td>\n",
              "      <td>0.50</td>\n",
              "      <td>False</td>\n",
              "      <td>0.500000</td>\n",
              "      <td>Dresden</td>\n",
              "      <td>Äußere_Neustadt_Antonstadt</td>\n",
              "    </tr>\n",
              "    <tr>\n",
              "      <th>3</th>\n",
              "      <td>Sachsen</td>\n",
              "      <td>0.054988</td>\n",
              "      <td>ONE_YEAR_FREE</td>\n",
              "      <td>True</td>\n",
              "      <td>0.310345</td>\n",
              "      <td>0.341588</td>\n",
              "      <td>1.000000</td>\n",
              "      <td>0.013941</td>\n",
              "      <td>False</td>\n",
              "      <td>Sachsen</td>\n",
              "      <td>False</td>\n",
              "      <td>0.008750</td>\n",
              "      <td>58.15</td>\n",
              "      <td>Mittelsachsen_Kreis</td>\n",
              "      <td>NaN</td>\n",
              "      <td>NaN</td>\n",
              "      <td>NaN</td>\n",
              "      <td>Glück-Auf-Straße</td>\n",
              "      <td>0.125</td>\n",
              "      <td>other</td>\n",
              "      <td>0.088223</td>\n",
              "      <td>0.222222</td>\n",
              "      <td>0.332045</td>\n",
              "      <td>0.333333</td>\n",
              "      <td>0.198462</td>\n",
              "      <td>0.50</td>\n",
              "      <td>False</td>\n",
              "      <td>0.166667</td>\n",
              "      <td>Mittelsachsen_Kreis</td>\n",
              "      <td>Freiberg</td>\n",
              "    </tr>\n",
              "    <tr>\n",
              "      <th>4</th>\n",
              "      <td>Bremen</td>\n",
              "      <td>0.130496</td>\n",
              "      <td>NaN</td>\n",
              "      <td>True</td>\n",
              "      <td>0.655172</td>\n",
              "      <td>0.421008</td>\n",
              "      <td>0.712947</td>\n",
              "      <td>0.013967</td>\n",
              "      <td>False</td>\n",
              "      <td>Bremen</td>\n",
              "      <td>False</td>\n",
              "      <td>0.019515</td>\n",
              "      <td>84.97</td>\n",
              "      <td>Bremen</td>\n",
              "      <td>refurbished</td>\n",
              "      <td>NaN</td>\n",
              "      <td>NaN</td>\n",
              "      <td>Hermann-Henrich-Meier-Allee</td>\n",
              "      <td>0.500</td>\n",
              "      <td>apartment</td>\n",
              "      <td>0.275967</td>\n",
              "      <td>0.222222</td>\n",
              "      <td>0.729803</td>\n",
              "      <td>0.166667</td>\n",
              "      <td>0.198462</td>\n",
              "      <td>0.50</td>\n",
              "      <td>False</td>\n",
              "      <td>0.500000</td>\n",
              "      <td>Bremen</td>\n",
              "      <td>Neu_Schwachhausen</td>\n",
              "    </tr>\n",
              "  </tbody>\n",
              "</table>\n",
              "</div>"
            ],
            "text/plain": [
              "                regio1  ...                      regio3\n",
              "0  Nordrhein_Westfalen  ...                     Schüren\n",
              "1      Rheinland_Pfalz  ...              Böhl_Iggelheim\n",
              "2              Sachsen  ...  Äußere_Neustadt_Antonstadt\n",
              "3              Sachsen  ...                    Freiberg\n",
              "4               Bremen  ...           Neu_Schwachhausen\n",
              "\n",
              "[5 rows x 30 columns]"
            ]
          },
          "metadata": {
            "tags": []
          },
          "execution_count": 23
        }
      ]
    },
    {
      "cell_type": "code",
      "metadata": {
        "colab": {
          "base_uri": "https://localhost:8080/"
        },
        "id": "tzXx4RNGgMmG",
        "outputId": "ff7d7568-d4de-4a12-cde5-2df5585cdc9a"
      },
      "source": [
        "print(data.shape)\r\n",
        "print(y.shape)"
      ],
      "execution_count": 24,
      "outputs": [
        {
          "output_type": "stream",
          "text": [
            "(259737, 30)\n",
            "(259737,)\n"
          ],
          "name": "stdout"
        }
      ]
    },
    {
      "cell_type": "code",
      "metadata": {
        "id": "KM9456ZoPmSv"
      },
      "source": [
        "for col in data.columns :\r\n",
        "  if data[col].dtype == 'object' or data[col].dtype == 'bool':\r\n",
        "    data[col] = data[col].fillna(data[col].value_counts().head(1).index[0])"
      ],
      "execution_count": 25,
      "outputs": []
    },
    {
      "cell_type": "code",
      "metadata": {
        "colab": {
          "base_uri": "https://localhost:8080/"
        },
        "id": "B3G83WTkQk_H",
        "outputId": "32d62112-c5aa-4a96-c134-4ba591f4bdb1"
      },
      "source": [
        "data.isna().sum()"
      ],
      "execution_count": 26,
      "outputs": [
        {
          "output_type": "execute_result",
          "data": {
            "text/plain": [
              "regio1                0\n",
              "serviceCharge         0\n",
              "telekomTvOffer        0\n",
              "balcony               0\n",
              "picturecount          0\n",
              "pricetrend            0\n",
              "telekomUploadSpeed    0\n",
              "totalRent             0\n",
              "hasKitchen            0\n",
              "geo_bln               0\n",
              "cellar                0\n",
              "baseRent              0\n",
              "livingSpace           0\n",
              "geo_krs               0\n",
              "condition             0\n",
              "interiorQual          0\n",
              "petsAllowed           0\n",
              "streetPlain           0\n",
              "baseRentRange         0\n",
              "typeOfFlat            0\n",
              "geo_plz               0\n",
              "noRooms               0\n",
              "thermalChar           0\n",
              "floor                 0\n",
              "numberOfFloors        0\n",
              "noRoomsRange          0\n",
              "garden                0\n",
              "livingSpaceRange      0\n",
              "regio2                0\n",
              "regio3                0\n",
              "dtype: int64"
            ]
          },
          "metadata": {
            "tags": []
          },
          "execution_count": 26
        }
      ]
    },
    {
      "cell_type": "code",
      "metadata": {
        "colab": {
          "base_uri": "https://localhost:8080/"
        },
        "id": "5ZS2sySSQ3a7",
        "outputId": "e3110206-84bb-462c-825a-4eba1d59ace0"
      },
      "source": [
        "for col in data.columns :\r\n",
        "  if data[col].dtype == 'object' or data[col].dtype == 'bool':\r\n",
        "    print(col)\r\n",
        "    print(data[col].value_counts())\r\n",
        "    print('_______________________________')"
      ],
      "execution_count": 27,
      "outputs": [
        {
          "output_type": "stream",
          "text": [
            "regio1\n",
            "Nordrhein_Westfalen       60791\n",
            "Sachsen                   57199\n",
            "Bayern                    20916\n",
            "Sachsen_Anhalt            19818\n",
            "Hessen                    17183\n",
            "Niedersachsen             16106\n",
            "Baden_Württemberg         15629\n",
            "Thüringen                  8278\n",
            "Rheinland_Pfalz            8171\n",
            "Berlin                     7949\n",
            "Brandenburg                6810\n",
            "Mecklenburg_Vorpommern     6521\n",
            "Schleswig_Holstein         6471\n",
            "Hamburg                    3612\n",
            "Bremen                     2905\n",
            "Saarland                   1378\n",
            "Name: regio1, dtype: int64\n",
            "_______________________________\n",
            "telekomTvOffer\n",
            "ONE_YEAR_FREE    251339\n",
            "NONE               4838\n",
            "ON_DEMAND          3560\n",
            "Name: telekomTvOffer, dtype: int64\n",
            "_______________________________\n",
            "balcony\n",
            "True     159905\n",
            "False     99832\n",
            "Name: balcony, dtype: int64\n",
            "_______________________________\n",
            "hasKitchen\n",
            "False    171865\n",
            "True      87872\n",
            "Name: hasKitchen, dtype: int64\n",
            "_______________________________\n",
            "geo_bln\n",
            "Nordrhein_Westfalen       60791\n",
            "Sachsen                   57199\n",
            "Bayern                    20916\n",
            "Sachsen_Anhalt            19818\n",
            "Hessen                    17183\n",
            "Niedersachsen             16106\n",
            "Baden_Württemberg         15629\n",
            "Thüringen                  8278\n",
            "Rheinland_Pfalz            8171\n",
            "Berlin                     7949\n",
            "Brandenburg                6810\n",
            "Mecklenburg_Vorpommern     6521\n",
            "Schleswig_Holstein         6471\n",
            "Hamburg                    3612\n",
            "Bremen                     2905\n",
            "Saarland                   1378\n",
            "Name: geo_bln, dtype: int64\n",
            "_______________________________\n",
            "cellar\n",
            "True     166709\n",
            "False     93028\n",
            "Name: cellar, dtype: int64\n",
            "_______________________________\n",
            "geo_krs\n",
            "Leipzig                         13441\n",
            "Chemnitz                        12421\n",
            "Berlin                           7949\n",
            "Dresden                          7378\n",
            "Magdeburg                        4756\n",
            "                                ...  \n",
            "Lichtenfels_Kreis                  31\n",
            "Haßberge_Kreis                     22\n",
            "Freyung_Grafenau_Kreis             21\n",
            "Neustadt_a.d._Waldnaab_Kreis       16\n",
            "Kronach_Kreis                      11\n",
            "Name: geo_krs, Length: 419, dtype: int64\n",
            "_______________________________\n",
            "condition\n",
            "well_kept                             131037\n",
            "refurbished                            26241\n",
            "fully_renovated                        25477\n",
            "first_time_use                         21067\n",
            "mint_condition                         20954\n",
            "modernized                             16551\n",
            "first_time_use_after_refurbishment     14921\n",
            "negotiable                              2177\n",
            "need_of_renovation                      1308\n",
            "ripe_for_demolition                        4\n",
            "Name: condition, dtype: int64\n",
            "_______________________________\n",
            "interiorQual\n",
            "normal           188961\n",
            "sophisticated     61972\n",
            "luxury             6933\n",
            "simple             1871\n",
            "Name: interiorQual, dtype: int64\n",
            "_______________________________\n",
            "petsAllowed\n",
            "negotiable    199576\n",
            "no             50210\n",
            "yes             9951\n",
            "Name: petsAllowed, dtype: int64\n",
            "_______________________________\n",
            "streetPlain\n",
            "Hauptstraße         69791\n",
            "Bahnhofstraße         828\n",
            "Leipziger_Straße      412\n",
            "Goethestraße          395\n",
            "Bahnhofstr.           385\n",
            "                    ...  \n",
            "Etzäckerstr.            1\n",
            "Glückaufstrasse         1\n",
            "Bernhardystraße_        1\n",
            "Eiland                  1\n",
            "Burggasse               1\n",
            "Name: streetPlain, Length: 53069, dtype: int64\n",
            "_______________________________\n",
            "typeOfFlat\n",
            "apartment              162374\n",
            "roof_storey             33752\n",
            "ground_floor            30632\n",
            "other                    9223\n",
            "maisonette               8838\n",
            "raised_ground_floor      5477\n",
            "penthouse                3335\n",
            "terraced_flat            3228\n",
            "half_basement            1975\n",
            "loft                      903\n",
            "Name: typeOfFlat, dtype: int64\n",
            "_______________________________\n",
            "garden\n",
            "False    208988\n",
            "True      50749\n",
            "Name: garden, dtype: int64\n",
            "_______________________________\n",
            "regio2\n",
            "Leipzig                         13441\n",
            "Chemnitz                        12421\n",
            "Berlin                           7949\n",
            "Dresden                          7378\n",
            "Magdeburg                        4756\n",
            "                                ...  \n",
            "Lichtenfels_Kreis                  31\n",
            "Haßberge_Kreis                     22\n",
            "Freyung_Grafenau_Kreis             21\n",
            "Neustadt_a.d._Waldnaab_Kreis       16\n",
            "Kronach_Kreis                      11\n",
            "Name: regio2, Length: 419, dtype: int64\n",
            "_______________________________\n",
            "regio3\n",
            "Innenstadt                4615\n",
            "Stadtmitte                2633\n",
            "Altstadt                  2299\n",
            "Sonnenberg                1896\n",
            "Kaßberg                   1697\n",
            "                          ... \n",
            "Grattersdorf                 1\n",
            "Reichartshausen              1\n",
            "Mengersgereuth_Hämmern       1\n",
            "Wogau                        1\n",
            "Rosenau                      1\n",
            "Name: regio3, Length: 8615, dtype: int64\n",
            "_______________________________\n"
          ],
          "name": "stdout"
        }
      ]
    },
    {
      "cell_type": "code",
      "metadata": {
        "colab": {
          "base_uri": "https://localhost:8080/"
        },
        "id": "0mDML4KGTYFi",
        "outputId": "3307cf71-df50-42fb-8aac-e73734a57f3e"
      },
      "source": [
        "data['telekomTvOffer'].value_counts()"
      ],
      "execution_count": 28,
      "outputs": [
        {
          "output_type": "execute_result",
          "data": {
            "text/plain": [
              "ONE_YEAR_FREE    251339\n",
              "NONE               4838\n",
              "ON_DEMAND          3560\n",
              "Name: telekomTvOffer, dtype: int64"
            ]
          },
          "metadata": {
            "tags": []
          },
          "execution_count": 28
        }
      ]
    },
    {
      "cell_type": "code",
      "metadata": {
        "colab": {
          "base_uri": "https://localhost:8080/"
        },
        "id": "BiIbBkTxTiJL",
        "outputId": "2b0c13d4-955a-4585-fdd2-271c1430f1b9"
      },
      "source": [
        "others = list(data['telekomTvOffer'].value_counts().tail(2).index)\r\n",
        "def edit_telekomTvOffer(a):\r\n",
        "  if a in others:\r\n",
        "    return 'others'\r\n",
        "  return a\r\n",
        "data['telekomTvOffer'] = data['telekomTvOffer'].apply(edit_telekomTvOffer)\r\n",
        "data['telekomTvOffer'].value_counts()"
      ],
      "execution_count": 29,
      "outputs": [
        {
          "output_type": "execute_result",
          "data": {
            "text/plain": [
              "ONE_YEAR_FREE    251339\n",
              "others             8398\n",
              "Name: telekomTvOffer, dtype: int64"
            ]
          },
          "metadata": {
            "tags": []
          },
          "execution_count": 29
        }
      ]
    },
    {
      "cell_type": "code",
      "metadata": {
        "colab": {
          "base_uri": "https://localhost:8080/"
        },
        "id": "AHaNlulhUqZT",
        "outputId": "6be72c76-beca-4697-e0cf-4b2ecc913636"
      },
      "source": [
        "print(data['condition'].value_counts())"
      ],
      "execution_count": 30,
      "outputs": [
        {
          "output_type": "stream",
          "text": [
            "well_kept                             131037\n",
            "refurbished                            26241\n",
            "fully_renovated                        25477\n",
            "first_time_use                         21067\n",
            "mint_condition                         20954\n",
            "modernized                             16551\n",
            "first_time_use_after_refurbishment     14921\n",
            "negotiable                              2177\n",
            "need_of_renovation                      1308\n",
            "ripe_for_demolition                        4\n",
            "Name: condition, dtype: int64\n"
          ],
          "name": "stdout"
        }
      ]
    },
    {
      "cell_type": "code",
      "metadata": {
        "colab": {
          "base_uri": "https://localhost:8080/"
        },
        "id": "qVXzbGtqWVGp",
        "outputId": "ae5bf54c-bd75-4f8e-c259-d1b735682dab"
      },
      "source": [
        "others = list(data['condition'].value_counts().tail(3).index)\r\n",
        "def edit_condition(a):\r\n",
        "  if a in others:\r\n",
        "    return 'others'\r\n",
        "  return a\r\n",
        "data['condition'] = data['condition'].apply(edit_condition)\r\n",
        "data['condition'].value_counts()"
      ],
      "execution_count": 31,
      "outputs": [
        {
          "output_type": "execute_result",
          "data": {
            "text/plain": [
              "well_kept                             131037\n",
              "refurbished                            26241\n",
              "fully_renovated                        25477\n",
              "first_time_use                         21067\n",
              "mint_condition                         20954\n",
              "modernized                             16551\n",
              "first_time_use_after_refurbishment     14921\n",
              "others                                  3489\n",
              "Name: condition, dtype: int64"
            ]
          },
          "metadata": {
            "tags": []
          },
          "execution_count": 31
        }
      ]
    },
    {
      "cell_type": "code",
      "metadata": {
        "colab": {
          "base_uri": "https://localhost:8080/"
        },
        "id": "IQ4roBnwWn73",
        "outputId": "731c5605-9cdc-4424-b964-b045b5264232"
      },
      "source": [
        "print(data['interiorQual'].value_counts())"
      ],
      "execution_count": 32,
      "outputs": [
        {
          "output_type": "stream",
          "text": [
            "normal           188961\n",
            "sophisticated     61972\n",
            "luxury             6933\n",
            "simple             1871\n",
            "Name: interiorQual, dtype: int64\n"
          ],
          "name": "stdout"
        }
      ]
    },
    {
      "cell_type": "code",
      "metadata": {
        "colab": {
          "base_uri": "https://localhost:8080/"
        },
        "id": "5yQvheQ3W2Ak",
        "outputId": "38b9f1a8-3600-4b30-c1c6-6b7c6da8811c"
      },
      "source": [
        "others = list(data['interiorQual'].value_counts().tail(2).index)\r\n",
        "def edit_interiorQual(a):\r\n",
        "  if a in others:\r\n",
        "    return 'others'\r\n",
        "  return a\r\n",
        "data['interiorQual'] = data['interiorQual'].apply(edit_interiorQual)\r\n",
        "data['interiorQual'].value_counts()"
      ],
      "execution_count": 33,
      "outputs": [
        {
          "output_type": "execute_result",
          "data": {
            "text/plain": [
              "normal           188961\n",
              "sophisticated     61972\n",
              "others             8804\n",
              "Name: interiorQual, dtype: int64"
            ]
          },
          "metadata": {
            "tags": []
          },
          "execution_count": 33
        }
      ]
    },
    {
      "cell_type": "code",
      "metadata": {
        "colab": {
          "base_uri": "https://localhost:8080/"
        },
        "id": "2N8l5QJo_71M",
        "outputId": "df3b1683-fb18-45be-c7f0-5b12d3634d40"
      },
      "source": [
        "data['geo_krs'].unique().size"
      ],
      "execution_count": 34,
      "outputs": [
        {
          "output_type": "execute_result",
          "data": {
            "text/plain": [
              "419"
            ]
          },
          "metadata": {
            "tags": []
          },
          "execution_count": 34
        }
      ]
    },
    {
      "cell_type": "code",
      "metadata": {
        "colab": {
          "base_uri": "https://localhost:8080/"
        },
        "id": "yo39jNYF91dT",
        "outputId": "6da7f725-5cc8-4175-e7d4-af63421e3514"
      },
      "source": [
        "others = list(data['geo_krs'].value_counts().tail(400).index)\r\n",
        "def edit_geo_krs(a):\r\n",
        "  if a in others:\r\n",
        "    return 'others'\r\n",
        "  return a\r\n",
        "data['geo_krs'] = data['geo_krs'].apply(edit_geo_krs)\r\n",
        "data['geo_krs'].value_counts()"
      ],
      "execution_count": 35,
      "outputs": [
        {
          "output_type": "execute_result",
          "data": {
            "text/plain": [
              "others                  167157\n",
              "Leipzig                  13441\n",
              "Chemnitz                 12421\n",
              "Berlin                    7949\n",
              "Dresden                   7378\n",
              "Magdeburg                 4756\n",
              "Halle_Saale               4493\n",
              "München                   4202\n",
              "Essen                     4188\n",
              "Frankfurt_am_Main         4075\n",
              "Hamburg                   3612\n",
              "Düsseldorf                3569\n",
              "Duisburg                  3430\n",
              "Mittelsachsen_Kreis       3141\n",
              "Dortmund                  3049\n",
              "Gelsenkirchen             2828\n",
              "Recklinghausen_Kreis      2634\n",
              "Köln                      2600\n",
              "Zwickau                   2489\n",
              "Wuppertal                 2325\n",
              "Name: geo_krs, dtype: int64"
            ]
          },
          "metadata": {
            "tags": []
          },
          "execution_count": 35
        }
      ]
    },
    {
      "cell_type": "code",
      "metadata": {
        "colab": {
          "base_uri": "https://localhost:8080/"
        },
        "id": "1HZAtCAoCR1y",
        "outputId": "5711d468-2808-4db3-9c07-687e4fb0bd00"
      },
      "source": [
        "data['regio3'].unique().size"
      ],
      "execution_count": 36,
      "outputs": [
        {
          "output_type": "execute_result",
          "data": {
            "text/plain": [
              "8615"
            ]
          },
          "metadata": {
            "tags": []
          },
          "execution_count": 36
        }
      ]
    },
    {
      "cell_type": "code",
      "metadata": {
        "colab": {
          "base_uri": "https://localhost:8080/"
        },
        "id": "8jX1RigsDAbE",
        "outputId": "6811b500-55ff-498f-ba1c-f6fe60b1a32c"
      },
      "source": [
        "data['regio2'].unique().size"
      ],
      "execution_count": 37,
      "outputs": [
        {
          "output_type": "execute_result",
          "data": {
            "text/plain": [
              "419"
            ]
          },
          "metadata": {
            "tags": []
          },
          "execution_count": 37
        }
      ]
    },
    {
      "cell_type": "code",
      "metadata": {
        "colab": {
          "base_uri": "https://localhost:8080/"
        },
        "id": "d81Cgd7mGTAZ",
        "outputId": "4427d826-4dce-4bea-bca9-0710a1db2d54"
      },
      "source": [
        "data['streetPlain'].unique().size"
      ],
      "execution_count": 38,
      "outputs": [
        {
          "output_type": "execute_result",
          "data": {
            "text/plain": [
              "53069"
            ]
          },
          "metadata": {
            "tags": []
          },
          "execution_count": 38
        }
      ]
    },
    {
      "cell_type": "code",
      "metadata": {
        "colab": {
          "base_uri": "https://localhost:8080/"
        },
        "id": "64WfMvAeC-D0",
        "outputId": "75852c06-e9ab-4edc-d5ab-a93ef51356d0"
      },
      "source": [
        "data = data.drop(columns=['regio2','regio3','streetPlain'])\r\n",
        "data.shape"
      ],
      "execution_count": 39,
      "outputs": [
        {
          "output_type": "execute_result",
          "data": {
            "text/plain": [
              "(259737, 27)"
            ]
          },
          "metadata": {
            "tags": []
          },
          "execution_count": 39
        }
      ]
    },
    {
      "cell_type": "code",
      "metadata": {
        "colab": {
          "base_uri": "https://localhost:8080/"
        },
        "id": "0qs6fMyPf-Hr",
        "outputId": "0887ff7c-8b73-4d3c-ee1e-b942d9f92943"
      },
      "source": [
        "y.head()"
      ],
      "execution_count": 40,
      "outputs": [
        {
          "output_type": "execute_result",
          "data": {
            "text/plain": [
              "0    86.00\n",
              "1    89.00\n",
              "2    83.80\n",
              "3    58.15\n",
              "4    84.97\n",
              "Name: livingSpace, dtype: float64"
            ]
          },
          "metadata": {
            "tags": []
          },
          "execution_count": 40
        }
      ]
    },
    {
      "cell_type": "code",
      "metadata": {
        "id": "9KhDAYduXWJB"
      },
      "source": [
        "cor_matrix = data.corr()"
      ],
      "execution_count": 41,
      "outputs": []
    },
    {
      "cell_type": "code",
      "metadata": {
        "colab": {
          "base_uri": "https://localhost:8080/",
          "height": 1000
        },
        "id": "7WyatX5rXvvx",
        "outputId": "4a75bcd8-c7be-4cfd-d959-f0a891dfcb6f"
      },
      "source": [
        "f , ax = plt.subplots(figsize=(25,30))\r\n",
        "sns.heatmap(cor_matrix,square=True,annot=True)"
      ],
      "execution_count": 42,
      "outputs": [
        {
          "output_type": "execute_result",
          "data": {
            "text/plain": [
              "<matplotlib.axes._subplots.AxesSubplot at 0x7fca5bf9d7d0>"
            ]
          },
          "metadata": {
            "tags": []
          },
          "execution_count": 42
        },
        {
          "output_type": "display_data",
          "data": {
            "image/png": "[encoded data removed]",
            "text/plain": [
              "<Figure size 1800x2160 with 2 Axes>"
            ]
          },
          "metadata": {
            "tags": [],
            "needs_background": "light"
          }
        }
      ]
    },
    {
      "cell_type": "code",
      "metadata": {
        "colab": {
          "base_uri": "https://localhost:8080/"
        },
        "id": "k3lEIbclZsuv",
        "outputId": "455ffbaf-7453-4816-ae34-42f4484e01aa"
      },
      "source": [
        "cate_features = []\r\n",
        "\r\n",
        "for col in data.columns :\r\n",
        "  if data[col].dtype == 'object' or data[col].dtype == 'bool':\r\n",
        "    cate_features.append(col)\r\n",
        "\r\n",
        "cate_features"
      ],
      "execution_count": 43,
      "outputs": [
        {
          "output_type": "execute_result",
          "data": {
            "text/plain": [
              "['regio1',\n",
              " 'telekomTvOffer',\n",
              " 'balcony',\n",
              " 'hasKitchen',\n",
              " 'geo_bln',\n",
              " 'cellar',\n",
              " 'geo_krs',\n",
              " 'condition',\n",
              " 'interiorQual',\n",
              " 'petsAllowed',\n",
              " 'typeOfFlat',\n",
              " 'garden']"
            ]
          },
          "metadata": {
            "tags": []
          },
          "execution_count": 43
        }
      ]
    },
    {
      "cell_type": "code",
      "metadata": {
        "id": "pgcXuYpRaKER",
        "colab": {
          "base_uri": "https://localhost:8080/",
          "height": 256
        },
        "outputId": "69605a49-cb95-433a-dac2-a18ab6343fde"
      },
      "source": [
        "dum_features = pd.get_dummies(data[cate_features])\r\n",
        "dum_features.head()"
      ],
      "execution_count": 44,
      "outputs": [
        {
          "output_type": "execute_result",
          "data": {
            "text/html": [
              "<div>\n",
              "<style scoped>\n",
              "    .dataframe tbody tr th:only-of-type {\n",
              "        vertical-align: middle;\n",
              "    }\n",
              "\n",
              "    .dataframe tbody tr th {\n",
              "        vertical-align: top;\n",
              "    }\n",
              "\n",
              "    .dataframe thead th {\n",
              "        text-align: right;\n",
              "    }\n",
              "</style>\n",
              "<table border=\"1\" class=\"dataframe\">\n",
              "  <thead>\n",
              "    <tr style=\"text-align: right;\">\n",
              "      <th></th>\n",
              "      <th>balcony</th>\n",
              "      <th>hasKitchen</th>\n",
              "      <th>cellar</th>\n",
              "      <th>garden</th>\n",
              "      <th>regio1_Baden_Württemberg</th>\n",
              "      <th>regio1_Bayern</th>\n",
              "      <th>regio1_Berlin</th>\n",
              "      <th>regio1_Brandenburg</th>\n",
              "      <th>regio1_Bremen</th>\n",
              "      <th>regio1_Hamburg</th>\n",
              "      <th>regio1_Hessen</th>\n",
              "      <th>regio1_Mecklenburg_Vorpommern</th>\n",
              "      <th>regio1_Niedersachsen</th>\n",
              "      <th>regio1_Nordrhein_Westfalen</th>\n",
              "      <th>regio1_Rheinland_Pfalz</th>\n",
              "      <th>regio1_Saarland</th>\n",
              "      <th>regio1_Sachsen</th>\n",
              "      <th>regio1_Sachsen_Anhalt</th>\n",
              "      <th>regio1_Schleswig_Holstein</th>\n",
              "      <th>regio1_Thüringen</th>\n",
              "      <th>telekomTvOffer_ONE_YEAR_FREE</th>\n",
              "      <th>telekomTvOffer_others</th>\n",
              "      <th>geo_bln_Baden_Württemberg</th>\n",
              "      <th>geo_bln_Bayern</th>\n",
              "      <th>geo_bln_Berlin</th>\n",
              "      <th>geo_bln_Brandenburg</th>\n",
              "      <th>geo_bln_Bremen</th>\n",
              "      <th>geo_bln_Hamburg</th>\n",
              "      <th>geo_bln_Hessen</th>\n",
              "      <th>geo_bln_Mecklenburg_Vorpommern</th>\n",
              "      <th>geo_bln_Niedersachsen</th>\n",
              "      <th>geo_bln_Nordrhein_Westfalen</th>\n",
              "      <th>geo_bln_Rheinland_Pfalz</th>\n",
              "      <th>geo_bln_Saarland</th>\n",
              "      <th>geo_bln_Sachsen</th>\n",
              "      <th>geo_bln_Sachsen_Anhalt</th>\n",
              "      <th>geo_bln_Schleswig_Holstein</th>\n",
              "      <th>geo_bln_Thüringen</th>\n",
              "      <th>geo_krs_Berlin</th>\n",
              "      <th>geo_krs_Chemnitz</th>\n",
              "      <th>...</th>\n",
              "      <th>geo_krs_Duisburg</th>\n",
              "      <th>geo_krs_Düsseldorf</th>\n",
              "      <th>geo_krs_Essen</th>\n",
              "      <th>geo_krs_Frankfurt_am_Main</th>\n",
              "      <th>geo_krs_Gelsenkirchen</th>\n",
              "      <th>geo_krs_Halle_Saale</th>\n",
              "      <th>geo_krs_Hamburg</th>\n",
              "      <th>geo_krs_Köln</th>\n",
              "      <th>geo_krs_Leipzig</th>\n",
              "      <th>geo_krs_Magdeburg</th>\n",
              "      <th>geo_krs_Mittelsachsen_Kreis</th>\n",
              "      <th>geo_krs_München</th>\n",
              "      <th>geo_krs_Recklinghausen_Kreis</th>\n",
              "      <th>geo_krs_Wuppertal</th>\n",
              "      <th>geo_krs_Zwickau</th>\n",
              "      <th>geo_krs_others</th>\n",
              "      <th>condition_first_time_use</th>\n",
              "      <th>condition_first_time_use_after_refurbishment</th>\n",
              "      <th>condition_fully_renovated</th>\n",
              "      <th>condition_mint_condition</th>\n",
              "      <th>condition_modernized</th>\n",
              "      <th>condition_others</th>\n",
              "      <th>condition_refurbished</th>\n",
              "      <th>condition_well_kept</th>\n",
              "      <th>interiorQual_normal</th>\n",
              "      <th>interiorQual_others</th>\n",
              "      <th>interiorQual_sophisticated</th>\n",
              "      <th>petsAllowed_negotiable</th>\n",
              "      <th>petsAllowed_no</th>\n",
              "      <th>petsAllowed_yes</th>\n",
              "      <th>typeOfFlat_apartment</th>\n",
              "      <th>typeOfFlat_ground_floor</th>\n",
              "      <th>typeOfFlat_half_basement</th>\n",
              "      <th>typeOfFlat_loft</th>\n",
              "      <th>typeOfFlat_maisonette</th>\n",
              "      <th>typeOfFlat_other</th>\n",
              "      <th>typeOfFlat_penthouse</th>\n",
              "      <th>typeOfFlat_raised_ground_floor</th>\n",
              "      <th>typeOfFlat_roof_storey</th>\n",
              "      <th>typeOfFlat_terraced_flat</th>\n",
              "    </tr>\n",
              "  </thead>\n",
              "  <tbody>\n",
              "    <tr>\n",
              "      <th>0</th>\n",
              "      <td>False</td>\n",
              "      <td>False</td>\n",
              "      <td>True</td>\n",
              "      <td>True</td>\n",
              "      <td>0</td>\n",
              "      <td>0</td>\n",
              "      <td>0</td>\n",
              "      <td>0</td>\n",
              "      <td>0</td>\n",
              "      <td>0</td>\n",
              "      <td>0</td>\n",
              "      <td>0</td>\n",
              "      <td>0</td>\n",
              "      <td>1</td>\n",
              "      <td>0</td>\n",
              "      <td>0</td>\n",
              "      <td>0</td>\n",
              "      <td>0</td>\n",
              "      <td>0</td>\n",
              "      <td>0</td>\n",
              "      <td>1</td>\n",
              "      <td>0</td>\n",
              "      <td>0</td>\n",
              "      <td>0</td>\n",
              "      <td>0</td>\n",
              "      <td>0</td>\n",
              "      <td>0</td>\n",
              "      <td>0</td>\n",
              "      <td>0</td>\n",
              "      <td>0</td>\n",
              "      <td>0</td>\n",
              "      <td>1</td>\n",
              "      <td>0</td>\n",
              "      <td>0</td>\n",
              "      <td>0</td>\n",
              "      <td>0</td>\n",
              "      <td>0</td>\n",
              "      <td>0</td>\n",
              "      <td>0</td>\n",
              "      <td>0</td>\n",
              "      <td>...</td>\n",
              "      <td>0</td>\n",
              "      <td>0</td>\n",
              "      <td>0</td>\n",
              "      <td>0</td>\n",
              "      <td>0</td>\n",
              "      <td>0</td>\n",
              "      <td>0</td>\n",
              "      <td>0</td>\n",
              "      <td>0</td>\n",
              "      <td>0</td>\n",
              "      <td>0</td>\n",
              "      <td>0</td>\n",
              "      <td>0</td>\n",
              "      <td>0</td>\n",
              "      <td>0</td>\n",
              "      <td>0</td>\n",
              "      <td>0</td>\n",
              "      <td>0</td>\n",
              "      <td>0</td>\n",
              "      <td>0</td>\n",
              "      <td>0</td>\n",
              "      <td>0</td>\n",
              "      <td>0</td>\n",
              "      <td>1</td>\n",
              "      <td>1</td>\n",
              "      <td>0</td>\n",
              "      <td>0</td>\n",
              "      <td>1</td>\n",
              "      <td>0</td>\n",
              "      <td>0</td>\n",
              "      <td>0</td>\n",
              "      <td>1</td>\n",
              "      <td>0</td>\n",
              "      <td>0</td>\n",
              "      <td>0</td>\n",
              "      <td>0</td>\n",
              "      <td>0</td>\n",
              "      <td>0</td>\n",
              "      <td>0</td>\n",
              "      <td>0</td>\n",
              "    </tr>\n",
              "    <tr>\n",
              "      <th>1</th>\n",
              "      <td>True</td>\n",
              "      <td>False</td>\n",
              "      <td>False</td>\n",
              "      <td>False</td>\n",
              "      <td>0</td>\n",
              "      <td>0</td>\n",
              "      <td>0</td>\n",
              "      <td>0</td>\n",
              "      <td>0</td>\n",
              "      <td>0</td>\n",
              "      <td>0</td>\n",
              "      <td>0</td>\n",
              "      <td>0</td>\n",
              "      <td>0</td>\n",
              "      <td>1</td>\n",
              "      <td>0</td>\n",
              "      <td>0</td>\n",
              "      <td>0</td>\n",
              "      <td>0</td>\n",
              "      <td>0</td>\n",
              "      <td>1</td>\n",
              "      <td>0</td>\n",
              "      <td>0</td>\n",
              "      <td>0</td>\n",
              "      <td>0</td>\n",
              "      <td>0</td>\n",
              "      <td>0</td>\n",
              "      <td>0</td>\n",
              "      <td>0</td>\n",
              "      <td>0</td>\n",
              "      <td>0</td>\n",
              "      <td>0</td>\n",
              "      <td>1</td>\n",
              "      <td>0</td>\n",
              "      <td>0</td>\n",
              "      <td>0</td>\n",
              "      <td>0</td>\n",
              "      <td>0</td>\n",
              "      <td>0</td>\n",
              "      <td>0</td>\n",
              "      <td>...</td>\n",
              "      <td>0</td>\n",
              "      <td>0</td>\n",
              "      <td>0</td>\n",
              "      <td>0</td>\n",
              "      <td>0</td>\n",
              "      <td>0</td>\n",
              "      <td>0</td>\n",
              "      <td>0</td>\n",
              "      <td>0</td>\n",
              "      <td>0</td>\n",
              "      <td>0</td>\n",
              "      <td>0</td>\n",
              "      <td>0</td>\n",
              "      <td>0</td>\n",
              "      <td>0</td>\n",
              "      <td>1</td>\n",
              "      <td>0</td>\n",
              "      <td>0</td>\n",
              "      <td>0</td>\n",
              "      <td>0</td>\n",
              "      <td>0</td>\n",
              "      <td>0</td>\n",
              "      <td>1</td>\n",
              "      <td>0</td>\n",
              "      <td>1</td>\n",
              "      <td>0</td>\n",
              "      <td>0</td>\n",
              "      <td>0</td>\n",
              "      <td>1</td>\n",
              "      <td>0</td>\n",
              "      <td>0</td>\n",
              "      <td>1</td>\n",
              "      <td>0</td>\n",
              "      <td>0</td>\n",
              "      <td>0</td>\n",
              "      <td>0</td>\n",
              "      <td>0</td>\n",
              "      <td>0</td>\n",
              "      <td>0</td>\n",
              "      <td>0</td>\n",
              "    </tr>\n",
              "    <tr>\n",
              "      <th>2</th>\n",
              "      <td>True</td>\n",
              "      <td>False</td>\n",
              "      <td>True</td>\n",
              "      <td>False</td>\n",
              "      <td>0</td>\n",
              "      <td>0</td>\n",
              "      <td>0</td>\n",
              "      <td>0</td>\n",
              "      <td>0</td>\n",
              "      <td>0</td>\n",
              "      <td>0</td>\n",
              "      <td>0</td>\n",
              "      <td>0</td>\n",
              "      <td>0</td>\n",
              "      <td>0</td>\n",
              "      <td>0</td>\n",
              "      <td>1</td>\n",
              "      <td>0</td>\n",
              "      <td>0</td>\n",
              "      <td>0</td>\n",
              "      <td>1</td>\n",
              "      <td>0</td>\n",
              "      <td>0</td>\n",
              "      <td>0</td>\n",
              "      <td>0</td>\n",
              "      <td>0</td>\n",
              "      <td>0</td>\n",
              "      <td>0</td>\n",
              "      <td>0</td>\n",
              "      <td>0</td>\n",
              "      <td>0</td>\n",
              "      <td>0</td>\n",
              "      <td>0</td>\n",
              "      <td>0</td>\n",
              "      <td>1</td>\n",
              "      <td>0</td>\n",
              "      <td>0</td>\n",
              "      <td>0</td>\n",
              "      <td>0</td>\n",
              "      <td>0</td>\n",
              "      <td>...</td>\n",
              "      <td>0</td>\n",
              "      <td>0</td>\n",
              "      <td>0</td>\n",
              "      <td>0</td>\n",
              "      <td>0</td>\n",
              "      <td>0</td>\n",
              "      <td>0</td>\n",
              "      <td>0</td>\n",
              "      <td>0</td>\n",
              "      <td>0</td>\n",
              "      <td>0</td>\n",
              "      <td>0</td>\n",
              "      <td>0</td>\n",
              "      <td>0</td>\n",
              "      <td>0</td>\n",
              "      <td>0</td>\n",
              "      <td>1</td>\n",
              "      <td>0</td>\n",
              "      <td>0</td>\n",
              "      <td>0</td>\n",
              "      <td>0</td>\n",
              "      <td>0</td>\n",
              "      <td>0</td>\n",
              "      <td>0</td>\n",
              "      <td>0</td>\n",
              "      <td>0</td>\n",
              "      <td>1</td>\n",
              "      <td>1</td>\n",
              "      <td>0</td>\n",
              "      <td>0</td>\n",
              "      <td>1</td>\n",
              "      <td>0</td>\n",
              "      <td>0</td>\n",
              "      <td>0</td>\n",
              "      <td>0</td>\n",
              "      <td>0</td>\n",
              "      <td>0</td>\n",
              "      <td>0</td>\n",
              "      <td>0</td>\n",
              "      <td>0</td>\n",
              "    </tr>\n",
              "    <tr>\n",
              "      <th>3</th>\n",
              "      <td>True</td>\n",
              "      <td>False</td>\n",
              "      <td>False</td>\n",
              "      <td>False</td>\n",
              "      <td>0</td>\n",
              "      <td>0</td>\n",
              "      <td>0</td>\n",
              "      <td>0</td>\n",
              "      <td>0</td>\n",
              "      <td>0</td>\n",
              "      <td>0</td>\n",
              "      <td>0</td>\n",
              "      <td>0</td>\n",
              "      <td>0</td>\n",
              "      <td>0</td>\n",
              "      <td>0</td>\n",
              "      <td>1</td>\n",
              "      <td>0</td>\n",
              "      <td>0</td>\n",
              "      <td>0</td>\n",
              "      <td>1</td>\n",
              "      <td>0</td>\n",
              "      <td>0</td>\n",
              "      <td>0</td>\n",
              "      <td>0</td>\n",
              "      <td>0</td>\n",
              "      <td>0</td>\n",
              "      <td>0</td>\n",
              "      <td>0</td>\n",
              "      <td>0</td>\n",
              "      <td>0</td>\n",
              "      <td>0</td>\n",
              "      <td>0</td>\n",
              "      <td>0</td>\n",
              "      <td>1</td>\n",
              "      <td>0</td>\n",
              "      <td>0</td>\n",
              "      <td>0</td>\n",
              "      <td>0</td>\n",
              "      <td>0</td>\n",
              "      <td>...</td>\n",
              "      <td>0</td>\n",
              "      <td>0</td>\n",
              "      <td>0</td>\n",
              "      <td>0</td>\n",
              "      <td>0</td>\n",
              "      <td>0</td>\n",
              "      <td>0</td>\n",
              "      <td>0</td>\n",
              "      <td>0</td>\n",
              "      <td>0</td>\n",
              "      <td>1</td>\n",
              "      <td>0</td>\n",
              "      <td>0</td>\n",
              "      <td>0</td>\n",
              "      <td>0</td>\n",
              "      <td>0</td>\n",
              "      <td>0</td>\n",
              "      <td>0</td>\n",
              "      <td>0</td>\n",
              "      <td>0</td>\n",
              "      <td>0</td>\n",
              "      <td>0</td>\n",
              "      <td>0</td>\n",
              "      <td>1</td>\n",
              "      <td>1</td>\n",
              "      <td>0</td>\n",
              "      <td>0</td>\n",
              "      <td>1</td>\n",
              "      <td>0</td>\n",
              "      <td>0</td>\n",
              "      <td>0</td>\n",
              "      <td>0</td>\n",
              "      <td>0</td>\n",
              "      <td>0</td>\n",
              "      <td>0</td>\n",
              "      <td>1</td>\n",
              "      <td>0</td>\n",
              "      <td>0</td>\n",
              "      <td>0</td>\n",
              "      <td>0</td>\n",
              "    </tr>\n",
              "    <tr>\n",
              "      <th>4</th>\n",
              "      <td>True</td>\n",
              "      <td>False</td>\n",
              "      <td>False</td>\n",
              "      <td>False</td>\n",
              "      <td>0</td>\n",
              "      <td>0</td>\n",
              "      <td>0</td>\n",
              "      <td>0</td>\n",
              "      <td>1</td>\n",
              "      <td>0</td>\n",
              "      <td>0</td>\n",
              "      <td>0</td>\n",
              "      <td>0</td>\n",
              "      <td>0</td>\n",
              "      <td>0</td>\n",
              "      <td>0</td>\n",
              "      <td>0</td>\n",
              "      <td>0</td>\n",
              "      <td>0</td>\n",
              "      <td>0</td>\n",
              "      <td>1</td>\n",
              "      <td>0</td>\n",
              "      <td>0</td>\n",
              "      <td>0</td>\n",
              "      <td>0</td>\n",
              "      <td>0</td>\n",
              "      <td>1</td>\n",
              "      <td>0</td>\n",
              "      <td>0</td>\n",
              "      <td>0</td>\n",
              "      <td>0</td>\n",
              "      <td>0</td>\n",
              "      <td>0</td>\n",
              "      <td>0</td>\n",
              "      <td>0</td>\n",
              "      <td>0</td>\n",
              "      <td>0</td>\n",
              "      <td>0</td>\n",
              "      <td>0</td>\n",
              "      <td>0</td>\n",
              "      <td>...</td>\n",
              "      <td>0</td>\n",
              "      <td>0</td>\n",
              "      <td>0</td>\n",
              "      <td>0</td>\n",
              "      <td>0</td>\n",
              "      <td>0</td>\n",
              "      <td>0</td>\n",
              "      <td>0</td>\n",
              "      <td>0</td>\n",
              "      <td>0</td>\n",
              "      <td>0</td>\n",
              "      <td>0</td>\n",
              "      <td>0</td>\n",
              "      <td>0</td>\n",
              "      <td>0</td>\n",
              "      <td>1</td>\n",
              "      <td>0</td>\n",
              "      <td>0</td>\n",
              "      <td>0</td>\n",
              "      <td>0</td>\n",
              "      <td>0</td>\n",
              "      <td>0</td>\n",
              "      <td>1</td>\n",
              "      <td>0</td>\n",
              "      <td>1</td>\n",
              "      <td>0</td>\n",
              "      <td>0</td>\n",
              "      <td>1</td>\n",
              "      <td>0</td>\n",
              "      <td>0</td>\n",
              "      <td>1</td>\n",
              "      <td>0</td>\n",
              "      <td>0</td>\n",
              "      <td>0</td>\n",
              "      <td>0</td>\n",
              "      <td>0</td>\n",
              "      <td>0</td>\n",
              "      <td>0</td>\n",
              "      <td>0</td>\n",
              "      <td>0</td>\n",
              "    </tr>\n",
              "  </tbody>\n",
              "</table>\n",
              "<p>5 rows × 82 columns</p>\n",
              "</div>"
            ],
            "text/plain": [
              "   balcony  hasKitchen  ...  typeOfFlat_roof_storey  typeOfFlat_terraced_flat\n",
              "0    False       False  ...                       0                         0\n",
              "1     True       False  ...                       0                         0\n",
              "2     True       False  ...                       0                         0\n",
              "3     True       False  ...                       0                         0\n",
              "4     True       False  ...                       0                         0\n",
              "\n",
              "[5 rows x 82 columns]"
            ]
          },
          "metadata": {
            "tags": []
          },
          "execution_count": 44
        }
      ]
    },
    {
      "cell_type": "code",
      "metadata": {
        "colab": {
          "base_uri": "https://localhost:8080/",
          "height": 256
        },
        "id": "fM3z710sIZkU",
        "outputId": "f0ba0e5f-236c-4329-f88e-a6689e8723e3"
      },
      "source": [
        "data = pd.concat([data,dum_features],axis=1)\r\n",
        "data.head()"
      ],
      "execution_count": 45,
      "outputs": [
        {
          "output_type": "execute_result",
          "data": {
            "text/html": [
              "<div>\n",
              "<style scoped>\n",
              "    .dataframe tbody tr th:only-of-type {\n",
              "        vertical-align: middle;\n",
              "    }\n",
              "\n",
              "    .dataframe tbody tr th {\n",
              "        vertical-align: top;\n",
              "    }\n",
              "\n",
              "    .dataframe thead th {\n",
              "        text-align: right;\n",
              "    }\n",
              "</style>\n",
              "<table border=\"1\" class=\"dataframe\">\n",
              "  <thead>\n",
              "    <tr style=\"text-align: right;\">\n",
              "      <th></th>\n",
              "      <th>regio1</th>\n",
              "      <th>serviceCharge</th>\n",
              "      <th>telekomTvOffer</th>\n",
              "      <th>balcony</th>\n",
              "      <th>picturecount</th>\n",
              "      <th>pricetrend</th>\n",
              "      <th>telekomUploadSpeed</th>\n",
              "      <th>totalRent</th>\n",
              "      <th>hasKitchen</th>\n",
              "      <th>geo_bln</th>\n",
              "      <th>cellar</th>\n",
              "      <th>baseRent</th>\n",
              "      <th>livingSpace</th>\n",
              "      <th>geo_krs</th>\n",
              "      <th>condition</th>\n",
              "      <th>interiorQual</th>\n",
              "      <th>petsAllowed</th>\n",
              "      <th>baseRentRange</th>\n",
              "      <th>typeOfFlat</th>\n",
              "      <th>geo_plz</th>\n",
              "      <th>noRooms</th>\n",
              "      <th>thermalChar</th>\n",
              "      <th>floor</th>\n",
              "      <th>numberOfFloors</th>\n",
              "      <th>noRoomsRange</th>\n",
              "      <th>garden</th>\n",
              "      <th>livingSpaceRange</th>\n",
              "      <th>balcony</th>\n",
              "      <th>hasKitchen</th>\n",
              "      <th>cellar</th>\n",
              "      <th>garden</th>\n",
              "      <th>regio1_Baden_Württemberg</th>\n",
              "      <th>regio1_Bayern</th>\n",
              "      <th>regio1_Berlin</th>\n",
              "      <th>regio1_Brandenburg</th>\n",
              "      <th>regio1_Bremen</th>\n",
              "      <th>regio1_Hamburg</th>\n",
              "      <th>regio1_Hessen</th>\n",
              "      <th>regio1_Mecklenburg_Vorpommern</th>\n",
              "      <th>regio1_Niedersachsen</th>\n",
              "      <th>...</th>\n",
              "      <th>geo_krs_Duisburg</th>\n",
              "      <th>geo_krs_Düsseldorf</th>\n",
              "      <th>geo_krs_Essen</th>\n",
              "      <th>geo_krs_Frankfurt_am_Main</th>\n",
              "      <th>geo_krs_Gelsenkirchen</th>\n",
              "      <th>geo_krs_Halle_Saale</th>\n",
              "      <th>geo_krs_Hamburg</th>\n",
              "      <th>geo_krs_Köln</th>\n",
              "      <th>geo_krs_Leipzig</th>\n",
              "      <th>geo_krs_Magdeburg</th>\n",
              "      <th>geo_krs_Mittelsachsen_Kreis</th>\n",
              "      <th>geo_krs_München</th>\n",
              "      <th>geo_krs_Recklinghausen_Kreis</th>\n",
              "      <th>geo_krs_Wuppertal</th>\n",
              "      <th>geo_krs_Zwickau</th>\n",
              "      <th>geo_krs_others</th>\n",
              "      <th>condition_first_time_use</th>\n",
              "      <th>condition_first_time_use_after_refurbishment</th>\n",
              "      <th>condition_fully_renovated</th>\n",
              "      <th>condition_mint_condition</th>\n",
              "      <th>condition_modernized</th>\n",
              "      <th>condition_others</th>\n",
              "      <th>condition_refurbished</th>\n",
              "      <th>condition_well_kept</th>\n",
              "      <th>interiorQual_normal</th>\n",
              "      <th>interiorQual_others</th>\n",
              "      <th>interiorQual_sophisticated</th>\n",
              "      <th>petsAllowed_negotiable</th>\n",
              "      <th>petsAllowed_no</th>\n",
              "      <th>petsAllowed_yes</th>\n",
              "      <th>typeOfFlat_apartment</th>\n",
              "      <th>typeOfFlat_ground_floor</th>\n",
              "      <th>typeOfFlat_half_basement</th>\n",
              "      <th>typeOfFlat_loft</th>\n",
              "      <th>typeOfFlat_maisonette</th>\n",
              "      <th>typeOfFlat_other</th>\n",
              "      <th>typeOfFlat_penthouse</th>\n",
              "      <th>typeOfFlat_raised_ground_floor</th>\n",
              "      <th>typeOfFlat_roof_storey</th>\n",
              "      <th>typeOfFlat_terraced_flat</th>\n",
              "    </tr>\n",
              "  </thead>\n",
              "  <tbody>\n",
              "    <tr>\n",
              "      <th>0</th>\n",
              "      <td>Nordrhein_Westfalen</td>\n",
              "      <td>0.231678</td>\n",
              "      <td>ONE_YEAR_FREE</td>\n",
              "      <td>False</td>\n",
              "      <td>0.206897</td>\n",
              "      <td>0.605465</td>\n",
              "      <td>0.230769</td>\n",
              "      <td>0.012993</td>\n",
              "      <td>False</td>\n",
              "      <td>Nordrhein_Westfalen</td>\n",
              "      <td>True</td>\n",
              "      <td>0.015179</td>\n",
              "      <td>86.00</td>\n",
              "      <td>Dortmund</td>\n",
              "      <td>well_kept</td>\n",
              "      <td>normal</td>\n",
              "      <td>negotiable</td>\n",
              "      <td>0.375</td>\n",
              "      <td>ground_floor</td>\n",
              "      <td>0.437910</td>\n",
              "      <td>0.333333</td>\n",
              "      <td>0.700812</td>\n",
              "      <td>0.166667</td>\n",
              "      <td>0.166667</td>\n",
              "      <td>0.75</td>\n",
              "      <td>True</td>\n",
              "      <td>0.500000</td>\n",
              "      <td>False</td>\n",
              "      <td>False</td>\n",
              "      <td>True</td>\n",
              "      <td>True</td>\n",
              "      <td>0</td>\n",
              "      <td>0</td>\n",
              "      <td>0</td>\n",
              "      <td>0</td>\n",
              "      <td>0</td>\n",
              "      <td>0</td>\n",
              "      <td>0</td>\n",
              "      <td>0</td>\n",
              "      <td>0</td>\n",
              "      <td>...</td>\n",
              "      <td>0</td>\n",
              "      <td>0</td>\n",
              "      <td>0</td>\n",
              "      <td>0</td>\n",
              "      <td>0</td>\n",
              "      <td>0</td>\n",
              "      <td>0</td>\n",
              "      <td>0</td>\n",
              "      <td>0</td>\n",
              "      <td>0</td>\n",
              "      <td>0</td>\n",
              "      <td>0</td>\n",
              "      <td>0</td>\n",
              "      <td>0</td>\n",
              "      <td>0</td>\n",
              "      <td>0</td>\n",
              "      <td>0</td>\n",
              "      <td>0</td>\n",
              "      <td>0</td>\n",
              "      <td>0</td>\n",
              "      <td>0</td>\n",
              "      <td>0</td>\n",
              "      <td>0</td>\n",
              "      <td>1</td>\n",
              "      <td>1</td>\n",
              "      <td>0</td>\n",
              "      <td>0</td>\n",
              "      <td>1</td>\n",
              "      <td>0</td>\n",
              "      <td>0</td>\n",
              "      <td>0</td>\n",
              "      <td>1</td>\n",
              "      <td>0</td>\n",
              "      <td>0</td>\n",
              "      <td>0</td>\n",
              "      <td>0</td>\n",
              "      <td>0</td>\n",
              "      <td>0</td>\n",
              "      <td>0</td>\n",
              "      <td>0</td>\n",
              "    </tr>\n",
              "    <tr>\n",
              "      <th>1</th>\n",
              "      <td>Rheinland_Pfalz</td>\n",
              "      <td>0.126714</td>\n",
              "      <td>ONE_YEAR_FREE</td>\n",
              "      <td>True</td>\n",
              "      <td>0.275862</td>\n",
              "      <td>0.507259</td>\n",
              "      <td>0.230769</td>\n",
              "      <td>0.013941</td>\n",
              "      <td>False</td>\n",
              "      <td>Rheinland_Pfalz</td>\n",
              "      <td>False</td>\n",
              "      <td>0.020408</td>\n",
              "      <td>89.00</td>\n",
              "      <td>others</td>\n",
              "      <td>refurbished</td>\n",
              "      <td>normal</td>\n",
              "      <td>no</td>\n",
              "      <td>0.500</td>\n",
              "      <td>ground_floor</td>\n",
              "      <td>0.671807</td>\n",
              "      <td>0.222222</td>\n",
              "      <td>0.443176</td>\n",
              "      <td>0.260200</td>\n",
              "      <td>0.198462</td>\n",
              "      <td>0.50</td>\n",
              "      <td>False</td>\n",
              "      <td>0.500000</td>\n",
              "      <td>True</td>\n",
              "      <td>False</td>\n",
              "      <td>False</td>\n",
              "      <td>False</td>\n",
              "      <td>0</td>\n",
              "      <td>0</td>\n",
              "      <td>0</td>\n",
              "      <td>0</td>\n",
              "      <td>0</td>\n",
              "      <td>0</td>\n",
              "      <td>0</td>\n",
              "      <td>0</td>\n",
              "      <td>0</td>\n",
              "      <td>...</td>\n",
              "      <td>0</td>\n",
              "      <td>0</td>\n",
              "      <td>0</td>\n",
              "      <td>0</td>\n",
              "      <td>0</td>\n",
              "      <td>0</td>\n",
              "      <td>0</td>\n",
              "      <td>0</td>\n",
              "      <td>0</td>\n",
              "      <td>0</td>\n",
              "      <td>0</td>\n",
              "      <td>0</td>\n",
              "      <td>0</td>\n",
              "      <td>0</td>\n",
              "      <td>0</td>\n",
              "      <td>1</td>\n",
              "      <td>0</td>\n",
              "      <td>0</td>\n",
              "      <td>0</td>\n",
              "      <td>0</td>\n",
              "      <td>0</td>\n",
              "      <td>0</td>\n",
              "      <td>1</td>\n",
              "      <td>0</td>\n",
              "      <td>1</td>\n",
              "      <td>0</td>\n",
              "      <td>0</td>\n",
              "      <td>0</td>\n",
              "      <td>1</td>\n",
              "      <td>0</td>\n",
              "      <td>0</td>\n",
              "      <td>1</td>\n",
              "      <td>0</td>\n",
              "      <td>0</td>\n",
              "      <td>0</td>\n",
              "      <td>0</td>\n",
              "      <td>0</td>\n",
              "      <td>0</td>\n",
              "      <td>0</td>\n",
              "      <td>0</td>\n",
              "    </tr>\n",
              "    <tr>\n",
              "      <th>2</th>\n",
              "      <td>Sachsen</td>\n",
              "      <td>0.241135</td>\n",
              "      <td>ONE_YEAR_FREE</td>\n",
              "      <td>True</td>\n",
              "      <td>0.275862</td>\n",
              "      <td>0.443211</td>\n",
              "      <td>0.035897</td>\n",
              "      <td>0.020108</td>\n",
              "      <td>False</td>\n",
              "      <td>Sachsen</td>\n",
              "      <td>True</td>\n",
              "      <td>0.024617</td>\n",
              "      <td>83.80</td>\n",
              "      <td>Dresden</td>\n",
              "      <td>first_time_use</td>\n",
              "      <td>sophisticated</td>\n",
              "      <td>negotiable</td>\n",
              "      <td>0.625</td>\n",
              "      <td>apartment</td>\n",
              "      <td>0.002471</td>\n",
              "      <td>0.222222</td>\n",
              "      <td>0.443176</td>\n",
              "      <td>0.333333</td>\n",
              "      <td>0.222222</td>\n",
              "      <td>0.50</td>\n",
              "      <td>False</td>\n",
              "      <td>0.500000</td>\n",
              "      <td>True</td>\n",
              "      <td>False</td>\n",
              "      <td>True</td>\n",
              "      <td>False</td>\n",
              "      <td>0</td>\n",
              "      <td>0</td>\n",
              "      <td>0</td>\n",
              "      <td>0</td>\n",
              "      <td>0</td>\n",
              "      <td>0</td>\n",
              "      <td>0</td>\n",
              "      <td>0</td>\n",
              "      <td>0</td>\n",
              "      <td>...</td>\n",
              "      <td>0</td>\n",
              "      <td>0</td>\n",
              "      <td>0</td>\n",
              "      <td>0</td>\n",
              "      <td>0</td>\n",
              "      <td>0</td>\n",
              "      <td>0</td>\n",
              "      <td>0</td>\n",
              "      <td>0</td>\n",
              "      <td>0</td>\n",
              "      <td>0</td>\n",
              "      <td>0</td>\n",
              "      <td>0</td>\n",
              "      <td>0</td>\n",
              "      <td>0</td>\n",
              "      <td>0</td>\n",
              "      <td>1</td>\n",
              "      <td>0</td>\n",
              "      <td>0</td>\n",
              "      <td>0</td>\n",
              "      <td>0</td>\n",
              "      <td>0</td>\n",
              "      <td>0</td>\n",
              "      <td>0</td>\n",
              "      <td>0</td>\n",
              "      <td>0</td>\n",
              "      <td>1</td>\n",
              "      <td>1</td>\n",
              "      <td>0</td>\n",
              "      <td>0</td>\n",
              "      <td>1</td>\n",
              "      <td>0</td>\n",
              "      <td>0</td>\n",
              "      <td>0</td>\n",
              "      <td>0</td>\n",
              "      <td>0</td>\n",
              "      <td>0</td>\n",
              "      <td>0</td>\n",
              "      <td>0</td>\n",
              "      <td>0</td>\n",
              "    </tr>\n",
              "    <tr>\n",
              "      <th>3</th>\n",
              "      <td>Sachsen</td>\n",
              "      <td>0.054988</td>\n",
              "      <td>ONE_YEAR_FREE</td>\n",
              "      <td>True</td>\n",
              "      <td>0.310345</td>\n",
              "      <td>0.341588</td>\n",
              "      <td>1.000000</td>\n",
              "      <td>0.013941</td>\n",
              "      <td>False</td>\n",
              "      <td>Sachsen</td>\n",
              "      <td>False</td>\n",
              "      <td>0.008750</td>\n",
              "      <td>58.15</td>\n",
              "      <td>Mittelsachsen_Kreis</td>\n",
              "      <td>well_kept</td>\n",
              "      <td>normal</td>\n",
              "      <td>negotiable</td>\n",
              "      <td>0.125</td>\n",
              "      <td>other</td>\n",
              "      <td>0.088223</td>\n",
              "      <td>0.222222</td>\n",
              "      <td>0.332045</td>\n",
              "      <td>0.333333</td>\n",
              "      <td>0.198462</td>\n",
              "      <td>0.50</td>\n",
              "      <td>False</td>\n",
              "      <td>0.166667</td>\n",
              "      <td>True</td>\n",
              "      <td>False</td>\n",
              "      <td>False</td>\n",
              "      <td>False</td>\n",
              "      <td>0</td>\n",
              "      <td>0</td>\n",
              "      <td>0</td>\n",
              "      <td>0</td>\n",
              "      <td>0</td>\n",
              "      <td>0</td>\n",
              "      <td>0</td>\n",
              "      <td>0</td>\n",
              "      <td>0</td>\n",
              "      <td>...</td>\n",
              "      <td>0</td>\n",
              "      <td>0</td>\n",
              "      <td>0</td>\n",
              "      <td>0</td>\n",
              "      <td>0</td>\n",
              "      <td>0</td>\n",
              "      <td>0</td>\n",
              "      <td>0</td>\n",
              "      <td>0</td>\n",
              "      <td>0</td>\n",
              "      <td>1</td>\n",
              "      <td>0</td>\n",
              "      <td>0</td>\n",
              "      <td>0</td>\n",
              "      <td>0</td>\n",
              "      <td>0</td>\n",
              "      <td>0</td>\n",
              "      <td>0</td>\n",
              "      <td>0</td>\n",
              "      <td>0</td>\n",
              "      <td>0</td>\n",
              "      <td>0</td>\n",
              "      <td>0</td>\n",
              "      <td>1</td>\n",
              "      <td>1</td>\n",
              "      <td>0</td>\n",
              "      <td>0</td>\n",
              "      <td>1</td>\n",
              "      <td>0</td>\n",
              "      <td>0</td>\n",
              "      <td>0</td>\n",
              "      <td>0</td>\n",
              "      <td>0</td>\n",
              "      <td>0</td>\n",
              "      <td>0</td>\n",
              "      <td>1</td>\n",
              "      <td>0</td>\n",
              "      <td>0</td>\n",
              "      <td>0</td>\n",
              "      <td>0</td>\n",
              "    </tr>\n",
              "    <tr>\n",
              "      <th>4</th>\n",
              "      <td>Bremen</td>\n",
              "      <td>0.130496</td>\n",
              "      <td>ONE_YEAR_FREE</td>\n",
              "      <td>True</td>\n",
              "      <td>0.655172</td>\n",
              "      <td>0.421008</td>\n",
              "      <td>0.712947</td>\n",
              "      <td>0.013967</td>\n",
              "      <td>False</td>\n",
              "      <td>Bremen</td>\n",
              "      <td>False</td>\n",
              "      <td>0.019515</td>\n",
              "      <td>84.97</td>\n",
              "      <td>others</td>\n",
              "      <td>refurbished</td>\n",
              "      <td>normal</td>\n",
              "      <td>negotiable</td>\n",
              "      <td>0.500</td>\n",
              "      <td>apartment</td>\n",
              "      <td>0.275967</td>\n",
              "      <td>0.222222</td>\n",
              "      <td>0.729803</td>\n",
              "      <td>0.166667</td>\n",
              "      <td>0.198462</td>\n",
              "      <td>0.50</td>\n",
              "      <td>False</td>\n",
              "      <td>0.500000</td>\n",
              "      <td>True</td>\n",
              "      <td>False</td>\n",
              "      <td>False</td>\n",
              "      <td>False</td>\n",
              "      <td>0</td>\n",
              "      <td>0</td>\n",
              "      <td>0</td>\n",
              "      <td>0</td>\n",
              "      <td>1</td>\n",
              "      <td>0</td>\n",
              "      <td>0</td>\n",
              "      <td>0</td>\n",
              "      <td>0</td>\n",
              "      <td>...</td>\n",
              "      <td>0</td>\n",
              "      <td>0</td>\n",
              "      <td>0</td>\n",
              "      <td>0</td>\n",
              "      <td>0</td>\n",
              "      <td>0</td>\n",
              "      <td>0</td>\n",
              "      <td>0</td>\n",
              "      <td>0</td>\n",
              "      <td>0</td>\n",
              "      <td>0</td>\n",
              "      <td>0</td>\n",
              "      <td>0</td>\n",
              "      <td>0</td>\n",
              "      <td>0</td>\n",
              "      <td>1</td>\n",
              "      <td>0</td>\n",
              "      <td>0</td>\n",
              "      <td>0</td>\n",
              "      <td>0</td>\n",
              "      <td>0</td>\n",
              "      <td>0</td>\n",
              "      <td>1</td>\n",
              "      <td>0</td>\n",
              "      <td>1</td>\n",
              "      <td>0</td>\n",
              "      <td>0</td>\n",
              "      <td>1</td>\n",
              "      <td>0</td>\n",
              "      <td>0</td>\n",
              "      <td>1</td>\n",
              "      <td>0</td>\n",
              "      <td>0</td>\n",
              "      <td>0</td>\n",
              "      <td>0</td>\n",
              "      <td>0</td>\n",
              "      <td>0</td>\n",
              "      <td>0</td>\n",
              "      <td>0</td>\n",
              "      <td>0</td>\n",
              "    </tr>\n",
              "  </tbody>\n",
              "</table>\n",
              "<p>5 rows × 109 columns</p>\n",
              "</div>"
            ],
            "text/plain": [
              "                regio1  ...  typeOfFlat_terraced_flat\n",
              "0  Nordrhein_Westfalen  ...                         0\n",
              "1      Rheinland_Pfalz  ...                         0\n",
              "2              Sachsen  ...                         0\n",
              "3              Sachsen  ...                         0\n",
              "4               Bremen  ...                         0\n",
              "\n",
              "[5 rows x 109 columns]"
            ]
          },
          "metadata": {
            "tags": []
          },
          "execution_count": 45
        }
      ]
    },
    {
      "cell_type": "code",
      "metadata": {
        "colab": {
          "base_uri": "https://localhost:8080/",
          "height": 256
        },
        "id": "BT0iFUMII826",
        "outputId": "ee7e0c2d-3c4f-416c-b97b-f8337edf6310"
      },
      "source": [
        "data = data.drop(columns=cate_features)\r\n",
        "data.head()"
      ],
      "execution_count": 46,
      "outputs": [
        {
          "output_type": "execute_result",
          "data": {
            "text/html": [
              "<div>\n",
              "<style scoped>\n",
              "    .dataframe tbody tr th:only-of-type {\n",
              "        vertical-align: middle;\n",
              "    }\n",
              "\n",
              "    .dataframe tbody tr th {\n",
              "        vertical-align: top;\n",
              "    }\n",
              "\n",
              "    .dataframe thead th {\n",
              "        text-align: right;\n",
              "    }\n",
              "</style>\n",
              "<table border=\"1\" class=\"dataframe\">\n",
              "  <thead>\n",
              "    <tr style=\"text-align: right;\">\n",
              "      <th></th>\n",
              "      <th>serviceCharge</th>\n",
              "      <th>picturecount</th>\n",
              "      <th>pricetrend</th>\n",
              "      <th>telekomUploadSpeed</th>\n",
              "      <th>totalRent</th>\n",
              "      <th>baseRent</th>\n",
              "      <th>livingSpace</th>\n",
              "      <th>baseRentRange</th>\n",
              "      <th>geo_plz</th>\n",
              "      <th>noRooms</th>\n",
              "      <th>thermalChar</th>\n",
              "      <th>floor</th>\n",
              "      <th>numberOfFloors</th>\n",
              "      <th>noRoomsRange</th>\n",
              "      <th>livingSpaceRange</th>\n",
              "      <th>regio1_Baden_Württemberg</th>\n",
              "      <th>regio1_Bayern</th>\n",
              "      <th>regio1_Berlin</th>\n",
              "      <th>regio1_Brandenburg</th>\n",
              "      <th>regio1_Bremen</th>\n",
              "      <th>regio1_Hamburg</th>\n",
              "      <th>regio1_Hessen</th>\n",
              "      <th>regio1_Mecklenburg_Vorpommern</th>\n",
              "      <th>regio1_Niedersachsen</th>\n",
              "      <th>regio1_Nordrhein_Westfalen</th>\n",
              "      <th>regio1_Rheinland_Pfalz</th>\n",
              "      <th>regio1_Saarland</th>\n",
              "      <th>regio1_Sachsen</th>\n",
              "      <th>regio1_Sachsen_Anhalt</th>\n",
              "      <th>regio1_Schleswig_Holstein</th>\n",
              "      <th>regio1_Thüringen</th>\n",
              "      <th>telekomTvOffer_ONE_YEAR_FREE</th>\n",
              "      <th>telekomTvOffer_others</th>\n",
              "      <th>geo_bln_Baden_Württemberg</th>\n",
              "      <th>geo_bln_Bayern</th>\n",
              "      <th>geo_bln_Berlin</th>\n",
              "      <th>geo_bln_Brandenburg</th>\n",
              "      <th>geo_bln_Bremen</th>\n",
              "      <th>geo_bln_Hamburg</th>\n",
              "      <th>geo_bln_Hessen</th>\n",
              "      <th>...</th>\n",
              "      <th>geo_krs_Duisburg</th>\n",
              "      <th>geo_krs_Düsseldorf</th>\n",
              "      <th>geo_krs_Essen</th>\n",
              "      <th>geo_krs_Frankfurt_am_Main</th>\n",
              "      <th>geo_krs_Gelsenkirchen</th>\n",
              "      <th>geo_krs_Halle_Saale</th>\n",
              "      <th>geo_krs_Hamburg</th>\n",
              "      <th>geo_krs_Köln</th>\n",
              "      <th>geo_krs_Leipzig</th>\n",
              "      <th>geo_krs_Magdeburg</th>\n",
              "      <th>geo_krs_Mittelsachsen_Kreis</th>\n",
              "      <th>geo_krs_München</th>\n",
              "      <th>geo_krs_Recklinghausen_Kreis</th>\n",
              "      <th>geo_krs_Wuppertal</th>\n",
              "      <th>geo_krs_Zwickau</th>\n",
              "      <th>geo_krs_others</th>\n",
              "      <th>condition_first_time_use</th>\n",
              "      <th>condition_first_time_use_after_refurbishment</th>\n",
              "      <th>condition_fully_renovated</th>\n",
              "      <th>condition_mint_condition</th>\n",
              "      <th>condition_modernized</th>\n",
              "      <th>condition_others</th>\n",
              "      <th>condition_refurbished</th>\n",
              "      <th>condition_well_kept</th>\n",
              "      <th>interiorQual_normal</th>\n",
              "      <th>interiorQual_others</th>\n",
              "      <th>interiorQual_sophisticated</th>\n",
              "      <th>petsAllowed_negotiable</th>\n",
              "      <th>petsAllowed_no</th>\n",
              "      <th>petsAllowed_yes</th>\n",
              "      <th>typeOfFlat_apartment</th>\n",
              "      <th>typeOfFlat_ground_floor</th>\n",
              "      <th>typeOfFlat_half_basement</th>\n",
              "      <th>typeOfFlat_loft</th>\n",
              "      <th>typeOfFlat_maisonette</th>\n",
              "      <th>typeOfFlat_other</th>\n",
              "      <th>typeOfFlat_penthouse</th>\n",
              "      <th>typeOfFlat_raised_ground_floor</th>\n",
              "      <th>typeOfFlat_roof_storey</th>\n",
              "      <th>typeOfFlat_terraced_flat</th>\n",
              "    </tr>\n",
              "  </thead>\n",
              "  <tbody>\n",
              "    <tr>\n",
              "      <th>0</th>\n",
              "      <td>0.231678</td>\n",
              "      <td>0.206897</td>\n",
              "      <td>0.605465</td>\n",
              "      <td>0.230769</td>\n",
              "      <td>0.012993</td>\n",
              "      <td>0.015179</td>\n",
              "      <td>86.00</td>\n",
              "      <td>0.375</td>\n",
              "      <td>0.437910</td>\n",
              "      <td>0.333333</td>\n",
              "      <td>0.700812</td>\n",
              "      <td>0.166667</td>\n",
              "      <td>0.166667</td>\n",
              "      <td>0.75</td>\n",
              "      <td>0.500000</td>\n",
              "      <td>0</td>\n",
              "      <td>0</td>\n",
              "      <td>0</td>\n",
              "      <td>0</td>\n",
              "      <td>0</td>\n",
              "      <td>0</td>\n",
              "      <td>0</td>\n",
              "      <td>0</td>\n",
              "      <td>0</td>\n",
              "      <td>1</td>\n",
              "      <td>0</td>\n",
              "      <td>0</td>\n",
              "      <td>0</td>\n",
              "      <td>0</td>\n",
              "      <td>0</td>\n",
              "      <td>0</td>\n",
              "      <td>1</td>\n",
              "      <td>0</td>\n",
              "      <td>0</td>\n",
              "      <td>0</td>\n",
              "      <td>0</td>\n",
              "      <td>0</td>\n",
              "      <td>0</td>\n",
              "      <td>0</td>\n",
              "      <td>0</td>\n",
              "      <td>...</td>\n",
              "      <td>0</td>\n",
              "      <td>0</td>\n",
              "      <td>0</td>\n",
              "      <td>0</td>\n",
              "      <td>0</td>\n",
              "      <td>0</td>\n",
              "      <td>0</td>\n",
              "      <td>0</td>\n",
              "      <td>0</td>\n",
              "      <td>0</td>\n",
              "      <td>0</td>\n",
              "      <td>0</td>\n",
              "      <td>0</td>\n",
              "      <td>0</td>\n",
              "      <td>0</td>\n",
              "      <td>0</td>\n",
              "      <td>0</td>\n",
              "      <td>0</td>\n",
              "      <td>0</td>\n",
              "      <td>0</td>\n",
              "      <td>0</td>\n",
              "      <td>0</td>\n",
              "      <td>0</td>\n",
              "      <td>1</td>\n",
              "      <td>1</td>\n",
              "      <td>0</td>\n",
              "      <td>0</td>\n",
              "      <td>1</td>\n",
              "      <td>0</td>\n",
              "      <td>0</td>\n",
              "      <td>0</td>\n",
              "      <td>1</td>\n",
              "      <td>0</td>\n",
              "      <td>0</td>\n",
              "      <td>0</td>\n",
              "      <td>0</td>\n",
              "      <td>0</td>\n",
              "      <td>0</td>\n",
              "      <td>0</td>\n",
              "      <td>0</td>\n",
              "    </tr>\n",
              "    <tr>\n",
              "      <th>1</th>\n",
              "      <td>0.126714</td>\n",
              "      <td>0.275862</td>\n",
              "      <td>0.507259</td>\n",
              "      <td>0.230769</td>\n",
              "      <td>0.013941</td>\n",
              "      <td>0.020408</td>\n",
              "      <td>89.00</td>\n",
              "      <td>0.500</td>\n",
              "      <td>0.671807</td>\n",
              "      <td>0.222222</td>\n",
              "      <td>0.443176</td>\n",
              "      <td>0.260200</td>\n",
              "      <td>0.198462</td>\n",
              "      <td>0.50</td>\n",
              "      <td>0.500000</td>\n",
              "      <td>0</td>\n",
              "      <td>0</td>\n",
              "      <td>0</td>\n",
              "      <td>0</td>\n",
              "      <td>0</td>\n",
              "      <td>0</td>\n",
              "      <td>0</td>\n",
              "      <td>0</td>\n",
              "      <td>0</td>\n",
              "      <td>0</td>\n",
              "      <td>1</td>\n",
              "      <td>0</td>\n",
              "      <td>0</td>\n",
              "      <td>0</td>\n",
              "      <td>0</td>\n",
              "      <td>0</td>\n",
              "      <td>1</td>\n",
              "      <td>0</td>\n",
              "      <td>0</td>\n",
              "      <td>0</td>\n",
              "      <td>0</td>\n",
              "      <td>0</td>\n",
              "      <td>0</td>\n",
              "      <td>0</td>\n",
              "      <td>0</td>\n",
              "      <td>...</td>\n",
              "      <td>0</td>\n",
              "      <td>0</td>\n",
              "      <td>0</td>\n",
              "      <td>0</td>\n",
              "      <td>0</td>\n",
              "      <td>0</td>\n",
              "      <td>0</td>\n",
              "      <td>0</td>\n",
              "      <td>0</td>\n",
              "      <td>0</td>\n",
              "      <td>0</td>\n",
              "      <td>0</td>\n",
              "      <td>0</td>\n",
              "      <td>0</td>\n",
              "      <td>0</td>\n",
              "      <td>1</td>\n",
              "      <td>0</td>\n",
              "      <td>0</td>\n",
              "      <td>0</td>\n",
              "      <td>0</td>\n",
              "      <td>0</td>\n",
              "      <td>0</td>\n",
              "      <td>1</td>\n",
              "      <td>0</td>\n",
              "      <td>1</td>\n",
              "      <td>0</td>\n",
              "      <td>0</td>\n",
              "      <td>0</td>\n",
              "      <td>1</td>\n",
              "      <td>0</td>\n",
              "      <td>0</td>\n",
              "      <td>1</td>\n",
              "      <td>0</td>\n",
              "      <td>0</td>\n",
              "      <td>0</td>\n",
              "      <td>0</td>\n",
              "      <td>0</td>\n",
              "      <td>0</td>\n",
              "      <td>0</td>\n",
              "      <td>0</td>\n",
              "    </tr>\n",
              "    <tr>\n",
              "      <th>2</th>\n",
              "      <td>0.241135</td>\n",
              "      <td>0.275862</td>\n",
              "      <td>0.443211</td>\n",
              "      <td>0.035897</td>\n",
              "      <td>0.020108</td>\n",
              "      <td>0.024617</td>\n",
              "      <td>83.80</td>\n",
              "      <td>0.625</td>\n",
              "      <td>0.002471</td>\n",
              "      <td>0.222222</td>\n",
              "      <td>0.443176</td>\n",
              "      <td>0.333333</td>\n",
              "      <td>0.222222</td>\n",
              "      <td>0.50</td>\n",
              "      <td>0.500000</td>\n",
              "      <td>0</td>\n",
              "      <td>0</td>\n",
              "      <td>0</td>\n",
              "      <td>0</td>\n",
              "      <td>0</td>\n",
              "      <td>0</td>\n",
              "      <td>0</td>\n",
              "      <td>0</td>\n",
              "      <td>0</td>\n",
              "      <td>0</td>\n",
              "      <td>0</td>\n",
              "      <td>0</td>\n",
              "      <td>1</td>\n",
              "      <td>0</td>\n",
              "      <td>0</td>\n",
              "      <td>0</td>\n",
              "      <td>1</td>\n",
              "      <td>0</td>\n",
              "      <td>0</td>\n",
              "      <td>0</td>\n",
              "      <td>0</td>\n",
              "      <td>0</td>\n",
              "      <td>0</td>\n",
              "      <td>0</td>\n",
              "      <td>0</td>\n",
              "      <td>...</td>\n",
              "      <td>0</td>\n",
              "      <td>0</td>\n",
              "      <td>0</td>\n",
              "      <td>0</td>\n",
              "      <td>0</td>\n",
              "      <td>0</td>\n",
              "      <td>0</td>\n",
              "      <td>0</td>\n",
              "      <td>0</td>\n",
              "      <td>0</td>\n",
              "      <td>0</td>\n",
              "      <td>0</td>\n",
              "      <td>0</td>\n",
              "      <td>0</td>\n",
              "      <td>0</td>\n",
              "      <td>0</td>\n",
              "      <td>1</td>\n",
              "      <td>0</td>\n",
              "      <td>0</td>\n",
              "      <td>0</td>\n",
              "      <td>0</td>\n",
              "      <td>0</td>\n",
              "      <td>0</td>\n",
              "      <td>0</td>\n",
              "      <td>0</td>\n",
              "      <td>0</td>\n",
              "      <td>1</td>\n",
              "      <td>1</td>\n",
              "      <td>0</td>\n",
              "      <td>0</td>\n",
              "      <td>1</td>\n",
              "      <td>0</td>\n",
              "      <td>0</td>\n",
              "      <td>0</td>\n",
              "      <td>0</td>\n",
              "      <td>0</td>\n",
              "      <td>0</td>\n",
              "      <td>0</td>\n",
              "      <td>0</td>\n",
              "      <td>0</td>\n",
              "    </tr>\n",
              "    <tr>\n",
              "      <th>3</th>\n",
              "      <td>0.054988</td>\n",
              "      <td>0.310345</td>\n",
              "      <td>0.341588</td>\n",
              "      <td>1.000000</td>\n",
              "      <td>0.013941</td>\n",
              "      <td>0.008750</td>\n",
              "      <td>58.15</td>\n",
              "      <td>0.125</td>\n",
              "      <td>0.088223</td>\n",
              "      <td>0.222222</td>\n",
              "      <td>0.332045</td>\n",
              "      <td>0.333333</td>\n",
              "      <td>0.198462</td>\n",
              "      <td>0.50</td>\n",
              "      <td>0.166667</td>\n",
              "      <td>0</td>\n",
              "      <td>0</td>\n",
              "      <td>0</td>\n",
              "      <td>0</td>\n",
              "      <td>0</td>\n",
              "      <td>0</td>\n",
              "      <td>0</td>\n",
              "      <td>0</td>\n",
              "      <td>0</td>\n",
              "      <td>0</td>\n",
              "      <td>0</td>\n",
              "      <td>0</td>\n",
              "      <td>1</td>\n",
              "      <td>0</td>\n",
              "      <td>0</td>\n",
              "      <td>0</td>\n",
              "      <td>1</td>\n",
              "      <td>0</td>\n",
              "      <td>0</td>\n",
              "      <td>0</td>\n",
              "      <td>0</td>\n",
              "      <td>0</td>\n",
              "      <td>0</td>\n",
              "      <td>0</td>\n",
              "      <td>0</td>\n",
              "      <td>...</td>\n",
              "      <td>0</td>\n",
              "      <td>0</td>\n",
              "      <td>0</td>\n",
              "      <td>0</td>\n",
              "      <td>0</td>\n",
              "      <td>0</td>\n",
              "      <td>0</td>\n",
              "      <td>0</td>\n",
              "      <td>0</td>\n",
              "      <td>0</td>\n",
              "      <td>1</td>\n",
              "      <td>0</td>\n",
              "      <td>0</td>\n",
              "      <td>0</td>\n",
              "      <td>0</td>\n",
              "      <td>0</td>\n",
              "      <td>0</td>\n",
              "      <td>0</td>\n",
              "      <td>0</td>\n",
              "      <td>0</td>\n",
              "      <td>0</td>\n",
              "      <td>0</td>\n",
              "      <td>0</td>\n",
              "      <td>1</td>\n",
              "      <td>1</td>\n",
              "      <td>0</td>\n",
              "      <td>0</td>\n",
              "      <td>1</td>\n",
              "      <td>0</td>\n",
              "      <td>0</td>\n",
              "      <td>0</td>\n",
              "      <td>0</td>\n",
              "      <td>0</td>\n",
              "      <td>0</td>\n",
              "      <td>0</td>\n",
              "      <td>1</td>\n",
              "      <td>0</td>\n",
              "      <td>0</td>\n",
              "      <td>0</td>\n",
              "      <td>0</td>\n",
              "    </tr>\n",
              "    <tr>\n",
              "      <th>4</th>\n",
              "      <td>0.130496</td>\n",
              "      <td>0.655172</td>\n",
              "      <td>0.421008</td>\n",
              "      <td>0.712947</td>\n",
              "      <td>0.013967</td>\n",
              "      <td>0.019515</td>\n",
              "      <td>84.97</td>\n",
              "      <td>0.500</td>\n",
              "      <td>0.275967</td>\n",
              "      <td>0.222222</td>\n",
              "      <td>0.729803</td>\n",
              "      <td>0.166667</td>\n",
              "      <td>0.198462</td>\n",
              "      <td>0.50</td>\n",
              "      <td>0.500000</td>\n",
              "      <td>0</td>\n",
              "      <td>0</td>\n",
              "      <td>0</td>\n",
              "      <td>0</td>\n",
              "      <td>1</td>\n",
              "      <td>0</td>\n",
              "      <td>0</td>\n",
              "      <td>0</td>\n",
              "      <td>0</td>\n",
              "      <td>0</td>\n",
              "      <td>0</td>\n",
              "      <td>0</td>\n",
              "      <td>0</td>\n",
              "      <td>0</td>\n",
              "      <td>0</td>\n",
              "      <td>0</td>\n",
              "      <td>1</td>\n",
              "      <td>0</td>\n",
              "      <td>0</td>\n",
              "      <td>0</td>\n",
              "      <td>0</td>\n",
              "      <td>0</td>\n",
              "      <td>1</td>\n",
              "      <td>0</td>\n",
              "      <td>0</td>\n",
              "      <td>...</td>\n",
              "      <td>0</td>\n",
              "      <td>0</td>\n",
              "      <td>0</td>\n",
              "      <td>0</td>\n",
              "      <td>0</td>\n",
              "      <td>0</td>\n",
              "      <td>0</td>\n",
              "      <td>0</td>\n",
              "      <td>0</td>\n",
              "      <td>0</td>\n",
              "      <td>0</td>\n",
              "      <td>0</td>\n",
              "      <td>0</td>\n",
              "      <td>0</td>\n",
              "      <td>0</td>\n",
              "      <td>1</td>\n",
              "      <td>0</td>\n",
              "      <td>0</td>\n",
              "      <td>0</td>\n",
              "      <td>0</td>\n",
              "      <td>0</td>\n",
              "      <td>0</td>\n",
              "      <td>1</td>\n",
              "      <td>0</td>\n",
              "      <td>1</td>\n",
              "      <td>0</td>\n",
              "      <td>0</td>\n",
              "      <td>1</td>\n",
              "      <td>0</td>\n",
              "      <td>0</td>\n",
              "      <td>1</td>\n",
              "      <td>0</td>\n",
              "      <td>0</td>\n",
              "      <td>0</td>\n",
              "      <td>0</td>\n",
              "      <td>0</td>\n",
              "      <td>0</td>\n",
              "      <td>0</td>\n",
              "      <td>0</td>\n",
              "      <td>0</td>\n",
              "    </tr>\n",
              "  </tbody>\n",
              "</table>\n",
              "<p>5 rows × 93 columns</p>\n",
              "</div>"
            ],
            "text/plain": [
              "   serviceCharge  ...  typeOfFlat_terraced_flat\n",
              "0       0.231678  ...                         0\n",
              "1       0.126714  ...                         0\n",
              "2       0.241135  ...                         0\n",
              "3       0.054988  ...                         0\n",
              "4       0.130496  ...                         0\n",
              "\n",
              "[5 rows x 93 columns]"
            ]
          },
          "metadata": {
            "tags": []
          },
          "execution_count": 46
        }
      ]
    },
    {
      "cell_type": "code",
      "metadata": {
        "colab": {
          "base_uri": "https://localhost:8080/"
        },
        "id": "0jSJzQmmJqjK",
        "outputId": "788221cc-35cf-4700-d5f3-96aefc9e678b"
      },
      "source": [
        "data.shape"
      ],
      "execution_count": 47,
      "outputs": [
        {
          "output_type": "execute_result",
          "data": {
            "text/plain": [
              "(259737, 93)"
            ]
          },
          "metadata": {
            "tags": []
          },
          "execution_count": 47
        }
      ]
    },
    {
      "cell_type": "code",
      "metadata": {
        "colab": {
          "base_uri": "https://localhost:8080/"
        },
        "id": "ibhfuDxEJvma",
        "outputId": "dce4736b-b958-4992-b20b-a43576b1eaeb"
      },
      "source": [
        "x = data.drop(columns=['livingSpace'])\r\n",
        "print(x.shape)\r\n",
        "print(y.shape)"
      ],
      "execution_count": 48,
      "outputs": [
        {
          "output_type": "stream",
          "text": [
            "(259737, 92)\n",
            "(259737,)\n"
          ],
          "name": "stdout"
        }
      ]
    },
    {
      "cell_type": "code",
      "metadata": {
        "id": "nBAp92hlDOCJ"
      },
      "source": [
        "from sklearn.model_selection import train_test_split"
      ],
      "execution_count": 49,
      "outputs": []
    },
    {
      "cell_type": "code",
      "metadata": {
        "id": "bo1MbmvmDOlw"
      },
      "source": [
        "xtrain, xtest, ytrain, ytest = train_test_split(x, y, test_size=0.3, random_state=42)"
      ],
      "execution_count": 50,
      "outputs": []
    },
    {
      "cell_type": "code",
      "metadata": {
        "colab": {
          "base_uri": "https://localhost:8080/"
        },
        "id": "pvNKS-4rskuU",
        "outputId": "c5c88c9c-7df6-415a-dee9-0d558f2c4245"
      },
      "source": [
        "print(xtrain.shape)\r\n",
        "print(ytrain.shape)\r\n",
        "\r\n",
        "\r\n",
        "print(xtest.shape)\r\n",
        "print(ytest.shape)"
      ],
      "execution_count": 51,
      "outputs": [
        {
          "output_type": "stream",
          "text": [
            "(181815, 92)\n",
            "(181815,)\n",
            "(77922, 92)\n",
            "(77922,)\n"
          ],
          "name": "stdout"
        }
      ]
    },
    {
      "cell_type": "code",
      "metadata": {
        "colab": {
          "base_uri": "https://localhost:8080/"
        },
        "id": "uB61fvx5VnKb",
        "outputId": "b369bb7c-d6e8-4cde-e3d3-8545fa6765cb"
      },
      "source": [
        "ytest.head()"
      ],
      "execution_count": 314,
      "outputs": [
        {
          "output_type": "execute_result",
          "data": {
            "text/plain": [
              "67473     40.0\n",
              "258559    72.0\n",
              "67004     70.0\n",
              "163767    85.0\n",
              "77978     73.5\n",
              "Name: livingSpace, dtype: float64"
            ]
          },
          "metadata": {
            "tags": []
          },
          "execution_count": 314
        }
      ]
    },
    {
      "cell_type": "code",
      "metadata": {
        "colab": {
          "base_uri": "https://localhost:8080/"
        },
        "id": "gWnFoTULVurj",
        "outputId": "6101b376-b954-4006-edf6-c3f01c27dba3"
      },
      "source": [
        "ytrain.head()"
      ],
      "execution_count": 315,
      "outputs": [
        {
          "output_type": "execute_result",
          "data": {
            "text/plain": [
              "41470     120.00\n",
              "227255     78.00\n",
              "190557     95.21\n",
              "69117      59.00\n",
              "238349     72.50\n",
              "Name: livingSpace, dtype: float64"
            ]
          },
          "metadata": {
            "tags": []
          },
          "execution_count": 315
        }
      ]
    },
    {
      "cell_type": "code",
      "metadata": {
        "colab": {
          "base_uri": "https://localhost:8080/"
        },
        "id": "bkuErIu_IEjm",
        "outputId": "a41c18cd-5bcc-48cd-ccd7-2f750f7415dd"
      },
      "source": [
        "np.random.seed(42)\r\n",
        "b = np.random.randn(92)\r\n",
        "w = np.random.randn(92)\r\n",
        "lr = 0.01\r\n",
        "epochs = 500\r\n",
        "\r\n",
        "lastloss = 0\r\n",
        "for epoch in range(epochs):\r\n",
        "    error = ytrain - np.sum((w*xtrain) + b , axis = 1)\r\n",
        "    \r\n",
        "    loss = (error**2).mean()\r\n",
        "\r\n",
        "    if abs(lastloss- loss)<0.01 :\r\n",
        "      break\r\n",
        "    \r\n",
        "    lastloss = loss    \r\n",
        "\r\n",
        "    if loss > 10**50 :\r\n",
        "      break\r\n",
        "\r\n",
        "    if (epoch+1) % 10 == 0:    \r\n",
        "        print('epoch ' + str(epoch+1)+'  loss: ' + str(loss))\r\n",
        "    \r\n",
        "    wgrad = [0] * xtrain.shape[1]\r\n",
        "    bgrad = 0\r\n",
        "    \r\n",
        "    for i in range(xtrain.shape[1]):\r\n",
        "        wgrad[i] = -1 * (xtrain.iloc[:,i] * error).mean()\r\n",
        "        w[i] = w[i] - (lr * wgrad[i])\r\n",
        "        \r\n",
        "    bgrad = -1 * error.mean()\r\n",
        "    b = b - (lr*bgrad)\r\n",
        "              \r\n"
      ],
      "execution_count": 316,
      "outputs": [
        {
          "output_type": "stream",
          "text": [
            "epoch 10  loss: 960.2222346299042\n",
            "epoch 20  loss: 927.2289211398621\n",
            "epoch 30  loss: 896.3199553945117\n",
            "epoch 40  loss: 867.3118263985167\n",
            "epoch 50  loss: 840.0397406034737\n",
            "epoch 60  loss: 814.3556018841716\n",
            "epoch 70  loss: 790.126214852564\n",
            "epoch 80  loss: 767.231686499799\n",
            "epoch 90  loss: 745.5640039786384\n",
            "epoch 100  loss: 725.0257688439656\n",
            "epoch 110  loss: 705.5290702853051\n",
            "epoch 120  loss: 686.9944818548882\n",
            "epoch 130  loss: 669.3501679373961\n",
            "epoch 140  loss: 652.53108775495\n",
            "epoch 150  loss: 636.4782860723556\n",
            "epoch 160  loss: 621.1382609835304\n",
            "epoch 170  loss: 606.4624002393698\n",
            "epoch 180  loss: 592.4064785338691\n",
            "epoch 190  loss: 578.9302090142957\n",
            "epoch 200  loss: 565.9968430344223\n",
            "epoch 210  loss: 553.5728128376446\n",
            "epoch 220  loss: 541.6274124500812\n",
            "epoch 230  loss: 530.132512589806\n",
            "epoch 240  loss: 519.0623058651439\n",
            "epoch 250  loss: 508.3930789496484\n",
            "epoch 260  loss: 498.10300878937215\n",
            "epoch 270  loss: 488.17198022440186\n",
            "epoch 280  loss: 478.58142269716114\n",
            "epoch 290  loss: 469.3141639770032\n",
            "epoch 300  loss: 460.35429905976997\n",
            "epoch 310  loss: 451.6870726039946\n",
            "epoch 320  loss: 443.29877344606916\n",
            "epoch 330  loss: 435.17663989675276\n",
            "epoch 340  loss: 427.3087746643926\n",
            "epoch 350  loss: 419.68406837611496\n",
            "epoch 360  loss: 412.29213078189844\n",
            "epoch 370  loss: 405.1232288251314\n",
            "epoch 380  loss: 398.16823085362097\n",
            "epoch 390  loss: 391.41855632288906\n",
            "epoch 400  loss: 384.86613041490364\n",
            "epoch 410  loss: 378.50334305740074\n",
            "epoch 420  loss: 372.32301188483797\n",
            "epoch 430  loss: 366.3183487315772\n",
            "epoch 440  loss: 360.48292929188545\n",
            "epoch 450  loss: 354.81066562081327\n",
            "epoch 460  loss: 349.2957811846191\n",
            "epoch 470  loss: 343.93278820081366\n",
            "epoch 480  loss: 338.7164670355457\n",
            "epoch 490  loss: 333.64184745064426\n",
            "epoch 500  loss: 328.7041915147681\n"
          ],
          "name": "stdout"
        }
      ]
    },
    {
      "cell_type": "code",
      "metadata": {
        "colab": {
          "base_uri": "https://localhost:8080/",
          "height": 206
        },
        "id": "ix9RsxrgezZO",
        "outputId": "28832009-725d-49e8-b495-91eee982eb84"
      },
      "source": [
        "ypred = np.sum((w*xtest) + b , axis = 1)\r\n",
        "df = pd.DataFrame({'test':ytest,'predict':ypred})\r\n",
        "df.head()"
      ],
      "execution_count": 317,
      "outputs": [
        {
          "output_type": "execute_result",
          "data": {
            "text/html": [
              "<div>\n",
              "<style scoped>\n",
              "    .dataframe tbody tr th:only-of-type {\n",
              "        vertical-align: middle;\n",
              "    }\n",
              "\n",
              "    .dataframe tbody tr th {\n",
              "        vertical-align: top;\n",
              "    }\n",
              "\n",
              "    .dataframe thead th {\n",
              "        text-align: right;\n",
              "    }\n",
              "</style>\n",
              "<table border=\"1\" class=\"dataframe\">\n",
              "  <thead>\n",
              "    <tr style=\"text-align: right;\">\n",
              "      <th></th>\n",
              "      <th>test</th>\n",
              "      <th>predict</th>\n",
              "    </tr>\n",
              "  </thead>\n",
              "  <tbody>\n",
              "    <tr>\n",
              "      <th>67473</th>\n",
              "      <td>40.0</td>\n",
              "      <td>60.652165</td>\n",
              "    </tr>\n",
              "    <tr>\n",
              "      <th>258559</th>\n",
              "      <td>72.0</td>\n",
              "      <td>68.583806</td>\n",
              "    </tr>\n",
              "    <tr>\n",
              "      <th>67004</th>\n",
              "      <td>70.0</td>\n",
              "      <td>74.337802</td>\n",
              "    </tr>\n",
              "    <tr>\n",
              "      <th>163767</th>\n",
              "      <td>85.0</td>\n",
              "      <td>74.632771</td>\n",
              "    </tr>\n",
              "    <tr>\n",
              "      <th>77978</th>\n",
              "      <td>73.5</td>\n",
              "      <td>67.223066</td>\n",
              "    </tr>\n",
              "  </tbody>\n",
              "</table>\n",
              "</div>"
            ],
            "text/plain": [
              "        test    predict\n",
              "67473   40.0  60.652165\n",
              "258559  72.0  68.583806\n",
              "67004   70.0  74.337802\n",
              "163767  85.0  74.632771\n",
              "77978   73.5  67.223066"
            ]
          },
          "metadata": {
            "tags": []
          },
          "execution_count": 317
        }
      ]
    },
    {
      "cell_type": "code",
      "metadata": {
        "colab": {
          "base_uri": "https://localhost:8080/"
        },
        "id": "5dN7e5LQia2-",
        "outputId": "1a250c36-d9de-4956-9ecc-c1edd8a0152c"
      },
      "source": [
        "sum =0\r\n",
        "N = len(ytest.values)\r\n",
        "for i in range(N):\r\n",
        "  if (ypred.values[i]<ytest.values[i]*1.15) and (ypred.values[i]>ytest.values[i]*0.85):\r\n",
        "    sum = sum + 1\r\n",
        "print('accuracy : ' + str(sum/N)) "
      ],
      "execution_count": 318,
      "outputs": [
        {
          "output_type": "stream",
          "text": [
            "accuracy : 0.6030389363722697\n"
          ],
          "name": "stdout"
        }
      ]
    },
    {
      "cell_type": "code",
      "metadata": {
        "colab": {
          "base_uri": "https://localhost:8080/"
        },
        "id": "ucR93Dl-zxxX",
        "outputId": "0f1a0429-1ab0-4d54-bdd3-f7cbf853a29d"
      },
      "source": [
        "np.random.seed(42)\r\n",
        "b = np.random.randn(92)\r\n",
        "w = np.random.randn(92)\r\n",
        "lr = 0.01\r\n",
        "epochs = 1000\r\n",
        "\r\n",
        "lastloss = 0       \r\n",
        "for epoch in range(epochs):\r\n",
        "    error = ytrain - np.sum((w*xtrain) + b , axis = 1)\r\n",
        "    \r\n",
        "    loss = (error**2).mean()\r\n",
        "\r\n",
        "    if abs(lastloss- loss)<0.01 :\r\n",
        "      break\r\n",
        "    \r\n",
        "    lastloss = loss    \r\n",
        "\r\n",
        "    if loss > 10**50 :\r\n",
        "      break\r\n",
        "\r\n",
        "    if (epoch+1) % 10 == 0:    \r\n",
        "        print('epoch ' + str(epoch+1)+'  loss: ' + str(loss))\r\n",
        "    \r\n",
        "    wgrad = [0] * xtrain.shape[1]\r\n",
        "    bgrad = 0\r\n",
        "    \r\n",
        "    for i in range(xtrain.shape[1]):\r\n",
        "        wgrad[i] = -1 * (xtrain.iloc[:,i] * error).mean()\r\n",
        "        w[i] = w[i] - (lr * wgrad[i])\r\n",
        "        \r\n",
        "    bgrad = -1 * error.mean()\r\n",
        "    b = b - (lr*bgrad)\r\n",
        "              "
      ],
      "execution_count": 319,
      "outputs": [
        {
          "output_type": "stream",
          "text": [
            "epoch 10  loss: 960.2222346299042\n",
            "epoch 20  loss: 927.2289211398621\n",
            "epoch 30  loss: 896.3199553945117\n",
            "epoch 40  loss: 867.3118263985167\n",
            "epoch 50  loss: 840.0397406034737\n",
            "epoch 60  loss: 814.3556018841716\n",
            "epoch 70  loss: 790.126214852564\n",
            "epoch 80  loss: 767.231686499799\n",
            "epoch 90  loss: 745.5640039786384\n",
            "epoch 100  loss: 725.0257688439656\n",
            "epoch 110  loss: 705.5290702853051\n",
            "epoch 120  loss: 686.9944818548882\n",
            "epoch 130  loss: 669.3501679373961\n",
            "epoch 140  loss: 652.53108775495\n",
            "epoch 150  loss: 636.4782860723556\n",
            "epoch 160  loss: 621.1382609835304\n",
            "epoch 170  loss: 606.4624002393698\n",
            "epoch 180  loss: 592.4064785338691\n",
            "epoch 190  loss: 578.9302090142957\n",
            "epoch 200  loss: 565.9968430344223\n",
            "epoch 210  loss: 553.5728128376446\n",
            "epoch 220  loss: 541.6274124500812\n",
            "epoch 230  loss: 530.132512589806\n",
            "epoch 240  loss: 519.0623058651439\n",
            "epoch 250  loss: 508.3930789496484\n",
            "epoch 260  loss: 498.10300878937215\n",
            "epoch 270  loss: 488.17198022440186\n",
            "epoch 280  loss: 478.58142269716114\n",
            "epoch 290  loss: 469.3141639770032\n",
            "epoch 300  loss: 460.35429905976997\n",
            "epoch 310  loss: 451.6870726039946\n",
            "epoch 320  loss: 443.29877344606916\n",
            "epoch 330  loss: 435.17663989675276\n",
            "epoch 340  loss: 427.3087746643926\n",
            "epoch 350  loss: 419.68406837611496\n",
            "epoch 360  loss: 412.29213078189844\n",
            "epoch 370  loss: 405.1232288251314\n",
            "epoch 380  loss: 398.16823085362097\n",
            "epoch 390  loss: 391.41855632288906\n",
            "epoch 400  loss: 384.86613041490364\n",
            "epoch 410  loss: 378.50334305740074\n",
            "epoch 420  loss: 372.32301188483797\n",
            "epoch 430  loss: 366.3183487315772\n",
            "epoch 440  loss: 360.48292929188545\n",
            "epoch 450  loss: 354.81066562081327\n",
            "epoch 460  loss: 349.2957811846191\n",
            "epoch 470  loss: 343.93278820081366\n",
            "epoch 480  loss: 338.7164670355457\n",
            "epoch 490  loss: 333.64184745064426\n",
            "epoch 500  loss: 328.7041915147681\n",
            "epoch 510  loss: 323.8989780126116\n",
            "epoch 520  loss: 319.22188820372804\n",
            "epoch 530  loss: 314.66879279793665\n",
            "epoch 540  loss: 310.2357400284619\n",
            "epoch 550  loss: 305.9189447159197\n",
            "epoch 560  loss: 301.71477822799335\n",
            "epoch 570  loss: 297.61975924869023\n",
            "epoch 580  loss: 293.63054528070757\n",
            "epoch 590  loss: 289.7439248117895\n",
            "epoch 600  loss: 285.95681008308486\n",
            "epoch 610  loss: 282.26623040402484\n",
            "epoch 620  loss: 278.6693259636375\n",
            "epoch 630  loss: 275.1633420933263\n",
            "epoch 640  loss: 271.74562394067226\n",
            "epoch 650  loss: 268.4136115177037\n",
            "epoch 660  loss: 265.1648350910241\n",
            "epoch 670  loss: 261.9969108838651\n",
            "epoch 680  loss: 258.90753706366837\n",
            "epoch 690  loss: 255.89448999078317\n",
            "epoch 700  loss: 252.95562070672472\n",
            "epoch 710  loss: 250.08885164208502\n",
            "epoch 720  loss: 247.29217352637136\n",
            "epoch 730  loss: 244.56364248352736\n",
            "epoch 740  loss: 241.90137729860083\n",
            "epoch 750  loss: 239.30355684210807\n",
            "epoch 760  loss: 236.7684176401705\n",
            "epoch 770  loss: 234.29425157935424\n",
            "epoch 780  loss: 231.8794037362617\n",
            "epoch 790  loss: 229.522270322771\n",
            "epoch 800  loss: 227.22129673871711\n",
            "epoch 810  loss: 224.9749757242291\n",
            "epoch 820  loss: 222.78184560511033\n",
            "epoch 830  loss: 220.64048862471287\n",
            "epoch 840  loss: 218.54952935661515\n",
            "epoch 850  loss: 216.5076331928107\n",
            "epoch 860  loss: 214.51350490245827\n",
            "epoch 870  loss: 212.56588725685594\n",
            "epoch 880  loss: 210.663559716415\n",
            "epoch 890  loss: 208.80533717590728\n",
            "epoch 900  loss: 206.9900687644834\n",
            "epoch 910  loss: 205.21663669723856\n",
            "epoch 920  loss: 203.48395517535113\n",
            "epoch 930  loss: 201.79096933209087\n",
            "epoch 940  loss: 200.1366542220207\n",
            "epoch 950  loss: 198.52001385118163\n",
            "epoch 960  loss: 196.94008024598546\n",
            "epoch 970  loss: 195.3959125587644\n",
            "epoch 980  loss: 193.88659620810745\n",
            "epoch 990  loss: 192.4112420522257\n",
            "epoch 1000  loss: 190.96898559362057\n"
          ],
          "name": "stdout"
        }
      ]
    },
    {
      "cell_type": "code",
      "metadata": {
        "colab": {
          "base_uri": "https://localhost:8080/",
          "height": 206
        },
        "id": "xOwh7Mqcz8wR",
        "outputId": "ab595c4e-8e6f-4c99-fe67-fa1a53fe1e35"
      },
      "source": [
        "ypred = np.sum((w*xtest) + b , axis = 1)\r\n",
        "df = pd.DataFrame({'test':ytest,'predict':ypred})\r\n",
        "df.head()"
      ],
      "execution_count": 320,
      "outputs": [
        {
          "output_type": "execute_result",
          "data": {
            "text/html": [
              "<div>\n",
              "<style scoped>\n",
              "    .dataframe tbody tr th:only-of-type {\n",
              "        vertical-align: middle;\n",
              "    }\n",
              "\n",
              "    .dataframe tbody tr th {\n",
              "        vertical-align: top;\n",
              "    }\n",
              "\n",
              "    .dataframe thead th {\n",
              "        text-align: right;\n",
              "    }\n",
              "</style>\n",
              "<table border=\"1\" class=\"dataframe\">\n",
              "  <thead>\n",
              "    <tr style=\"text-align: right;\">\n",
              "      <th></th>\n",
              "      <th>test</th>\n",
              "      <th>predict</th>\n",
              "    </tr>\n",
              "  </thead>\n",
              "  <tbody>\n",
              "    <tr>\n",
              "      <th>67473</th>\n",
              "      <td>40.0</td>\n",
              "      <td>53.194259</td>\n",
              "    </tr>\n",
              "    <tr>\n",
              "      <th>258559</th>\n",
              "      <td>72.0</td>\n",
              "      <td>69.513364</td>\n",
              "    </tr>\n",
              "    <tr>\n",
              "      <th>67004</th>\n",
              "      <td>70.0</td>\n",
              "      <td>75.173520</td>\n",
              "    </tr>\n",
              "    <tr>\n",
              "      <th>163767</th>\n",
              "      <td>85.0</td>\n",
              "      <td>79.652763</td>\n",
              "    </tr>\n",
              "    <tr>\n",
              "      <th>77978</th>\n",
              "      <td>73.5</td>\n",
              "      <td>68.090906</td>\n",
              "    </tr>\n",
              "  </tbody>\n",
              "</table>\n",
              "</div>"
            ],
            "text/plain": [
              "        test    predict\n",
              "67473   40.0  53.194259\n",
              "258559  72.0  69.513364\n",
              "67004   70.0  75.173520\n",
              "163767  85.0  79.652763\n",
              "77978   73.5  68.090906"
            ]
          },
          "metadata": {
            "tags": []
          },
          "execution_count": 320
        }
      ]
    },
    {
      "cell_type": "code",
      "metadata": {
        "colab": {
          "base_uri": "https://localhost:8080/"
        },
        "id": "6WMGPoYYz9VM",
        "outputId": "79959d39-a111-460b-a4ea-d1ea90c052d8"
      },
      "source": [
        "sum =0\r\n",
        "N = len(ytest.values)\r\n",
        "for i in range(N):\r\n",
        "  if (ypred.values[i]<ytest.values[i]*1.15) and (ypred.values[i]>ytest.values[i]*0.85):\r\n",
        "    sum = sum + 1\r\n",
        "print('accuracy : ' + str(sum/N)) "
      ],
      "execution_count": 321,
      "outputs": [
        {
          "output_type": "stream",
          "text": [
            "accuracy : 0.7399065732399066\n"
          ],
          "name": "stdout"
        }
      ]
    },
    {
      "cell_type": "code",
      "metadata": {
        "colab": {
          "base_uri": "https://localhost:8080/"
        },
        "id": "VjvHCe4gBAU_",
        "outputId": "3178899a-44dd-44d9-950c-e880902d41a1"
      },
      "source": [
        "np.random.seed(42)\r\n",
        "b = np.random.randn(92)\r\n",
        "w = np.random.randn(92)\r\n",
        "lr = 0.1\r\n",
        "epochs = 500\r\n",
        "\r\n",
        "lastloss = 0\r\n",
        "for epoch in range(epochs):\r\n",
        "    error = ytrain - np.sum((w*xtrain) + b , axis = 1)\r\n",
        "\r\n",
        "    loss = (error**2).mean()\r\n",
        "\r\n",
        "    if abs(lastloss- loss)<0.01 :\r\n",
        "      break\r\n",
        "    \r\n",
        "    lastloss = loss       \r\n",
        "\r\n",
        "    if loss > 10**50 :\r\n",
        "      break\r\n",
        "\r\n",
        "    if (epoch+1) % 10 == 0:    \r\n",
        "        print('epoch ' + str(epoch+1)+'  loss: ' + str(loss))\r\n",
        "    \r\n",
        "    wgrad = [0] * xtrain.shape[1]\r\n",
        "    bgrad = 0\r\n",
        "    \r\n",
        "    for i in range(xtrain.shape[1]):\r\n",
        "        wgrad[i] = -1 * (xtrain.iloc[:,i] * error).mean()\r\n",
        "        w[i] = w[i] - (lr * wgrad[i])\r\n",
        "        \r\n",
        "    bgrad = -1 * error.mean()\r\n",
        "    b = b - (lr*bgrad)\r\n",
        "              "
      ],
      "execution_count": 322,
      "outputs": [
        {
          "output_type": "stream",
          "text": [
            "epoch 10  loss: 5.6056101472049365e+20\n",
            "epoch 20  loss: 3.697817352288477e+39\n"
          ],
          "name": "stdout"
        }
      ]
    },
    {
      "cell_type": "code",
      "metadata": {
        "colab": {
          "base_uri": "https://localhost:8080/",
          "height": 206
        },
        "id": "SViF-q_rBHw8",
        "outputId": "564139c5-d1a8-4f54-a5f0-423a720506b2"
      },
      "source": [
        "ypred = np.sum((w*xtest) + b , axis = 1)\r\n",
        "df = pd.DataFrame({'test':ytest,'predict':ypred})\r\n",
        "df.head()"
      ],
      "execution_count": 323,
      "outputs": [
        {
          "output_type": "execute_result",
          "data": {
            "text/html": [
              "<div>\n",
              "<style scoped>\n",
              "    .dataframe tbody tr th:only-of-type {\n",
              "        vertical-align: middle;\n",
              "    }\n",
              "\n",
              "    .dataframe tbody tr th {\n",
              "        vertical-align: top;\n",
              "    }\n",
              "\n",
              "    .dataframe thead th {\n",
              "        text-align: right;\n",
              "    }\n",
              "</style>\n",
              "<table border=\"1\" class=\"dataframe\">\n",
              "  <thead>\n",
              "    <tr style=\"text-align: right;\">\n",
              "      <th></th>\n",
              "      <th>test</th>\n",
              "      <th>predict</th>\n",
              "    </tr>\n",
              "  </thead>\n",
              "  <tbody>\n",
              "    <tr>\n",
              "      <th>67473</th>\n",
              "      <td>40.0</td>\n",
              "      <td>2.702380e+25</td>\n",
              "    </tr>\n",
              "    <tr>\n",
              "      <th>258559</th>\n",
              "      <td>72.0</td>\n",
              "      <td>2.709331e+25</td>\n",
              "    </tr>\n",
              "    <tr>\n",
              "      <th>67004</th>\n",
              "      <td>70.0</td>\n",
              "      <td>2.697507e+25</td>\n",
              "    </tr>\n",
              "    <tr>\n",
              "      <th>163767</th>\n",
              "      <td>85.0</td>\n",
              "      <td>2.681655e+25</td>\n",
              "    </tr>\n",
              "    <tr>\n",
              "      <th>77978</th>\n",
              "      <td>73.5</td>\n",
              "      <td>2.662402e+25</td>\n",
              "    </tr>\n",
              "  </tbody>\n",
              "</table>\n",
              "</div>"
            ],
            "text/plain": [
              "        test       predict\n",
              "67473   40.0  2.702380e+25\n",
              "258559  72.0  2.709331e+25\n",
              "67004   70.0  2.697507e+25\n",
              "163767  85.0  2.681655e+25\n",
              "77978   73.5  2.662402e+25"
            ]
          },
          "metadata": {
            "tags": []
          },
          "execution_count": 323
        }
      ]
    },
    {
      "cell_type": "code",
      "metadata": {
        "colab": {
          "base_uri": "https://localhost:8080/"
        },
        "id": "chbYB2owBIQP",
        "outputId": "e98bcb7b-53c5-4bff-b436-490d1885dd2c"
      },
      "source": [
        "sum =0\r\n",
        "N = len(ytest.values)\r\n",
        "for i in range(N):\r\n",
        "  if (ypred.values[i]<ytest.values[i]*1.15) and (ypred.values[i]>ytest.values[i]*0.85):\r\n",
        "    sum = sum + 1\r\n",
        "print('accuracy : ' + str(sum/N)) "
      ],
      "execution_count": 324,
      "outputs": [
        {
          "output_type": "stream",
          "text": [
            "accuracy : 0.0\n"
          ],
          "name": "stdout"
        }
      ]
    },
    {
      "cell_type": "code",
      "metadata": {
        "colab": {
          "base_uri": "https://localhost:8080/"
        },
        "id": "x4jQ0KHxCVGg",
        "outputId": "3acfb276-4436-4c3f-a1c4-7571bef9d7f3"
      },
      "source": [
        "np.random.seed(42)\r\n",
        "b = np.random.randn(1)\r\n",
        "w = np.random.randn(1)\r\n",
        "lr = 0.01\r\n",
        "epochs = 500\r\n",
        "\r\n",
        "lastloss = 0\r\n",
        "for epoch in range(epochs):\r\n",
        "    error = ytrain -((w*xtrain['livingSpaceRange']) + b)\r\n",
        "\r\n",
        "    loss = (error**2).mean()\r\n",
        "\r\n",
        "    if abs(lastloss- loss)<0.01 :\r\n",
        "      break\r\n",
        "    \r\n",
        "    lastloss = loss        \r\n",
        "\r\n",
        "    if loss > 10**50 :\r\n",
        "      break\r\n",
        "\r\n",
        "    if (epoch+1) % 10 == 0:    \r\n",
        "        print('epoch ' + str(epoch+1)+'  loss: ' + str(loss))\r\n",
        "    \r\n",
        "    wgrad = 0\r\n",
        "    bgrad = 0\r\n",
        "    \r\n",
        "    wgrad = -1 * (xtrain['livingSpaceRange'] * error).mean()\r\n",
        "    w = w - (lr * wgrad)\r\n",
        "        \r\n",
        "    bgrad = -1 * error.mean()\r\n",
        "    b = b - (lr*bgrad)\r\n",
        "              "
      ],
      "execution_count": 325,
      "outputs": [
        {
          "output_type": "stream",
          "text": [
            "epoch 10  loss: 5199.488898514181\n",
            "epoch 20  loss: 4279.324656416985\n",
            "epoch 30  loss: 3544.066371291131\n",
            "epoch 40  loss: 2956.3528588318763\n",
            "epoch 50  loss: 2486.373911978956\n",
            "epoch 60  loss: 2110.344172745131\n",
            "epoch 70  loss: 1809.2854500255999\n",
            "epoch 80  loss: 1568.0551433100363\n",
            "epoch 90  loss: 1374.5710318213062\n",
            "epoch 100  loss: 1219.1927416159228\n",
            "epoch 110  loss: 1094.2282244528183\n",
            "epoch 120  loss: 993.5399822795707\n",
            "epoch 130  loss: 912.2308777344535\n",
            "epoch 140  loss: 846.3934455277858\n",
            "epoch 150  loss: 792.9098705251638\n",
            "epoch 160  loss: 749.2923922827368\n",
            "epoch 170  loss: 713.5559654360763\n",
            "epoch 180  loss: 684.1166567066729\n",
            "epoch 190  loss: 659.710576899672\n",
            "epoch 200  loss: 639.3291975563033\n",
            "epoch 210  loss: 622.1677407604402\n",
            "epoch 220  loss: 607.5839998807435\n",
            "epoch 230  loss: 595.0654830523285\n",
            "epoch 240  loss: 584.2031972841388\n",
            "epoch 250  loss: 574.6707310594005\n",
            "epoch 260  loss: 566.2075645448857\n",
            "epoch 270  loss: 558.6057529707058\n",
            "epoch 280  loss: 551.6993014259884\n",
            "epoch 290  loss: 545.3556871098298\n",
            "epoch 300  loss: 539.4690950120902\n",
            "epoch 310  loss: 533.9550207288621\n",
            "epoch 320  loss: 528.7459640918435\n",
            "epoch 330  loss: 523.7879931546372\n",
            "epoch 340  loss: 519.0380026269794\n",
            "epoch 350  loss: 514.4615263964037\n",
            "epoch 360  loss: 510.03099215853484\n",
            "epoch 370  loss: 505.7243287950778\n",
            "epoch 380  loss: 501.5238552105529\n",
            "epoch 390  loss: 497.4153937381306\n",
            "epoch 400  loss: 493.38756272874707\n",
            "epoch 410  loss: 489.4312121106122\n",
            "epoch 420  loss: 485.5389730197772\n",
            "epoch 430  loss: 481.70489844853495\n",
            "epoch 440  loss: 477.92417651806414\n",
            "epoch 450  loss: 474.1929016929859\n",
            "epoch 460  loss: 470.5078922324959\n",
            "epoch 470  loss: 466.8665445275728\n",
            "epoch 480  loss: 463.26671687461584\n",
            "epoch 490  loss: 459.7066367319084\n",
            "epoch 500  loss: 456.18482671624116\n"
          ],
          "name": "stdout"
        }
      ]
    },
    {
      "cell_type": "code",
      "metadata": {
        "colab": {
          "base_uri": "https://localhost:8080/",
          "height": 206
        },
        "id": "e0fxBew-Gw-f",
        "outputId": "50d49613-ebcc-4005-817d-44aa698c2bf4"
      },
      "source": [
        "ypred = (w * xtest['livingSpaceRange']) + b\r\n",
        "df = pd.DataFrame({'test':ytest,'pred':ypred})\r\n",
        "df.head()"
      ],
      "execution_count": 326,
      "outputs": [
        {
          "output_type": "execute_result",
          "data": {
            "text/html": [
              "<div>\n",
              "<style scoped>\n",
              "    .dataframe tbody tr th:only-of-type {\n",
              "        vertical-align: middle;\n",
              "    }\n",
              "\n",
              "    .dataframe tbody tr th {\n",
              "        vertical-align: top;\n",
              "    }\n",
              "\n",
              "    .dataframe thead th {\n",
              "        text-align: right;\n",
              "    }\n",
              "</style>\n",
              "<table border=\"1\" class=\"dataframe\">\n",
              "  <thead>\n",
              "    <tr style=\"text-align: right;\">\n",
              "      <th></th>\n",
              "      <th>test</th>\n",
              "      <th>pred</th>\n",
              "    </tr>\n",
              "  </thead>\n",
              "  <tbody>\n",
              "    <tr>\n",
              "      <th>67473</th>\n",
              "      <td>40.0</td>\n",
              "      <td>58.451555</td>\n",
              "    </tr>\n",
              "    <tr>\n",
              "      <th>258559</th>\n",
              "      <td>72.0</td>\n",
              "      <td>73.687835</td>\n",
              "    </tr>\n",
              "    <tr>\n",
              "      <th>67004</th>\n",
              "      <td>70.0</td>\n",
              "      <td>73.687835</td>\n",
              "    </tr>\n",
              "    <tr>\n",
              "      <th>163767</th>\n",
              "      <td>85.0</td>\n",
              "      <td>81.305975</td>\n",
              "    </tr>\n",
              "    <tr>\n",
              "      <th>77978</th>\n",
              "      <td>73.5</td>\n",
              "      <td>73.687835</td>\n",
              "    </tr>\n",
              "  </tbody>\n",
              "</table>\n",
              "</div>"
            ],
            "text/plain": [
              "        test       pred\n",
              "67473   40.0  58.451555\n",
              "258559  72.0  73.687835\n",
              "67004   70.0  73.687835\n",
              "163767  85.0  81.305975\n",
              "77978   73.5  73.687835"
            ]
          },
          "metadata": {
            "tags": []
          },
          "execution_count": 326
        }
      ]
    },
    {
      "cell_type": "code",
      "metadata": {
        "colab": {
          "base_uri": "https://localhost:8080/"
        },
        "id": "rS7sSRvOG3xc",
        "outputId": "0a3533cc-2132-4fee-f1d9-33381b8fe442"
      },
      "source": [
        "sum =0\r\n",
        "N = len(ytest.values)\r\n",
        "for i in range(N):\r\n",
        "  if (ypred.values[i]<ytest.values[i]*1.15) and (ypred.values[i]>ytest.values[i]*0.85):\r\n",
        "    sum = sum + 1\r\n",
        "print('accuracy : ' + str(sum/N)) "
      ],
      "execution_count": 327,
      "outputs": [
        {
          "output_type": "stream",
          "text": [
            "accuracy : 0.46898180231513564\n"
          ],
          "name": "stdout"
        }
      ]
    },
    {
      "cell_type": "code",
      "metadata": {
        "colab": {
          "base_uri": "https://localhost:8080/"
        },
        "id": "gqFIxh_ZHHkQ",
        "outputId": "5870b32c-e3c2-40e9-aafa-bc4ab7f10079"
      },
      "source": [
        "np.random.seed(42)\r\n",
        "b = np.random.randn(1)\r\n",
        "w = np.random.randn(1)\r\n",
        "lr = 0.01\r\n",
        "epochs = 5000\r\n",
        "lastloss = 0\r\n",
        "for epoch in range(epochs):\r\n",
        "    error = ytrain -((w*xtrain['livingSpaceRange']) + b)\r\n",
        "    \r\n",
        "    loss = (error**2).mean()\r\n",
        "\r\n",
        "    if abs(lastloss- loss)<0.01 :\r\n",
        "      break\r\n",
        "    \r\n",
        "    lastloss = loss    \r\n",
        "\r\n",
        "    if loss > 10**50 :\r\n",
        "      break\r\n",
        "\r\n",
        "    if (epoch+1) % 10 == 0:    \r\n",
        "        print('epoch ' + str(epoch+1)+'  loss: ' + str(loss))\r\n",
        "    \r\n",
        "    wgrad = 0\r\n",
        "    bgrad = 0\r\n",
        "    \r\n",
        "    wgrad = -1 * (xtrain['livingSpaceRange'] * error).mean()\r\n",
        "    w = w - (lr * wgrad)\r\n",
        "        \r\n",
        "    bgrad = -1 * error.mean()\r\n",
        "    b = b - (lr*bgrad)\r\n",
        "              "
      ],
      "execution_count": 328,
      "outputs": [
        {
          "output_type": "stream",
          "text": [
            "epoch 10  loss: 5199.488898514181\n",
            "epoch 20  loss: 4279.324656416985\n",
            "epoch 30  loss: 3544.066371291131\n",
            "epoch 40  loss: 2956.3528588318763\n",
            "epoch 50  loss: 2486.373911978956\n",
            "epoch 60  loss: 2110.344172745131\n",
            "epoch 70  loss: 1809.2854500255999\n",
            "epoch 80  loss: 1568.0551433100363\n",
            "epoch 90  loss: 1374.5710318213062\n",
            "epoch 100  loss: 1219.1927416159228\n",
            "epoch 110  loss: 1094.2282244528183\n",
            "epoch 120  loss: 993.5399822795707\n",
            "epoch 130  loss: 912.2308777344535\n",
            "epoch 140  loss: 846.3934455277858\n",
            "epoch 150  loss: 792.9098705251638\n",
            "epoch 160  loss: 749.2923922827368\n",
            "epoch 170  loss: 713.5559654360763\n",
            "epoch 180  loss: 684.1166567066729\n",
            "epoch 190  loss: 659.710576899672\n",
            "epoch 200  loss: 639.3291975563033\n",
            "epoch 210  loss: 622.1677407604402\n",
            "epoch 220  loss: 607.5839998807435\n",
            "epoch 230  loss: 595.0654830523285\n",
            "epoch 240  loss: 584.2031972841388\n",
            "epoch 250  loss: 574.6707310594005\n",
            "epoch 260  loss: 566.2075645448857\n",
            "epoch 270  loss: 558.6057529707058\n",
            "epoch 280  loss: 551.6993014259884\n",
            "epoch 290  loss: 545.3556871098298\n",
            "epoch 300  loss: 539.4690950120902\n",
            "epoch 310  loss: 533.9550207288621\n",
            "epoch 320  loss: 528.7459640918435\n",
            "epoch 330  loss: 523.7879931546372\n",
            "epoch 340  loss: 519.0380026269794\n",
            "epoch 350  loss: 514.4615263964037\n",
            "epoch 360  loss: 510.03099215853484\n",
            "epoch 370  loss: 505.7243287950778\n",
            "epoch 380  loss: 501.5238552105529\n",
            "epoch 390  loss: 497.4153937381306\n",
            "epoch 400  loss: 493.38756272874707\n",
            "epoch 410  loss: 489.4312121106122\n",
            "epoch 420  loss: 485.5389730197772\n",
            "epoch 430  loss: 481.70489844853495\n",
            "epoch 440  loss: 477.92417651806414\n",
            "epoch 450  loss: 474.1929016929859\n",
            "epoch 460  loss: 470.5078922324959\n",
            "epoch 470  loss: 466.8665445275728\n",
            "epoch 480  loss: 463.26671687461584\n",
            "epoch 490  loss: 459.7066367319084\n",
            "epoch 500  loss: 456.18482671624116\n",
            "epoch 510  loss: 452.7000455487685\n",
            "epoch 520  loss: 449.25124093211093\n",
            "epoch 530  loss: 445.83751194551803\n",
            "epoch 540  loss: 442.4580790333926\n",
            "epoch 550  loss: 439.11226005618244\n",
            "epoch 560  loss: 435.7994511739534\n",
            "epoch 570  loss: 432.51911158923804\n",
            "epoch 580  loss: 429.27075136834776\n",
            "epoch 590  loss: 426.05392171760695\n",
            "epoch 600  loss: 422.8682072203352\n",
            "epoch 610  loss: 419.71321963801404\n",
            "epoch 620  loss: 416.5885929580638\n",
            "epoch 630  loss: 413.4939794377411\n",
            "epoch 640  loss: 410.4290464430178\n",
            "epoch 650  loss: 407.3934739202469\n",
            "epoch 660  loss: 404.38695237509745\n",
            "epoch 670  loss: 401.409181253731\n",
            "epoch 680  loss: 398.4598676472024\n",
            "epoch 690  loss: 395.5387252527299\n",
            "epoch 700  loss: 392.6454735387685\n",
            "epoch 710  loss: 389.77983707635246\n",
            "epoch 720  loss: 386.9415449991099\n",
            "epoch 730  loss: 384.1303305678518\n",
            "epoch 740  loss: 381.34593081954296\n",
            "epoch 750  loss: 378.58808628145846\n",
            "epoch 760  loss: 375.85654073942845\n",
            "epoch 770  loss: 373.1510410480436\n",
            "epoch 780  loss: 370.4713369739427\n",
            "epoch 790  loss: 367.81718106873507\n",
            "epoch 800  loss: 365.18832856030434\n",
            "epoch 810  loss: 362.58453726327895\n",
            "epoch 820  loss: 360.0055675039464\n",
            "epoch 830  loss: 357.45118205421886\n",
            "epoch 840  loss: 354.92114607631646\n",
            "epoch 850  loss: 352.41522707381563\n",
            "epoch 860  loss: 349.93319484852805\n",
            "epoch 870  loss: 347.474821461624\n",
            "epoch 880  loss: 345.03988119964936\n",
            "epoch 890  loss: 342.628150541873\n",
            "epoch 900  loss: 340.2394081315284\n",
            "epoch 910  loss: 337.87343474822177\n",
            "epoch 920  loss: 335.53001328239384\n",
            "epoch 930  loss: 333.2089287108949\n",
            "epoch 940  loss: 330.90996807319715\n",
            "epoch 950  loss: 328.6329204496071\n",
            "epoch 960  loss: 326.37757693957894\n",
            "epoch 970  loss: 324.14373064039245\n",
            "epoch 980  loss: 321.93117662699524\n",
            "epoch 990  loss: 319.7397119320202\n",
            "epoch 1000  loss: 317.56913552568517\n",
            "epoch 1010  loss: 315.41924829805225\n",
            "epoch 1020  loss: 313.28985303847264\n",
            "epoch 1030  loss: 311.18075441822293\n",
            "epoch 1040  loss: 309.0917589715586\n",
            "epoch 1050  loss: 307.0226750780643\n",
            "epoch 1060  loss: 304.9733129443427\n",
            "epoch 1070  loss: 302.9434845873804\n",
            "epoch 1080  loss: 300.9330038159801\n",
            "epoch 1090  loss: 298.9416862141647\n",
            "epoch 1100  loss: 296.9693491243972\n",
            "epoch 1110  loss: 295.0158116301212\n",
            "epoch 1120  loss: 293.0808945397184\n",
            "epoch 1130  loss: 291.16442036958364\n",
            "epoch 1140  loss: 289.26621332809543\n",
            "epoch 1150  loss: 287.38609929907807\n",
            "epoch 1160  loss: 285.5239058263023\n",
            "epoch 1170  loss: 283.67946209739193\n",
            "epoch 1180  loss: 281.8525989279715\n",
            "epoch 1190  loss: 280.0431487464758\n",
            "epoch 1200  loss: 278.2509455786894\n",
            "epoch 1210  loss: 276.4758250320795\n",
            "epoch 1220  loss: 274.71762428140516\n",
            "epoch 1230  loss: 272.97618205342667\n",
            "epoch 1240  loss: 271.2513386117592\n",
            "epoch 1250  loss: 269.5429357432642\n",
            "epoch 1260  loss: 267.8508167419977\n",
            "epoch 1270  loss: 266.1748263961829\n",
            "epoch 1280  loss: 264.51481097357276\n",
            "epoch 1290  loss: 262.8706182068221\n",
            "epoch 1300  loss: 261.2420972802894\n",
            "epoch 1310  loss: 259.6290988157981\n",
            "epoch 1320  loss: 258.0314748588791\n",
            "epoch 1330  loss: 256.44907886543325\n",
            "epoch 1340  loss: 254.88176568809277\n",
            "epoch 1350  loss: 253.3293915629593\n",
            "epoch 1360  loss: 251.791814096561\n",
            "epoch 1370  loss: 250.26889225256033\n",
            "epoch 1380  loss: 248.76048633895687\n",
            "epoch 1390  loss: 247.2664579950806\n",
            "epoch 1400  loss: 245.78667017958185\n",
            "epoch 1410  loss: 244.3209871566146\n",
            "epoch 1420  loss: 242.86927448471894\n",
            "epoch 1430  loss: 241.43139900363698\n",
            "epoch 1440  loss: 240.00722882222394\n",
            "epoch 1450  loss: 238.59663330675085\n",
            "epoch 1460  loss: 237.19948306833774\n",
            "epoch 1470  loss: 235.81564995179951\n",
            "epoch 1480  loss: 234.44500702300834\n",
            "epoch 1490  loss: 233.0874285580649\n",
            "epoch 1500  loss: 231.74279003123812\n",
            "epoch 1510  loss: 230.41096810394842\n",
            "epoch 1520  loss: 229.09184061279453\n",
            "epoch 1530  loss: 227.78528655938405\n",
            "epoch 1540  loss: 226.49118609821767\n",
            "epoch 1550  loss: 225.20942052619728\n",
            "epoch 1560  loss: 223.93987227176729\n",
            "epoch 1570  loss: 222.6824248840053\n",
            "epoch 1580  loss: 221.4369630216941\n",
            "epoch 1590  loss: 220.20337244341474\n",
            "epoch 1600  loss: 218.98153999642935\n",
            "epoch 1610  loss: 217.77135360653259\n",
            "epoch 1620  loss: 216.57270226771772\n",
            "epoch 1630  loss: 215.385476032239\n",
            "epoch 1640  loss: 214.20956600016697\n",
            "epoch 1650  loss: 213.04486430966165\n",
            "epoch 1660  loss: 211.8912641268266\n",
            "epoch 1670  loss: 210.74865963632737\n",
            "epoch 1680  loss: 209.6169460311907\n",
            "epoch 1690  loss: 208.49601950353565\n",
            "epoch 1700  loss: 207.38577723474623\n",
            "epoch 1710  loss: 206.28611738662423\n",
            "epoch 1720  loss: 205.1969390913706\n",
            "epoch 1730  loss: 204.11814244266705\n",
            "epoch 1740  loss: 203.0496284864514\n",
            "epoch 1750  loss: 201.99129921193307\n",
            "epoch 1760  loss: 200.94305754242131\n",
            "epoch 1770  loss: 199.9048073266105\n",
            "epoch 1780  loss: 198.8764533296507\n",
            "epoch 1790  loss: 197.85790122436654\n",
            "epoch 1800  loss: 196.84905758287476\n",
            "epoch 1810  loss: 195.84982986753795\n",
            "epoch 1820  loss: 194.8601264229558\n",
            "epoch 1830  loss: 193.87985646721418\n",
            "epoch 1840  loss: 192.90893008382696\n",
            "epoch 1850  loss: 191.94725821333233\n",
            "epoch 1860  loss: 190.99475264498017\n",
            "epoch 1870  loss: 190.0513260091909\n",
            "epoch 1880  loss: 189.1168917686972\n",
            "epoch 1890  loss: 188.1913642113768\n",
            "epoch 1900  loss: 187.27465844208402\n",
            "epoch 1910  loss: 186.36669037464966\n",
            "epoch 1920  loss: 185.4673767245757\n",
            "epoch 1930  loss: 184.57663500116956\n",
            "epoch 1940  loss: 183.69438349998057\n",
            "epoch 1950  loss: 182.82054129526898\n",
            "epoch 1960  loss: 181.9550282328133\n",
            "epoch 1970  loss: 181.09776492215582\n",
            "epoch 1980  loss: 180.24867272983974\n",
            "epoch 1990  loss: 179.40767377171147\n",
            "epoch 2000  loss: 178.57469090605343\n",
            "epoch 2010  loss: 177.74964772638944\n",
            "epoch 2020  loss: 176.932468554621\n",
            "epoch 2030  loss: 176.12307843386614\n",
            "epoch 2040  loss: 175.32140312181937\n",
            "epoch 2050  loss: 174.52736908371176\n",
            "epoch 2060  loss: 173.7409034856789\n",
            "epoch 2070  loss: 172.9619341881832\n",
            "epoch 2080  loss: 172.19038973935466\n",
            "epoch 2090  loss: 171.4261993681373\n",
            "epoch 2100  loss: 170.66929297819152\n",
            "epoch 2110  loss: 169.9196011413069\n",
            "epoch 2120  loss: 169.17705509112488\n",
            "epoch 2130  loss: 168.4415867163687\n",
            "epoch 2140  loss: 167.71312855551255\n",
            "epoch 2150  loss: 166.99161378971104\n",
            "epoch 2160  loss: 166.27697623695926\n",
            "epoch 2170  loss: 165.56915034628793\n",
            "epoch 2180  loss: 164.86807119144692\n",
            "epoch 2190  loss: 164.17367446501206\n",
            "epoch 2200  loss: 163.4858964725835\n",
            "epoch 2210  loss: 162.8046741267005\n",
            "epoch 2220  loss: 162.1299449414876\n",
            "epoch 2230  loss: 161.46164702650427\n",
            "epoch 2240  loss: 160.79971908116016\n",
            "epoch 2250  loss: 160.14410038936265\n",
            "epoch 2260  loss: 159.49473081352215\n",
            "epoch 2270  loss: 158.85155078941597\n",
            "epoch 2280  loss: 158.2145013204984\n",
            "epoch 2290  loss: 157.58352397271818\n",
            "epoch 2300  loss: 156.95856086864706\n",
            "epoch 2310  loss: 156.33955468289315\n",
            "epoch 2320  loss: 155.72644863616827\n",
            "epoch 2330  loss: 155.11918649054093\n",
            "epoch 2340  loss: 154.51771254414226\n",
            "epoch 2350  loss: 153.92197162600908\n",
            "epoch 2360  loss: 153.33190909098667\n",
            "epoch 2370  loss: 152.7474708148121\n",
            "epoch 2380  loss: 152.16860318911193\n",
            "epoch 2390  loss: 151.59525311655096\n",
            "epoch 2400  loss: 151.0273680057886\n",
            "epoch 2410  loss: 150.46489576683146\n",
            "epoch 2420  loss: 149.9077848062469\n",
            "epoch 2430  loss: 149.35598402221675\n",
            "epoch 2440  loss: 148.80944280003382\n",
            "epoch 2450  loss: 148.26811100771394\n",
            "epoch 2460  loss: 147.73193899070318\n",
            "epoch 2470  loss: 147.20087756796855\n",
            "epoch 2480  loss: 146.67487802721945\n",
            "epoch 2490  loss: 146.15389212044846\n",
            "epoch 2500  loss: 145.63787205956163\n",
            "epoch 2510  loss: 145.12677051196147\n",
            "epoch 2520  loss: 144.62054059608067\n",
            "epoch 2530  loss: 144.1191358774045\n",
            "epoch 2540  loss: 143.62251036395503\n",
            "epoch 2550  loss: 143.13061850203994\n",
            "epoch 2560  loss: 142.64341517234774\n",
            "epoch 2570  loss: 142.16085568534334\n",
            "epoch 2580  loss: 141.68289577772146\n",
            "epoch 2590  loss: 141.2094916080552\n",
            "epoch 2600  loss: 140.74059975260448\n",
            "epoch 2610  loss: 140.2761772017511\n",
            "epoch 2620  loss: 139.81618135559492\n",
            "epoch 2630  loss: 139.36057002062594\n",
            "epoch 2640  loss: 138.90930140511702\n",
            "epoch 2650  loss: 138.46233411584586\n",
            "epoch 2660  loss: 138.01962715432666\n",
            "epoch 2670  loss: 137.58113991254282\n",
            "epoch 2680  loss: 137.14683216976078\n",
            "epoch 2690  loss: 136.71666408845394\n",
            "epoch 2700  loss: 136.29059621099785\n",
            "epoch 2710  loss: 135.86858945562875\n",
            "epoch 2720  loss: 135.45060511334194\n",
            "epoch 2730  loss: 135.03660484391042\n",
            "epoch 2740  loss: 134.62655067265308\n",
            "epoch 2750  loss: 134.22040498679874\n",
            "epoch 2760  loss: 133.81813053213068\n",
            "epoch 2770  loss: 133.41969040939543\n",
            "epoch 2780  loss: 133.02504807128852\n",
            "epoch 2790  loss: 132.6341673186928\n",
            "epoch 2800  loss: 132.24701229748433\n",
            "epoch 2810  loss: 131.8635474953712\n",
            "epoch 2820  loss: 131.48373773866354\n",
            "epoch 2830  loss: 131.10754818869464\n",
            "epoch 2840  loss: 130.73494433902644\n",
            "epoch 2850  loss: 130.36589201216054\n",
            "epoch 2860  loss: 130.00035735610854\n",
            "epoch 2870  loss: 129.63830684188875\n",
            "epoch 2880  loss: 129.2797072598508\n",
            "epoch 2890  loss: 128.92452571702077\n",
            "epoch 2900  loss: 128.57272963392754\n",
            "epoch 2910  loss: 128.2242867415653\n",
            "epoch 2920  loss: 127.87916507860855\n",
            "epoch 2930  loss: 127.53733298831176\n",
            "epoch 2940  loss: 127.1987591155771\n",
            "epoch 2950  loss: 126.86341240436363\n",
            "epoch 2960  loss: 126.53126209462296\n",
            "epoch 2970  loss: 126.20227771931437\n",
            "epoch 2980  loss: 125.87642910197079\n",
            "epoch 2990  loss: 125.5536863536615\n",
            "epoch 3000  loss: 125.23401987045051\n",
            "epoch 3010  loss: 124.91740033044604\n",
            "epoch 3020  loss: 124.60379869134907\n",
            "epoch 3030  loss: 124.29318618765213\n",
            "epoch 3040  loss: 123.9855343279779\n",
            "epoch 3050  loss: 123.68081489255101\n",
            "epoch 3060  loss: 123.37899993061679\n",
            "epoch 3070  loss: 123.08006175779911\n",
            "epoch 3080  loss: 122.78397295358268\n",
            "epoch 3090  loss: 122.49070635885754\n",
            "epoch 3100  loss: 122.2002350733607\n",
            "epoch 3110  loss: 121.91253245321988\n",
            "epoch 3120  loss: 121.62757210852794\n",
            "epoch 3130  loss: 121.34532790090815\n",
            "epoch 3140  loss: 121.06577394124773\n",
            "epoch 3150  loss: 120.78888458695596\n",
            "epoch 3160  loss: 120.51463444009222\n",
            "epoch 3170  loss: 120.24299834463906\n",
            "epoch 3180  loss: 119.97395138445967\n",
            "epoch 3190  loss: 119.70746888084608\n",
            "epoch 3200  loss: 119.44352639036215\n",
            "epoch 3210  loss: 119.18209970252234\n",
            "epoch 3220  loss: 118.92316483763967\n",
            "epoch 3230  loss: 118.666698044589\n",
            "epoch 3240  loss: 118.41267579855288\n",
            "epoch 3250  loss: 118.16107479906377\n",
            "epoch 3260  loss: 117.91187196770846\n",
            "epoch 3270  loss: 117.66504444595712\n",
            "epoch 3280  loss: 117.42056959332717\n",
            "epoch 3290  loss: 117.17842498494906\n",
            "epoch 3300  loss: 116.938588409841\n",
            "epoch 3310  loss: 116.70103786869687\n",
            "epoch 3320  loss: 116.46575157185275\n",
            "epoch 3330  loss: 116.23270793735796\n",
            "epoch 3340  loss: 116.00188558900909\n",
            "epoch 3350  loss: 115.77326335430857\n",
            "epoch 3360  loss: 115.5468202625872\n",
            "epoch 3370  loss: 115.3225355430442\n",
            "epoch 3380  loss: 115.10038862287654\n",
            "epoch 3390  loss: 114.88035912536967\n",
            "epoch 3400  loss: 114.66242686802369\n",
            "epoch 3410  loss: 114.44657186077652\n",
            "epoch 3420  loss: 114.2327743039467\n",
            "epoch 3430  loss: 114.02101458673278\n",
            "epoch 3440  loss: 113.81127328520358\n",
            "epoch 3450  loss: 113.60353116054905\n",
            "epoch 3460  loss: 113.39776915730486\n",
            "epoch 3470  loss: 113.19396840180728\n",
            "epoch 3480  loss: 112.99211020000422\n",
            "epoch 3490  loss: 112.7921760363042\n",
            "epoch 3500  loss: 112.59414757143628\n",
            "epoch 3510  loss: 112.39800664103372\n",
            "epoch 3520  loss: 112.20373525370785\n",
            "epoch 3530  loss: 112.01131558977359\n",
            "epoch 3540  loss: 111.82072999920122\n",
            "epoch 3550  loss: 111.6319610003416\n",
            "epoch 3560  loss: 111.44499127811123\n",
            "epoch 3570  loss: 111.25980368241132\n",
            "epoch 3580  loss: 111.07638122671817\n",
            "epoch 3590  loss: 110.89470708631674\n",
            "epoch 3600  loss: 110.71476459696346\n",
            "epoch 3610  loss: 110.53653725318807\n",
            "epoch 3620  loss: 110.36000870681923\n",
            "epoch 3630  loss: 110.18516276557601\n",
            "epoch 3640  loss: 110.0119833914632\n",
            "epoch 3650  loss: 109.84045469940479\n",
            "epoch 3660  loss: 109.67056095568185\n",
            "epoch 3670  loss: 109.50228657657938\n",
            "epoch 3680  loss: 109.33561612692621\n",
            "epoch 3690  loss: 109.17053431866098\n",
            "epoch 3700  loss: 109.00702600938644\n",
            "epoch 3710  loss: 108.84507620113062\n",
            "epoch 3720  loss: 108.68467003881901\n",
            "epoch 3730  loss: 108.5257928090117\n",
            "epoch 3740  loss: 108.36842993846712\n",
            "epoch 3750  loss: 108.21256699287747\n",
            "epoch 3760  loss: 108.05818967550775\n",
            "epoch 3770  loss: 107.90528382586244\n",
            "epoch 3780  loss: 107.75383541849534\n",
            "epoch 3790  loss: 107.60383056160794\n",
            "epoch 3800  loss: 107.45525549581423\n",
            "epoch 3810  loss: 107.30809659280374\n",
            "epoch 3820  loss: 107.1623403543286\n",
            "epoch 3830  loss: 107.01797341064014\n",
            "epoch 3840  loss: 106.87498251951732\n",
            "epoch 3850  loss: 106.73335456493406\n",
            "epoch 3860  loss: 106.59307655584594\n",
            "epoch 3870  loss: 106.45413562513203\n",
            "epoch 3880  loss: 106.3165190282031\n",
            "epoch 3890  loss: 106.18021414200007\n",
            "epoch 3900  loss: 106.04520846383878\n",
            "epoch 3910  loss: 105.91148961006219\n",
            "epoch 3920  loss: 105.77904531517572\n",
            "epoch 3930  loss: 105.64786343057294\n",
            "epoch 3940  loss: 105.51793192337234\n",
            "epoch 3950  loss: 105.38923887547847\n",
            "epoch 3960  loss: 105.26177248236199\n",
            "epoch 3970  loss: 105.13552105195565\n",
            "epoch 3980  loss: 105.01047300370051\n",
            "epoch 3990  loss: 104.88661686743825\n",
            "epoch 4000  loss: 104.76394128224865\n",
            "epoch 4010  loss: 104.64243499555035\n",
            "epoch 4020  loss: 104.52208686207655\n",
            "epoch 4030  loss: 104.40288584271629\n",
            "epoch 4040  loss: 104.28482100355666\n",
            "epoch 4050  loss: 104.16788151502763\n",
            "epoch 4060  loss: 104.05205665061101\n",
            "epoch 4070  loss: 103.93733578617444\n",
            "epoch 4080  loss: 103.82370839877395\n",
            "epoch 4090  loss: 103.7111640658432\n",
            "epoch 4100  loss: 103.59969246401941\n",
            "epoch 4110  loss: 103.48928336844371\n",
            "epoch 4120  loss: 103.379926651792\n",
            "epoch 4130  loss: 103.27161228306115\n",
            "epoch 4140  loss: 103.16433032704931\n",
            "epoch 4150  loss: 103.05807094309866\n",
            "epoch 4160  loss: 102.95282438452563\n",
            "epoch 4170  loss: 102.8485809973878\n",
            "epoch 4180  loss: 102.74533121982364\n",
            "epoch 4190  loss: 102.64306558114404\n",
            "epoch 4200  loss: 102.54177470088291\n"
          ],
          "name": "stdout"
        }
      ]
    },
    {
      "cell_type": "code",
      "metadata": {
        "colab": {
          "base_uri": "https://localhost:8080/",
          "height": 206
        },
        "id": "EuBbAB0LHLXK",
        "outputId": "33f8dbb8-84a5-48c5-da5a-202719bc3030"
      },
      "source": [
        "ypred = (w * xtest['livingSpaceRange']) + b\r\n",
        "df = pd.DataFrame({'test':ytest,'pred':ypred})\r\n",
        "df.head()"
      ],
      "execution_count": 329,
      "outputs": [
        {
          "output_type": "execute_result",
          "data": {
            "text/html": [
              "<div>\n",
              "<style scoped>\n",
              "    .dataframe tbody tr th:only-of-type {\n",
              "        vertical-align: middle;\n",
              "    }\n",
              "\n",
              "    .dataframe tbody tr th {\n",
              "        vertical-align: top;\n",
              "    }\n",
              "\n",
              "    .dataframe thead th {\n",
              "        text-align: right;\n",
              "    }\n",
              "</style>\n",
              "<table border=\"1\" class=\"dataframe\">\n",
              "  <thead>\n",
              "    <tr style=\"text-align: right;\">\n",
              "      <th></th>\n",
              "      <th>test</th>\n",
              "      <th>pred</th>\n",
              "    </tr>\n",
              "  </thead>\n",
              "  <tbody>\n",
              "    <tr>\n",
              "      <th>67473</th>\n",
              "      <td>40.0</td>\n",
              "      <td>34.233866</td>\n",
              "    </tr>\n",
              "    <tr>\n",
              "      <th>258559</th>\n",
              "      <td>72.0</td>\n",
              "      <td>72.214154</td>\n",
              "    </tr>\n",
              "    <tr>\n",
              "      <th>67004</th>\n",
              "      <td>70.0</td>\n",
              "      <td>72.214154</td>\n",
              "    </tr>\n",
              "    <tr>\n",
              "      <th>163767</th>\n",
              "      <td>85.0</td>\n",
              "      <td>91.204298</td>\n",
              "    </tr>\n",
              "    <tr>\n",
              "      <th>77978</th>\n",
              "      <td>73.5</td>\n",
              "      <td>72.214154</td>\n",
              "    </tr>\n",
              "  </tbody>\n",
              "</table>\n",
              "</div>"
            ],
            "text/plain": [
              "        test       pred\n",
              "67473   40.0  34.233866\n",
              "258559  72.0  72.214154\n",
              "67004   70.0  72.214154\n",
              "163767  85.0  91.204298\n",
              "77978   73.5  72.214154"
            ]
          },
          "metadata": {
            "tags": []
          },
          "execution_count": 329
        }
      ]
    },
    {
      "cell_type": "code",
      "metadata": {
        "colab": {
          "base_uri": "https://localhost:8080/"
        },
        "id": "FPJzP_MoHL1p",
        "outputId": "77fc6a7c-21bf-4df9-cc20-d9a5a6f58c9a"
      },
      "source": [
        "sum =0\r\n",
        "N = len(ytest.values)\r\n",
        "for i in range(N):\r\n",
        "  if (ypred.values[i]<ytest.values[i]*1.15) and (ypred.values[i]>ytest.values[i]*0.85):\r\n",
        "    sum = sum + 1\r\n",
        "print('accuracy : ' + str(sum/N)) "
      ],
      "execution_count": 330,
      "outputs": [
        {
          "output_type": "stream",
          "text": [
            "accuracy : 0.8720515387182054\n"
          ],
          "name": "stdout"
        }
      ]
    },
    {
      "cell_type": "code",
      "metadata": {
        "colab": {
          "base_uri": "https://localhost:8080/"
        },
        "id": "F4lVtPARZAMy",
        "outputId": "c26e6377-cddf-4dd9-e9ba-74af058c6563"
      },
      "source": [
        "np.random.seed(42)\r\n",
        "b = np.random.randn(1)\r\n",
        "w = np.random.randn(1)\r\n",
        "lr = 0.01\r\n",
        "epochs = 5000\r\n",
        "lastloss = 0\r\n",
        "for epoch in range(epochs):\r\n",
        "    error = ytrain -((w*xtrain['floor']) + b)\r\n",
        "    \r\n",
        "    loss = (error**2).mean()\r\n",
        "\r\n",
        "    if abs(lastloss- loss)<0.01 :\r\n",
        "      break\r\n",
        "    \r\n",
        "    lastloss = loss    \r\n",
        "\r\n",
        "    if loss > 10**50 :\r\n",
        "      break\r\n",
        "\r\n",
        "    if (epoch+1) % 10 == 0:    \r\n",
        "        print('epoch ' + str(epoch+1)+'  loss: ' + str(loss))\r\n",
        "    \r\n",
        "    wgrad = 0\r\n",
        "    bgrad = 0\r\n",
        "    \r\n",
        "    wgrad = -1 * (xtrain['floor'] * error).mean()\r\n",
        "    w = w - (lr * wgrad)\r\n",
        "        \r\n",
        "    bgrad = -1 * error.mean()\r\n",
        "    b = b - (lr*bgrad)\r\n",
        "              "
      ],
      "execution_count": 331,
      "outputs": [
        {
          "output_type": "stream",
          "text": [
            "epoch 10  loss: 5300.25121328447\n",
            "epoch 20  loss: 4465.821570750014\n",
            "epoch 30  loss: 3792.4224490211723\n",
            "epoch 40  loss: 3248.977157975533\n",
            "epoch 50  loss: 2810.4063854375863\n",
            "epoch 60  loss: 2456.470784911626\n",
            "epoch 70  loss: 2170.836928120432\n",
            "epoch 80  loss: 1940.3235159848584\n",
            "epoch 90  loss: 1754.2930606153081\n",
            "epoch 100  loss: 1604.1609643969862\n",
            "epoch 110  loss: 1482.999340124958\n",
            "epoch 120  loss: 1385.2172884568947\n",
            "epoch 130  loss: 1306.3028774644508\n",
            "epoch 140  loss: 1242.614916617348\n",
            "epoch 150  loss: 1191.2149155506088\n",
            "epoch 160  loss: 1149.7314725039475\n",
            "epoch 170  loss: 1116.2508339436665\n",
            "epoch 180  loss: 1089.228574687471\n",
            "epoch 190  loss: 1067.4183225634708\n",
            "epoch 200  loss: 1049.8142382366436\n",
            "epoch 210  loss: 1035.6045956491569\n",
            "epoch 220  loss: 1024.1343207998098\n",
            "epoch 230  loss: 1014.8747600315836\n",
            "epoch 240  loss: 1007.3992826269732\n",
            "epoch 250  loss: 1001.3635917685016\n",
            "epoch 260  loss: 996.4898352205606\n",
            "epoch 270  loss: 992.5537824267969\n",
            "epoch 280  loss: 989.3744762582718\n",
            "epoch 290  loss: 986.8058818306787\n",
            "epoch 300  loss: 984.730146986506\n",
            "epoch 310  loss: 983.0521634133063\n",
            "epoch 320  loss: 981.6951773914227\n",
            "epoch 330  loss: 980.5972476061557\n",
            "epoch 340  loss: 979.7083865574361\n",
            "epoch 350  loss: 978.9882536349767\n",
            "epoch 360  loss: 978.404293400457\n",
            "epoch 370  loss: 977.9302331554857\n",
            "epoch 380  loss: 977.5448704581289\n",
            "epoch 390  loss: 977.2310946327904\n",
            "epoch 400  loss: 976.9750971147897\n",
            "epoch 410  loss: 976.765734188362\n",
            "epoch 420  loss: 976.5940127065959\n",
            "epoch 430  loss: 976.4526750614715\n",
            "epoch 440  loss: 976.3358642482344\n"
          ],
          "name": "stdout"
        }
      ]
    },
    {
      "cell_type": "code",
      "metadata": {
        "colab": {
          "base_uri": "https://localhost:8080/",
          "height": 206
        },
        "id": "4FMlvXHdZKsQ",
        "outputId": "960a96b4-1af8-468b-b407-47fafdd6c066"
      },
      "source": [
        "ypred = (w * xtest['floor']) + b\r\n",
        "df = pd.DataFrame({'test':ytest,'pred':ypred})\r\n",
        "df.head()"
      ],
      "execution_count": 332,
      "outputs": [
        {
          "output_type": "execute_result",
          "data": {
            "text/html": [
              "<div>\n",
              "<style scoped>\n",
              "    .dataframe tbody tr th:only-of-type {\n",
              "        vertical-align: middle;\n",
              "    }\n",
              "\n",
              "    .dataframe tbody tr th {\n",
              "        vertical-align: top;\n",
              "    }\n",
              "\n",
              "    .dataframe thead th {\n",
              "        text-align: right;\n",
              "    }\n",
              "</style>\n",
              "<table border=\"1\" class=\"dataframe\">\n",
              "  <thead>\n",
              "    <tr style=\"text-align: right;\">\n",
              "      <th></th>\n",
              "      <th>test</th>\n",
              "      <th>pred</th>\n",
              "    </tr>\n",
              "  </thead>\n",
              "  <tbody>\n",
              "    <tr>\n",
              "      <th>67473</th>\n",
              "      <td>40.0</td>\n",
              "      <td>72.293569</td>\n",
              "    </tr>\n",
              "    <tr>\n",
              "      <th>258559</th>\n",
              "      <td>72.0</td>\n",
              "      <td>72.293569</td>\n",
              "    </tr>\n",
              "    <tr>\n",
              "      <th>67004</th>\n",
              "      <td>70.0</td>\n",
              "      <td>72.129127</td>\n",
              "    </tr>\n",
              "    <tr>\n",
              "      <th>163767</th>\n",
              "      <td>85.0</td>\n",
              "      <td>76.159426</td>\n",
              "    </tr>\n",
              "    <tr>\n",
              "      <th>77978</th>\n",
              "      <td>73.5</td>\n",
              "      <td>70.785694</td>\n",
              "    </tr>\n",
              "  </tbody>\n",
              "</table>\n",
              "</div>"
            ],
            "text/plain": [
              "        test       pred\n",
              "67473   40.0  72.293569\n",
              "258559  72.0  72.293569\n",
              "67004   70.0  72.129127\n",
              "163767  85.0  76.159426\n",
              "77978   73.5  70.785694"
            ]
          },
          "metadata": {
            "tags": []
          },
          "execution_count": 332
        }
      ]
    },
    {
      "cell_type": "code",
      "metadata": {
        "colab": {
          "base_uri": "https://localhost:8080/"
        },
        "id": "9ScaGQlhZR1u",
        "outputId": "6d5223b5-d4dc-485e-852d-19427bf002af"
      },
      "source": [
        "sum =0\r\n",
        "N = len(ytest.values)\r\n",
        "for i in range(N):\r\n",
        "  if (ypred.values[i]<ytest.values[i]*1.15) and (ypred.values[i]>ytest.values[i]*0.85):\r\n",
        "    sum = sum + 1\r\n",
        "print('accuracy : ' + str(sum/N)) "
      ],
      "execution_count": 333,
      "outputs": [
        {
          "output_type": "stream",
          "text": [
            "accuracy : 0.31573881573881574\n"
          ],
          "name": "stdout"
        }
      ]
    },
    {
      "cell_type": "code",
      "metadata": {
        "id": "7AssrsuAJ2Ke"
      },
      "source": [
        "from sklearn.linear_model import LinearRegression\r\n",
        "from sklearn.metrics import mean_squared_error"
      ],
      "execution_count": 52,
      "outputs": []
    },
    {
      "cell_type": "code",
      "metadata": {
        "colab": {
          "base_uri": "https://localhost:8080/"
        },
        "id": "Ltx9knG8M1KA",
        "outputId": "3df4269b-3c02-4231-a66e-54f3f7f7b337"
      },
      "source": [
        "linearregg = LinearRegression()\r\n",
        "linearregg.fit(xtrain,ytrain)"
      ],
      "execution_count": 335,
      "outputs": [
        {
          "output_type": "execute_result",
          "data": {
            "text/plain": [
              "LinearRegression(copy_X=True, fit_intercept=True, n_jobs=None, normalize=False)"
            ]
          },
          "metadata": {
            "tags": []
          },
          "execution_count": 335
        }
      ]
    },
    {
      "cell_type": "code",
      "metadata": {
        "colab": {
          "base_uri": "https://localhost:8080/",
          "height": 206
        },
        "id": "Oxob7dc8NUW2",
        "outputId": "29036db3-2c1e-4581-8f9a-8930e49f1995"
      },
      "source": [
        "ypred = linearregg.predict(xtest)\r\n",
        "df = pd.DataFrame({'test':ytest,'pred':ypred})\r\n",
        "df.head()"
      ],
      "execution_count": 336,
      "outputs": [
        {
          "output_type": "execute_result",
          "data": {
            "text/html": [
              "<div>\n",
              "<style scoped>\n",
              "    .dataframe tbody tr th:only-of-type {\n",
              "        vertical-align: middle;\n",
              "    }\n",
              "\n",
              "    .dataframe tbody tr th {\n",
              "        vertical-align: top;\n",
              "    }\n",
              "\n",
              "    .dataframe thead th {\n",
              "        text-align: right;\n",
              "    }\n",
              "</style>\n",
              "<table border=\"1\" class=\"dataframe\">\n",
              "  <thead>\n",
              "    <tr style=\"text-align: right;\">\n",
              "      <th></th>\n",
              "      <th>test</th>\n",
              "      <th>pred</th>\n",
              "    </tr>\n",
              "  </thead>\n",
              "  <tbody>\n",
              "    <tr>\n",
              "      <th>67473</th>\n",
              "      <td>40.0</td>\n",
              "      <td>33.519531</td>\n",
              "    </tr>\n",
              "    <tr>\n",
              "      <th>258559</th>\n",
              "      <td>72.0</td>\n",
              "      <td>76.727051</td>\n",
              "    </tr>\n",
              "    <tr>\n",
              "      <th>67004</th>\n",
              "      <td>70.0</td>\n",
              "      <td>70.493652</td>\n",
              "    </tr>\n",
              "    <tr>\n",
              "      <th>163767</th>\n",
              "      <td>85.0</td>\n",
              "      <td>89.216309</td>\n",
              "    </tr>\n",
              "    <tr>\n",
              "      <th>77978</th>\n",
              "      <td>73.5</td>\n",
              "      <td>70.854492</td>\n",
              "    </tr>\n",
              "  </tbody>\n",
              "</table>\n",
              "</div>"
            ],
            "text/plain": [
              "        test       pred\n",
              "67473   40.0  33.519531\n",
              "258559  72.0  76.727051\n",
              "67004   70.0  70.493652\n",
              "163767  85.0  89.216309\n",
              "77978   73.5  70.854492"
            ]
          },
          "metadata": {
            "tags": []
          },
          "execution_count": 336
        }
      ]
    },
    {
      "cell_type": "code",
      "metadata": {
        "colab": {
          "base_uri": "https://localhost:8080/"
        },
        "id": "uPCSyfgzN49U",
        "outputId": "421faf88-84bd-45b7-8744-cee1a9106492"
      },
      "source": [
        "print(mean_squared_error(ypred,ytest))"
      ],
      "execution_count": 337,
      "outputs": [
        {
          "output_type": "stream",
          "text": [
            "65.99971656480648\n"
          ],
          "name": "stdout"
        }
      ]
    },
    {
      "cell_type": "code",
      "metadata": {
        "colab": {
          "base_uri": "https://localhost:8080/"
        },
        "id": "LP_2yaFNNhx9",
        "outputId": "1e3441f1-a140-4873-de0c-024241cc81f9"
      },
      "source": [
        "sum =0\r\n",
        "N = len(ytest.values)\r\n",
        "for i in range(N):\r\n",
        "  if (ypred[i]<ytest.values[i]*1.15) and (ypred[i]>ytest.values[i]*0.85):\r\n",
        "    sum = sum + 1\r\n",
        "print('accuracy : ' + str(sum/N)) "
      ],
      "execution_count": 338,
      "outputs": [
        {
          "output_type": "stream",
          "text": [
            "accuracy : 0.8860783860783861\n"
          ],
          "name": "stdout"
        }
      ]
    },
    {
      "cell_type": "code",
      "metadata": {
        "id": "p0gAbdrmRrUq"
      },
      "source": [
        "from sklearn.decomposition import PCA"
      ],
      "execution_count": 53,
      "outputs": []
    },
    {
      "cell_type": "code",
      "metadata": {
        "colab": {
          "base_uri": "https://localhost:8080/"
        },
        "id": "oULIPdgsRtjK",
        "outputId": "695a62f5-a7e0-461b-ad9b-f3f93e0c5190"
      },
      "source": [
        "pca = PCA(0.9)\r\n",
        "x_pca = pca.fit_transform(x)\r\n",
        "x_pca.shape"
      ],
      "execution_count": 54,
      "outputs": [
        {
          "output_type": "execute_result",
          "data": {
            "text/plain": [
              "(259737, 31)"
            ]
          },
          "metadata": {
            "tags": []
          },
          "execution_count": 54
        }
      ]
    },
    {
      "cell_type": "code",
      "metadata": {
        "id": "mTa0VcxnR-gV"
      },
      "source": [
        "xtrain, xtest = train_test_split(x_pca,test_size=0.3, random_state=42)"
      ],
      "execution_count": 55,
      "outputs": []
    },
    {
      "cell_type": "code",
      "metadata": {
        "colab": {
          "base_uri": "https://localhost:8080/"
        },
        "id": "Kf_GO-UzSX0Q",
        "outputId": "fc3ac36f-5765-409c-e24b-c4b37cc00318"
      },
      "source": [
        "np.random.seed(42)\r\n",
        "b = np.random.randn(31)\r\n",
        "w = np.random.randn(31)\r\n",
        "lr = 0.01\r\n",
        "epochs = 500\r\n",
        "\r\n",
        "lastloss = 0       \r\n",
        "for epoch in range(epochs):\r\n",
        "    error = ytrain - np.sum((w*xtrain) + b , axis = 1)\r\n",
        "    loss = (error**2).mean()\r\n",
        "\r\n",
        "    if abs(lastloss- loss)<0.01 :\r\n",
        "      break\r\n",
        "    \r\n",
        "    lastloss = loss    \r\n",
        "\r\n",
        "    if loss > 10**50 :\r\n",
        "      break\r\n",
        "\r\n",
        "    if (epoch+1) % 10 == 0:    \r\n",
        "        print('epoch ' + str(epoch+1)+'  loss: ' + str(loss))\r\n",
        "    \r\n",
        "    wgrad = [0] * xtrain.shape[1]\r\n",
        "    bgrad = 0\r\n",
        "    \r\n",
        "    for i in range(xtrain.shape[1]):\r\n",
        "        wgrad[i] = -1 * (xtrain[:,i] * error).mean()\r\n",
        "        w[i] = w[i] - (lr * wgrad[i])\r\n",
        "        \r\n",
        "    bgrad = -1 * error.mean()\r\n",
        "    b = b - (lr*bgrad)\r\n",
        "              "
      ],
      "execution_count": 56,
      "outputs": [
        {
          "output_type": "stream",
          "text": [
            "epoch 10  loss: 897.7627599207945\n",
            "epoch 20  loss: 862.3825286715968\n",
            "epoch 30  loss: 836.4478560483559\n",
            "epoch 40  loss: 811.9638857704922\n",
            "epoch 50  loss: 788.8084426948412\n",
            "epoch 60  loss: 766.8756287938926\n",
            "epoch 70  loss: 746.0698913103153\n",
            "epoch 80  loss: 726.3049236947604\n",
            "epoch 90  loss: 707.5026895306295\n",
            "epoch 100  loss: 689.5925532431163\n",
            "epoch 110  loss: 672.5105057042528\n",
            "epoch 120  loss: 656.1984741844673\n",
            "epoch 130  loss: 640.6037072861429\n",
            "epoch 140  loss: 625.6782265464117\n",
            "epoch 150  loss: 611.3783373280894\n",
            "epoch 160  loss: 597.6641924452117\n",
            "epoch 170  loss: 584.4994027027041\n",
            "epoch 180  loss: 571.8506891809338\n",
            "epoch 190  loss: 559.6875726728795\n",
            "epoch 200  loss: 547.9820961942511\n",
            "epoch 210  loss: 536.7085769416733\n",
            "epoch 220  loss: 525.8433844769837\n",
            "epoch 230  loss: 515.3647422746004\n",
            "epoch 240  loss: 505.2525500862552\n",
            "epoch 250  loss: 495.48822485991593\n",
            "epoch 260  loss: 486.0545582004767\n",
            "epoch 270  loss: 476.93558858183997\n",
            "epoch 280  loss: 468.11648671833456\n",
            "epoch 290  loss: 459.58345267843083\n",
            "epoch 300  loss: 451.3236234801344\n",
            "epoch 310  loss: 443.3249900453437\n",
            "epoch 320  loss: 435.57632251455277\n",
            "epoch 330  loss: 428.0671030318043\n",
            "epoch 340  loss: 420.7874652074478\n",
            "epoch 350  loss: 413.7281395530332\n",
            "epoch 360  loss: 406.8804042587856\n",
            "epoch 370  loss: 400.2360407533142\n",
            "epoch 380  loss: 393.7872935453713\n",
            "epoch 390  loss: 387.52683390201037\n",
            "epoch 400  loss: 381.4477269653344\n",
            "epoch 410  loss: 375.5434019529973\n",
            "epoch 420  loss: 369.8076251257512\n",
            "epoch 430  loss: 364.23447523924835\n",
            "epoch 440  loss: 358.8183212273506\n",
            "epoch 450  loss: 353.55380189161065\n",
            "epoch 460  loss: 348.43580739479836\n",
            "epoch 470  loss: 343.4594623785806\n",
            "epoch 480  loss: 338.6201105437105\n",
            "epoch 490  loss: 333.9133005486284\n",
            "epoch 500  loss: 329.33477309716454\n"
          ],
          "name": "stdout"
        }
      ]
    },
    {
      "cell_type": "code",
      "metadata": {
        "colab": {
          "base_uri": "https://localhost:8080/",
          "height": 206
        },
        "id": "ldX2syb_SqeT",
        "outputId": "a38a2971-1fb4-4679-cda7-a0a30af36953"
      },
      "source": [
        "ypred = np.sum((w*xtest) + b , axis = 1)\r\n",
        "df = pd.DataFrame({'test':ytest,'predict':ypred})\r\n",
        "df.head()"
      ],
      "execution_count": 57,
      "outputs": [
        {
          "output_type": "execute_result",
          "data": {
            "text/html": [
              "<div>\n",
              "<style scoped>\n",
              "    .dataframe tbody tr th:only-of-type {\n",
              "        vertical-align: middle;\n",
              "    }\n",
              "\n",
              "    .dataframe tbody tr th {\n",
              "        vertical-align: top;\n",
              "    }\n",
              "\n",
              "    .dataframe thead th {\n",
              "        text-align: right;\n",
              "    }\n",
              "</style>\n",
              "<table border=\"1\" class=\"dataframe\">\n",
              "  <thead>\n",
              "    <tr style=\"text-align: right;\">\n",
              "      <th></th>\n",
              "      <th>test</th>\n",
              "      <th>predict</th>\n",
              "    </tr>\n",
              "  </thead>\n",
              "  <tbody>\n",
              "    <tr>\n",
              "      <th>67473</th>\n",
              "      <td>40.0</td>\n",
              "      <td>62.395253</td>\n",
              "    </tr>\n",
              "    <tr>\n",
              "      <th>258559</th>\n",
              "      <td>72.0</td>\n",
              "      <td>68.118409</td>\n",
              "    </tr>\n",
              "    <tr>\n",
              "      <th>67004</th>\n",
              "      <td>70.0</td>\n",
              "      <td>74.800537</td>\n",
              "    </tr>\n",
              "    <tr>\n",
              "      <th>163767</th>\n",
              "      <td>85.0</td>\n",
              "      <td>74.840551</td>\n",
              "    </tr>\n",
              "    <tr>\n",
              "      <th>77978</th>\n",
              "      <td>73.5</td>\n",
              "      <td>68.075377</td>\n",
              "    </tr>\n",
              "  </tbody>\n",
              "</table>\n",
              "</div>"
            ],
            "text/plain": [
              "        test    predict\n",
              "67473   40.0  62.395253\n",
              "258559  72.0  68.118409\n",
              "67004   70.0  74.800537\n",
              "163767  85.0  74.840551\n",
              "77978   73.5  68.075377"
            ]
          },
          "metadata": {
            "tags": []
          },
          "execution_count": 57
        }
      ]
    },
    {
      "cell_type": "code",
      "metadata": {
        "colab": {
          "base_uri": "https://localhost:8080/"
        },
        "id": "OwxxWK0lSzWD",
        "outputId": "ddcb14a7-7530-44ba-eaa7-a3c6dcfccff9"
      },
      "source": [
        "sum =0\r\n",
        "N = len(ytest.values)\r\n",
        "for i in range(N):\r\n",
        "  if (ypred[i]<ytest.values[i]*1.15) and (ypred[i]>ytest.values[i]*0.85):\r\n",
        "    sum = sum + 1\r\n",
        "print('accuracy : ' + str(sum/N)) "
      ],
      "execution_count": 58,
      "outputs": [
        {
          "output_type": "stream",
          "text": [
            "accuracy : 0.6026796026796026\n"
          ],
          "name": "stdout"
        }
      ]
    },
    {
      "cell_type": "code",
      "metadata": {
        "colab": {
          "base_uri": "https://localhost:8080/"
        },
        "id": "GP5sPz9nUxWD",
        "outputId": "83a00c31-2378-4380-e8bd-521470c4c95e"
      },
      "source": [
        "pca = PCA(0.8)\r\n",
        "x_pca = pca.fit_transform(x)\r\n",
        "x_pca.shape"
      ],
      "execution_count": 59,
      "outputs": [
        {
          "output_type": "execute_result",
          "data": {
            "text/plain": [
              "(259737, 21)"
            ]
          },
          "metadata": {
            "tags": []
          },
          "execution_count": 59
        }
      ]
    },
    {
      "cell_type": "code",
      "metadata": {
        "id": "oaILHvJtU0ND"
      },
      "source": [
        "xtrain, xtest = train_test_split(x_pca,test_size=0.3, random_state=42)"
      ],
      "execution_count": 60,
      "outputs": []
    },
    {
      "cell_type": "code",
      "metadata": {
        "colab": {
          "base_uri": "https://localhost:8080/"
        },
        "id": "NBqPfy8QU6py",
        "outputId": "9d4e3a83-faf1-4533-fd83-c1dff07abcb6"
      },
      "source": [
        "np.random.seed(42)\r\n",
        "b = np.random.randn(21)\r\n",
        "w = np.random.randn(21)\r\n",
        "lr = 0.01\r\n",
        "epochs = 500\r\n",
        "\r\n",
        "lastloss = 0       \r\n",
        "for epoch in range(epochs):\r\n",
        "    error = ytrain - np.sum((w*xtrain) + b , axis = 1)\r\n",
        "    loss = (error**2).mean()\r\n",
        "\r\n",
        "    if abs(lastloss- loss)<0.01 :\r\n",
        "      break\r\n",
        "    \r\n",
        "    lastloss = loss    \r\n",
        "\r\n",
        "    if loss > 10**50 :\r\n",
        "      break\r\n",
        "\r\n",
        "    if (epoch+1) % 10 == 0:    \r\n",
        "        print('epoch ' + str(epoch+1)+'  loss: ' + str(loss))\r\n",
        "    \r\n",
        "    wgrad = [0] * xtrain.shape[1]\r\n",
        "    bgrad = 0\r\n",
        "    \r\n",
        "    for i in range(xtrain.shape[1]):\r\n",
        "        wgrad[i] = -1 * (xtrain[:,i] * error).mean()\r\n",
        "        w[i] = w[i] - (lr * wgrad[i])\r\n",
        "        \r\n",
        "    bgrad = -1 * error.mean()\r\n",
        "    b = b - (lr*bgrad)\r\n",
        "              "
      ],
      "execution_count": 61,
      "outputs": [
        {
          "output_type": "stream",
          "text": [
            "epoch 10  loss: 1066.2887029093458\n",
            "epoch 20  loss: 954.0962240777844\n",
            "epoch 30  loss: 922.9851563740035\n",
            "epoch 40  loss: 894.3882817580477\n",
            "epoch 50  loss: 867.4488786821465\n",
            "epoch 60  loss: 842.0223416030262\n",
            "epoch 70  loss: 817.984230032822\n",
            "epoch 80  loss: 795.2225763098678\n",
            "epoch 90  loss: 773.6364931277981\n",
            "epoch 100  loss: 753.1349844064939\n",
            "epoch 110  loss: 733.6358883223675\n",
            "epoch 120  loss: 715.0649372047071\n",
            "epoch 130  loss: 697.3549211689735\n",
            "epoch 140  loss: 680.4449438477596\n",
            "epoch 150  loss: 664.2797598996016\n",
            "epoch 160  loss: 648.8091851421703\n",
            "epoch 170  loss: 633.987571191753\n",
            "epoch 180  loss: 619.7733374078526\n",
            "epoch 190  loss: 606.1285537543708\n",
            "epoch 200  loss: 593.0185689094852\n",
            "epoch 210  loss: 580.4116785944591\n",
            "epoch 220  loss: 568.2788296584026\n",
            "epoch 230  loss: 556.5933559571555\n",
            "epoch 240  loss: 545.3307425100284\n",
            "epoch 250  loss: 534.468414812718\n",
            "epoch 260  loss: 523.9855505340457\n",
            "epoch 270  loss: 513.8629111355115\n",
            "epoch 280  loss: 504.082691227015\n",
            "epoch 290  loss: 494.6283837168923\n",
            "epoch 300  loss: 485.4846590308044\n",
            "epoch 310  loss: 476.63725686639003\n",
            "epoch 320  loss: 468.07288912080026\n",
            "epoch 330  loss: 459.77915278030673\n",
            "epoch 340  loss: 451.7444516946432\n",
            "epoch 350  loss: 443.95792627877813\n",
            "epoch 360  loss: 436.40939029024514\n",
            "epoch 370  loss: 429.0892739242184\n",
            "epoch 380  loss: 421.98857255239955\n",
            "epoch 390  loss: 415.0988005050636\n",
            "epoch 400  loss: 408.4119493626617\n",
            "epoch 410  loss: 401.92045028077143\n",
            "epoch 420  loss: 395.6171399248613\n",
            "epoch 430  loss: 389.49522963735797\n",
            "epoch 440  loss: 383.5482775005226\n",
            "epoch 450  loss: 377.7701629951356\n",
            "epoch 460  loss: 372.15506398772067\n",
            "epoch 470  loss: 366.69743580735775\n",
            "epoch 480  loss: 361.3919921995964\n",
            "epoch 490  loss: 356.23368796702766\n",
            "epoch 500  loss: 351.2177031270366\n"
          ],
          "name": "stdout"
        }
      ]
    },
    {
      "cell_type": "code",
      "metadata": {
        "colab": {
          "base_uri": "https://localhost:8080/",
          "height": 206
        },
        "id": "a05VetHOU7pe",
        "outputId": "4446fc31-8b2f-4459-c1b2-f53a45f692e0"
      },
      "source": [
        "ypred = np.sum((w*xtest) + b , axis = 1)\r\n",
        "df = pd.DataFrame({'test':ytest,'predict':ypred})\r\n",
        "df.head()"
      ],
      "execution_count": 62,
      "outputs": [
        {
          "output_type": "execute_result",
          "data": {
            "text/html": [
              "<div>\n",
              "<style scoped>\n",
              "    .dataframe tbody tr th:only-of-type {\n",
              "        vertical-align: middle;\n",
              "    }\n",
              "\n",
              "    .dataframe tbody tr th {\n",
              "        vertical-align: top;\n",
              "    }\n",
              "\n",
              "    .dataframe thead th {\n",
              "        text-align: right;\n",
              "    }\n",
              "</style>\n",
              "<table border=\"1\" class=\"dataframe\">\n",
              "  <thead>\n",
              "    <tr style=\"text-align: right;\">\n",
              "      <th></th>\n",
              "      <th>test</th>\n",
              "      <th>predict</th>\n",
              "    </tr>\n",
              "  </thead>\n",
              "  <tbody>\n",
              "    <tr>\n",
              "      <th>67473</th>\n",
              "      <td>40.0</td>\n",
              "      <td>63.067706</td>\n",
              "    </tr>\n",
              "    <tr>\n",
              "      <th>258559</th>\n",
              "      <td>72.0</td>\n",
              "      <td>67.911885</td>\n",
              "    </tr>\n",
              "    <tr>\n",
              "      <th>67004</th>\n",
              "      <td>70.0</td>\n",
              "      <td>74.045873</td>\n",
              "    </tr>\n",
              "    <tr>\n",
              "      <th>163767</th>\n",
              "      <td>85.0</td>\n",
              "      <td>76.040024</td>\n",
              "    </tr>\n",
              "    <tr>\n",
              "      <th>77978</th>\n",
              "      <td>73.5</td>\n",
              "      <td>68.364882</td>\n",
              "    </tr>\n",
              "  </tbody>\n",
              "</table>\n",
              "</div>"
            ],
            "text/plain": [
              "        test    predict\n",
              "67473   40.0  63.067706\n",
              "258559  72.0  67.911885\n",
              "67004   70.0  74.045873\n",
              "163767  85.0  76.040024\n",
              "77978   73.5  68.364882"
            ]
          },
          "metadata": {
            "tags": []
          },
          "execution_count": 62
        }
      ]
    },
    {
      "cell_type": "code",
      "metadata": {
        "colab": {
          "base_uri": "https://localhost:8080/"
        },
        "id": "Ef0ttRnhU9sy",
        "outputId": "6c428421-3e83-4fe5-c341-4dce85ff6af0"
      },
      "source": [
        "sum =0\r\n",
        "N = len(ytest.values)\r\n",
        "for i in range(N):\r\n",
        "  if (ypred[i]<ytest.values[i]*1.15) and (ypred[i]>ytest.values[i]*0.85):\r\n",
        "    sum = sum + 1\r\n",
        "print('accuracy : ' + str(sum/N)) "
      ],
      "execution_count": 63,
      "outputs": [
        {
          "output_type": "stream",
          "text": [
            "accuracy : 0.5851749185082519\n"
          ],
          "name": "stdout"
        }
      ]
    },
    {
      "cell_type": "code",
      "metadata": {
        "colab": {
          "base_uri": "https://localhost:8080/"
        },
        "id": "adEAQIsNVrAy",
        "outputId": "4240c9f8-7b6f-4b7e-df8d-635f701a0362"
      },
      "source": [
        "pca = PCA(0.98)\r\n",
        "x_pca = pca.fit_transform(x)\r\n",
        "x_pca.shape"
      ],
      "execution_count": 64,
      "outputs": [
        {
          "output_type": "execute_result",
          "data": {
            "text/plain": [
              "(259737, 51)"
            ]
          },
          "metadata": {
            "tags": []
          },
          "execution_count": 64
        }
      ]
    },
    {
      "cell_type": "code",
      "metadata": {
        "id": "fCgixL_7Vsh5"
      },
      "source": [
        "xtrain, xtest = train_test_split(x_pca,test_size=0.3, random_state=42)"
      ],
      "execution_count": 65,
      "outputs": []
    },
    {
      "cell_type": "code",
      "metadata": {
        "colab": {
          "base_uri": "https://localhost:8080/"
        },
        "id": "21Q5q2tyVuxw",
        "outputId": "e1791075-1bbf-4dba-d5a3-b1eb13ed7cb2"
      },
      "source": [
        "np.random.seed(42)\r\n",
        "b = np.random.randn(51)\r\n",
        "w = np.random.randn(51)\r\n",
        "lr = 0.01\r\n",
        "epochs = 500\r\n",
        "\r\n",
        "lastloss = 0       \r\n",
        "for epoch in range(epochs):\r\n",
        "    error = ytrain - np.sum((w*xtrain) + b , axis = 1)\r\n",
        "    loss = (error**2).mean()\r\n",
        "\r\n",
        "    if abs(lastloss- loss)<0.01 :\r\n",
        "      break\r\n",
        "    \r\n",
        "    lastloss = loss    \r\n",
        "\r\n",
        "    if loss > 10**50 :\r\n",
        "      break\r\n",
        "\r\n",
        "    if (epoch+1) % 10 == 0:    \r\n",
        "        print('epoch ' + str(epoch+1)+'  loss: ' + str(loss))\r\n",
        "    \r\n",
        "    wgrad = [0] * xtrain.shape[1]\r\n",
        "    bgrad = 0\r\n",
        "    \r\n",
        "    for i in range(xtrain.shape[1]):\r\n",
        "        wgrad[i] = -1 * (xtrain[:,i] * error).mean()\r\n",
        "        w[i] = w[i] - (lr * wgrad[i])\r\n",
        "        \r\n",
        "    bgrad = -1 * error.mean()\r\n",
        "    b = b - (lr*bgrad)\r\n",
        "              "
      ],
      "execution_count": 66,
      "outputs": [
        {
          "output_type": "stream",
          "text": [
            "epoch 10  loss: 982.4554934620954\n",
            "epoch 20  loss: 949.3609261903641\n",
            "epoch 30  loss: 918.3271420286694\n",
            "epoch 40  loss: 889.1572294231427\n",
            "epoch 50  loss: 861.6911625366323\n",
            "epoch 60  loss: 835.7851687965233\n",
            "epoch 70  loss: 811.3099684872932\n",
            "epoch 80  loss: 788.1492100548802\n",
            "epoch 90  loss: 766.1980790772764\n",
            "epoch 100  loss: 745.3620613676655\n",
            "epoch 110  loss: 725.5558428907863\n",
            "epoch 120  loss: 706.7023311344358\n",
            "epoch 130  loss: 688.7317843175522\n",
            "epoch 140  loss: 671.5810363561558\n",
            "epoch 150  loss: 655.1928068742761\n",
            "epoch 160  loss: 639.5150867565953\n",
            "epoch 170  loss: 624.5005908125199\n",
            "epoch 180  loss: 610.1062700717206\n",
            "epoch 190  loss: 596.2928770743188\n",
            "epoch 200  loss: 583.0245782656523\n",
            "epoch 210  loss: 570.2686082682413\n",
            "epoch 220  loss: 557.9949613912764\n",
            "epoch 230  loss: 546.1761162577526\n",
            "epoch 240  loss: 534.786789892894\n",
            "epoch 250  loss: 523.8037180255361\n",
            "epoch 260  loss: 513.2054587190587\n",
            "epoch 270  loss: 502.97221676952614\n",
            "epoch 280  loss: 493.0856865955754\n",
            "epoch 290  loss: 483.52891159816323\n",
            "epoch 300  loss: 474.2861581930406\n",
            "epoch 310  loss: 465.3428029192961\n",
            "epoch 320  loss: 456.6852312041168\n",
            "epoch 330  loss: 448.3007465217419\n",
            "epoch 340  loss: 440.1774888241385\n",
            "epoch 350  loss: 432.3043612452022\n",
            "epoch 360  loss: 424.67096419007646\n",
            "epoch 370  loss: 417.2675360198525\n",
            "epoch 380  loss: 410.08489962782244\n",
            "epoch 390  loss: 403.1144142815791\n",
            "epoch 400  loss: 396.3479321732299\n",
            "epoch 410  loss: 389.7777591814786\n",
            "epoch 420  loss: 383.39661940302557\n",
            "epoch 430  loss: 377.19762305920716\n",
            "epoch 440  loss: 371.1742374266818\n",
            "epoch 450  loss: 365.32026047870636\n",
            "epoch 460  loss: 359.62979695780496\n",
            "epoch 470  loss: 354.097236630438\n",
            "epoch 480  loss: 348.7172345013287\n",
            "epoch 490  loss: 343.4846927887554\n",
            "epoch 500  loss: 338.3947444835128\n"
          ],
          "name": "stdout"
        }
      ]
    },
    {
      "cell_type": "code",
      "metadata": {
        "colab": {
          "base_uri": "https://localhost:8080/",
          "height": 206
        },
        "id": "G82CYm65Vynb",
        "outputId": "e83f49d4-080a-4d56-e86a-04923d04a096"
      },
      "source": [
        "ypred = np.sum((w*xtest) + b , axis = 1)\r\n",
        "df = pd.DataFrame({'test':ytest,'predict':ypred})\r\n",
        "df.head()"
      ],
      "execution_count": 67,
      "outputs": [
        {
          "output_type": "execute_result",
          "data": {
            "text/html": [
              "<div>\n",
              "<style scoped>\n",
              "    .dataframe tbody tr th:only-of-type {\n",
              "        vertical-align: middle;\n",
              "    }\n",
              "\n",
              "    .dataframe tbody tr th {\n",
              "        vertical-align: top;\n",
              "    }\n",
              "\n",
              "    .dataframe thead th {\n",
              "        text-align: right;\n",
              "    }\n",
              "</style>\n",
              "<table border=\"1\" class=\"dataframe\">\n",
              "  <thead>\n",
              "    <tr style=\"text-align: right;\">\n",
              "      <th></th>\n",
              "      <th>test</th>\n",
              "      <th>predict</th>\n",
              "    </tr>\n",
              "  </thead>\n",
              "  <tbody>\n",
              "    <tr>\n",
              "      <th>67473</th>\n",
              "      <td>40.0</td>\n",
              "      <td>60.541746</td>\n",
              "    </tr>\n",
              "    <tr>\n",
              "      <th>258559</th>\n",
              "      <td>72.0</td>\n",
              "      <td>68.783900</td>\n",
              "    </tr>\n",
              "    <tr>\n",
              "      <th>67004</th>\n",
              "      <td>70.0</td>\n",
              "      <td>73.492087</td>\n",
              "    </tr>\n",
              "    <tr>\n",
              "      <th>163767</th>\n",
              "      <td>85.0</td>\n",
              "      <td>75.967772</td>\n",
              "    </tr>\n",
              "    <tr>\n",
              "      <th>77978</th>\n",
              "      <td>73.5</td>\n",
              "      <td>67.826641</td>\n",
              "    </tr>\n",
              "  </tbody>\n",
              "</table>\n",
              "</div>"
            ],
            "text/plain": [
              "        test    predict\n",
              "67473   40.0  60.541746\n",
              "258559  72.0  68.783900\n",
              "67004   70.0  73.492087\n",
              "163767  85.0  75.967772\n",
              "77978   73.5  67.826641"
            ]
          },
          "metadata": {
            "tags": []
          },
          "execution_count": 67
        }
      ]
    },
    {
      "cell_type": "code",
      "metadata": {
        "colab": {
          "base_uri": "https://localhost:8080/"
        },
        "id": "ILnYKpFqVzEj",
        "outputId": "946fd0ac-ecf2-48d2-8b50-ff2bbb7f0aa6"
      },
      "source": [
        "sum =0\r\n",
        "N = len(ytest.values)\r\n",
        "for i in range(N):\r\n",
        "  if (ypred[i]<ytest.values[i]*1.15) and (ypred[i]>ytest.values[i]*0.85):\r\n",
        "    sum = sum + 1\r\n",
        "print('accuracy : ' + str(sum/N)) "
      ],
      "execution_count": 68,
      "outputs": [
        {
          "output_type": "stream",
          "text": [
            "accuracy : 0.5949154282487615\n"
          ],
          "name": "stdout"
        }
      ]
    }
  ]
}